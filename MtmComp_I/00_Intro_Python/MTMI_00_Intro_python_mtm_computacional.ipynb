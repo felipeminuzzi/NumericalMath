{
  "cells": [
    {
      "cell_type": "markdown",
      "metadata": {
        "id": "LI3pYdpLat6m"
      },
      "source": [
        "# Matemática Computacional I\n",
        "- Prof. Felipe C. Minuzzi\n",
        "- felipe.minuzzi@ufsm.br\n",
        "\n",
        "## Introdução ao Python\n",
        "\n",
        "A linguagem de programação `Python` é uma linguagem de alto padrão, orientada a objetos que se mantém de forma colaborativa e aberta. A página oficial é: [https://www.python.org/](https://www.python.org/).\n",
        "\n",
        "Utilizaremos fortemente o conceito de **notebook**, que permite criar códigos em python, em uma sintaxe combinada com documentação e com visualização direta dos resultados, ou seja, não precisamos nos preocupar com compilação de arquivos do tipo `.py`.\n",
        "\n",
        "Existem duas principais maneiras de trabalhar com notebooks: o [Jupyter Notebook](https://jupyter.org/) e [Google Colab](https://colab.research.google.com/). Ambos são similares em sua sintaxe, porém o segundo permite um desenvolvimento colaborativo sem a instalação de qualquer programa, ou seja, basta acessar e usar. Já o primeiro requer a instalação dos pacotes do Jupyter e do próprio. Outro motivo que joga a favor do **Colab** é que não precisamos nos preocupar com dependências.\n",
        "\n",
        "**Para quem quiser baixar localmente o Jupyter Notebook e instalar os pacotes:**\n",
        "Nesse caso, sugiro seguir esse [tutorial](https://pythonnumericalmethods.berkeley.edu/notebooks/chapter01.01-Getting-Started-with-Python.html) para SO Linux e Mac OS, e [aqui](https://pythonnumericalmethods.berkeley.edu/notebooks/Appendix01-Getting-Started-with-Python-Windows.html#) para Windows. \n",
        "\n",
        "## Algumas definições importantes:\n",
        "\n",
        "Em python, existem os seguintes formatos de números:\n",
        " - **Inteiro**: classe int\n",
        " - **Não inteiros:** classe float\n",
        " - **Complexos:** classe complex\n",
        " - **Variáveis não numéricas:** classe string\n",
        " - **Booleano:** True ou False (1 ou 0)\n",
        "\n",
        "Relativo as operadores de comparação, temos:\n",
        "\n",
        "Operação | Nome | Aplicação | Exemplo | Resposta\n",
        "--------- | ------ | --------- | --------- |  ---------\n",
        "> | Maior que | `x > y` | 5 > 4 | True\n",
        "< | Menor que | `x < y` | 5 < 4 | False\n",
        "==  | Igual a | `x == y` | 10 == 15 | False\n",
        "!=  | Diferente de | `x != y` | 10 != 15 | True  \n",
        ">=  | Maior ou igual a  | `x >= y` | 10 >= 15 | False\n",
        "<=  | Menor ou igual a  | `x <= y` | 10 <= 10 | True\n",
        "\n",
        "As operações matemáticas elementares são definidas por:\n",
        " - `+` adição  \n",
        " - `-` subtração  \n",
        " - `*` multiplicação  \n",
        " - `/` divisão  \n",
        " - `**` potenciação\n"
      ]
    },
    {
      "cell_type": "code",
      "execution_count": null,
      "metadata": {
        "colab": {
          "base_uri": "https://localhost:8080/"
        },
        "id": "d11YU22yAboB",
        "outputId": "0ad3a8fb-5cdd-4b0c-cffd-f27c77eea51d"
      },
      "outputs": [],
      "source": [
        "5 == 5"
      ]
    },
    {
      "cell_type": "code",
      "execution_count": null,
      "metadata": {
        "colab": {
          "base_uri": "https://localhost:8080/"
        },
        "id": "4XPFDQ4N6bsD",
        "outputId": "30c84ff3-8168-4422-eb39-2e5d35591f7e"
      },
      "outputs": [],
      "source": [
        "4 != 6"
      ]
    },
    {
      "cell_type": "code",
      "execution_count": null,
      "metadata": {
        "colab": {
          "base_uri": "https://localhost:8080/"
        },
        "id": "8e3WB-8zBTVb",
        "outputId": "f5c9f30d-71b9-497b-b4e9-eeb36def6881"
      },
      "outputs": [],
      "source": [
        "6 >= 6"
      ]
    },
    {
      "cell_type": "code",
      "execution_count": null,
      "metadata": {
        "id": "ObQEv-zZd0i-"
      },
      "outputs": [],
      "source": [
        "x = 8\n",
        "y = 6\n",
        "z = -5"
      ]
    },
    {
      "cell_type": "code",
      "execution_count": null,
      "metadata": {
        "colab": {
          "base_uri": "https://localhost:8080/"
        },
        "id": "472J0EQ76Fv7",
        "outputId": "5796e3fe-2498-45c3-8417-f4a25b5b38c2"
      },
      "outputs": [],
      "source": [
        "x + y - z"
      ]
    },
    {
      "cell_type": "code",
      "execution_count": null,
      "metadata": {
        "colab": {
          "base_uri": "https://localhost:8080/"
        },
        "id": "jBu-_Fhm7Jge",
        "outputId": "198a85f8-66b7-49c9-d4b0-722b723051bb"
      },
      "outputs": [],
      "source": [
        "w = ((x**y) + z**2)/3\n",
        "print(w)"
      ]
    },
    {
      "cell_type": "markdown",
      "metadata": {},
      "source": [
        "Em python, atribuir um valor a uma variável apenas define aquela variável:"
      ]
    },
    {
      "cell_type": "code",
      "execution_count": null,
      "metadata": {
        "colab": {
          "base_uri": "https://localhost:8080/"
        },
        "id": "63wASwU_92WU",
        "outputId": "1fe55b56-74cb-47fa-f470-dab6fc4d4cd1"
      },
      "outputs": [],
      "source": [
        "x = -10"
      ]
    },
    {
      "cell_type": "code",
      "execution_count": null,
      "metadata": {},
      "outputs": [],
      "source": [
        "print(x**2)"
      ]
    },
    {
      "cell_type": "markdown",
      "metadata": {},
      "source": [
        "Divisão entre números:"
      ]
    },
    {
      "cell_type": "code",
      "execution_count": null,
      "metadata": {},
      "outputs": [],
      "source": [
        "7/3"
      ]
    },
    {
      "cell_type": "code",
      "execution_count": null,
      "metadata": {},
      "outputs": [],
      "source": [
        "7//3"
      ]
    },
    {
      "cell_type": "markdown",
      "metadata": {},
      "source": [
        "A divisão entre inteiros em Python 3 resulta em um número real (ao contrário de Python 2, onde resulta somente a parte inteira)."
      ]
    },
    {
      "cell_type": "code",
      "execution_count": null,
      "metadata": {},
      "outputs": [],
      "source": [
        "3/0"
      ]
    },
    {
      "cell_type": "markdown",
      "metadata": {},
      "source": [
        "Outro tipo de número que podemos representar é os complexos, onde a unidade imaginária é repreentada por `j`"
      ]
    },
    {
      "cell_type": "code",
      "execution_count": null,
      "metadata": {},
      "outputs": [],
      "source": [
        "2 + 3j"
      ]
    },
    {
      "cell_type": "markdown",
      "metadata": {},
      "source": [
        "Podemos calcular o módulo desse número complexo:"
      ]
    },
    {
      "cell_type": "code",
      "execution_count": null,
      "metadata": {},
      "outputs": [],
      "source": [
        "abs(2+3j)"
      ]
    },
    {
      "cell_type": "markdown",
      "metadata": {},
      "source": [
        "Ou ainda, podemos utilizar a sintaxe `_#cell` para carregar a saída da célula e usá-la em outro lugar:"
      ]
    },
    {
      "cell_type": "code",
      "execution_count": null,
      "metadata": {},
      "outputs": [],
      "source": [
        "abs(_9)"
      ]
    },
    {
      "cell_type": "markdown",
      "metadata": {},
      "source": [
        "Note a diferença se utilizarmos `abs` para um número que não é complexo"
      ]
    },
    {
      "cell_type": "code",
      "execution_count": null,
      "metadata": {},
      "outputs": [],
      "source": [
        "abs(-6.7)"
      ]
    },
    {
      "cell_type": "markdown",
      "metadata": {},
      "source": [
        "E o que acontece se tentarmos comparar números complexos?"
      ]
    },
    {
      "cell_type": "code",
      "execution_count": null,
      "metadata": {},
      "outputs": [],
      "source": [
        "1 - 3j > 2 + 1j"
      ]
    },
    {
      "cell_type": "markdown",
      "metadata": {},
      "source": [
        "A ordem também influencia strings:"
      ]
    },
    {
      "cell_type": "code",
      "execution_count": null,
      "metadata": {},
      "outputs": [],
      "source": [
        "'aaab' < 'aaabb'"
      ]
    },
    {
      "cell_type": "markdown",
      "metadata": {},
      "source": [
        "## Trabalhando com listas:\n",
        "\n",
        "Além dos tipos numéricos e de caracteres, as listas bastante úteis em computação numérica e em python.\n",
        "\n",
        "As listas são um tipo de variável muito útil no Python. Uma lista pode conter uma série de valores. As variáveis de lista são declaradas usando colchetes [] após o nome da variável.\n",
        "\n",
        "Por exemplo:"
      ]
    },
    {
      "cell_type": "code",
      "execution_count": null,
      "metadata": {},
      "outputs": [],
      "source": [
        "lista = [1,2,3,4,5,6,7,8,9,10]\n",
        "print(lista)"
      ]
    },
    {
      "cell_type": "code",
      "execution_count": null,
      "metadata": {},
      "outputs": [],
      "source": [
        "type(lista)"
      ]
    },
    {
      "cell_type": "code",
      "execution_count": null,
      "metadata": {},
      "outputs": [],
      "source": [
        "print(len(lista))"
      ]
    },
    {
      "cell_type": "markdown",
      "metadata": {},
      "source": [
        "As listas **não** são vetores no sentido da algebra linear, pois a soma de listas é simplesmente a justaposição. Multiplicar uma lista (ou sequência) por um inteiro é simplesmente repetir a lista esse número de vezes"
      ]
    },
    {
      "cell_type": "code",
      "execution_count": null,
      "metadata": {},
      "outputs": [],
      "source": [
        "[1,2,3,4] + ['gato', 'cachorro']"
      ]
    },
    {
      "cell_type": "code",
      "execution_count": null,
      "metadata": {},
      "outputs": [],
      "source": [
        "['maça', 2]*10"
      ]
    },
    {
      "cell_type": "code",
      "execution_count": null,
      "metadata": {},
      "outputs": [],
      "source": [
        "exemplo_lista = [1, 2, 3.0, 4 + 0j, \"5\",\"abacaxi\"]\n",
        "b = 2*exemplo_lista\n",
        "c = exemplo_lista*2\n",
        "print(b)\n",
        "print(c)"
      ]
    },
    {
      "cell_type": "markdown",
      "metadata": {},
      "source": [
        "Podemos manipular de diversas maneiras as listas:"
      ]
    },
    {
      "cell_type": "code",
      "execution_count": null,
      "metadata": {},
      "outputs": [],
      "source": [
        "#checar se um elemento está em uma lista:\n",
        "4 in lista"
      ]
    },
    {
      "cell_type": "code",
      "execution_count": null,
      "metadata": {},
      "outputs": [],
      "source": [
        "#adicionando um elemento a uma lista:\n",
        "lista.append(78)\n",
        "print(lista)"
      ]
    },
    {
      "cell_type": "code",
      "execution_count": null,
      "metadata": {},
      "outputs": [],
      "source": [
        "#eliminar um elemento da lista:\n",
        "lista.remove(2)\n",
        "print(lista)"
      ]
    },
    {
      "cell_type": "code",
      "execution_count": null,
      "metadata": {},
      "outputs": [],
      "source": [
        "#e podemos eliminar dependendo da posição dele na lista:\n",
        "lista.pop(3) #elimina o elemento da posição 3\n",
        "print(lista)"
      ]
    },
    {
      "cell_type": "markdown",
      "metadata": {},
      "source": [
        "No exemplo acima, o que chama a atenção?\n",
        "\n",
        "Podemos manipular elementos da lista:"
      ]
    },
    {
      "cell_type": "code",
      "execution_count": null,
      "metadata": {},
      "outputs": [],
      "source": [
        "print(lista[0])  # Primeiro elemento, 1\n",
        "print(lista[1])  # Segundo elemento, 2\n",
        "print(lista[0:4])  # Desde o primeiro até o  quarto. Aqui Python conta \"0,1,2,3\" o elemento \"4\" (que é o quinto da lista) não inclui\n",
        "print(lista[:3])  # Desde o primero até o terceiro, excluíndo este: 1, 2, 3.0 (similar ao exemplo anterior)\n",
        "print(lista[-1])  #  último elemento\n",
        "print(lista[-2])  #  penúltimo elemento\n",
        "print(lista[:])  # Desde o primeiro até o último\n",
        "print(lista[::2])  # Desde o primeiro até o último, pulando 2: 1, 3.0"
      ]
    },
    {
      "cell_type": "markdown",
      "metadata": {},
      "source": [
        "Note que a indexação em python, nativamente, **sempre começa no 0**"
      ]
    },
    {
      "cell_type": "markdown",
      "metadata": {},
      "source": [
        "\n",
        "## Estruturas de controle de fluxo\n",
        "\n",
        "### Condicionais:\n",
        "\n",
        "    if <condition>:\n",
        "        <do something>\n",
        "    elif <condition>:\n",
        "        <do other thing>\n",
        "    else:\n",
        "        <do other thing>\n",
        "\n",
        "**Observação:** Note o espaçamento e a tabulação da sintaxe. Em Python, o `:` delimita o condicional, e tudo que estiver abaixo, dentro de um espaçamento de 4 caracteres, seguirá o fluxo deste condiconal. Voltanto ao espaçamento anterior, \"saímos\" do condicional."
      ]
    },
    {
      "cell_type": "code",
      "execution_count": null,
      "metadata": {
        "colab": {
          "base_uri": "https://localhost:8080/"
        },
        "id": "h69wDlUoB-yY",
        "outputId": "43619a57-752c-44b2-e17b-6c51f988512c"
      },
      "outputs": [],
      "source": [
        "x = 1\n",
        "if (x > 10) & (x != 50):\n",
        "  d = x/6\n",
        "  print('O quadrado de x é:', x**2)\n",
        "elif (x > 10) & (x < 100):\n",
        "  print('O x está entre 10 e 100.')\n",
        "else:\n",
        "  print('O x dividido por 10 é:', x/10)"
      ]
    },
    {
      "cell_type": "code",
      "execution_count": null,
      "metadata": {
        "colab": {
          "base_uri": "https://localhost:8080/"
        },
        "id": "r_3t9QLft7SB",
        "outputId": "cdac837c-458c-4abe-ba3a-028728cc95a7"
      },
      "outputs": [],
      "source": [
        "x = 1\n",
        "if x < 2:\n",
        "  print(f'O x é menor que 2 e vale: {x}')\n",
        "else:\n",
        "  print(f'O valor de x é {x}')"
      ]
    },
    {
      "cell_type": "markdown",
      "metadata": {},
      "source": [
        "Podemos estruturar um condicional usando o booleano:"
      ]
    },
    {
      "cell_type": "code",
      "execution_count": null,
      "metadata": {},
      "outputs": [],
      "source": [
        "if 1 > 0:\n",
        "    print('Sim, 1 é maior que 0')"
      ]
    },
    {
      "cell_type": "code",
      "execution_count": null,
      "metadata": {},
      "outputs": [],
      "source": [
        "x = 2\n",
        "y = 9\n",
        "if x > y:\n",
        "    print(f'{x} é maior que {y}')"
      ]
    },
    {
      "cell_type": "markdown",
      "metadata": {},
      "source": [
        "Qual característica do código acima podemos chamar a atenção?\n",
        "\n",
        "## Estruturas de controle de fluxo\n",
        "\n",
        "### Repetição:\n",
        "\n",
        "Em Python existem dois tipos de estruturas de controle de repetição tipicas:\n",
        "\n",
        "- Loops `while`\n",
        "- Loops `for`\n",
        "\n",
        "Os loops `while` repetiram as sentencias anhidadas enquanto se cumpla uma condición:\n",
        "\n",
        "    while <condition>:\n",
        "        <things to do>\n",
        "        \n",
        "Como no caso dos condicionais, os blocos separam-se por indentação, não havendo  necessidade de sentencias do tipo `end`."
      ]
    },
    {
      "cell_type": "code",
      "execution_count": null,
      "metadata": {},
      "outputs": [],
      "source": [
        "x = -2\n",
        "while x < 5:\n",
        "    print(x)\n",
        "    x = x + 1"
      ]
    },
    {
      "cell_type": "markdown",
      "metadata": {},
      "source": [
        "O que acontece se não atualizarmos o valor de `x` no exemplo acima?\n",
        "Podemos usar também a sintaxe `x += 1` que equivale a `x = x + 1`."
      ]
    },
    {
      "cell_type": "code",
      "execution_count": null,
      "metadata": {},
      "outputs": [],
      "source": [
        "x = -2\n",
        "while x < 5:\n",
        "    print(x)\n",
        "    x += 1"
      ]
    },
    {
      "cell_type": "markdown",
      "metadata": {},
      "source": [
        "No caso de não ter  sido previamente interrompido por um `break`, um bloco `else` executa-se justo depois do loop:"
      ]
    },
    {
      "cell_type": "code",
      "execution_count": null,
      "metadata": {},
      "outputs": [],
      "source": [
        "x = 0\n",
        "while x < 5:\n",
        "    print(x)\n",
        "    x += 1\n",
        "    if x == 3:\n",
        "        break\n",
        "else:\n",
        "    print(\"Loop Terminado\")"
      ]
    },
    {
      "cell_type": "code",
      "execution_count": null,
      "metadata": {},
      "outputs": [],
      "source": [
        "x = 0\n",
        "while x < 5:\n",
        "    print(x)\n",
        "    x += 1\n",
        "    #if ii == 3:\n",
        "        #break\n",
        "else:\n",
        "    print(\"Terminado\")"
      ]
    },
    {
      "cell_type": "markdown",
      "metadata": {},
      "source": [
        "O outro loop indespensável  em Python é `for`, e funciona percorrendo um conjunto definido previamente. \n",
        "\n",
        "    for <element> in <iterable_object>:\n",
        "        <do whatever...>"
      ]
    },
    {
      "cell_type": "code",
      "execution_count": null,
      "metadata": {
        "colab": {
          "base_uri": "https://localhost:8080/"
        },
        "id": "igTXzjV5GOjs",
        "outputId": "6dad4d35-9a2f-4e64-92b9-257b42c9b088"
      },
      "outputs": [],
      "source": [
        "for i in range(3,9):\n",
        "  j = i**2\n",
        "  print('O valor de i é:', i)\n",
        "  print('O valor do j é:', j)\n",
        "  print('Aqui acaba a repetição do bloco')\n",
        "\n",
        "print('Aqui está fora do código')\n",
        "y = 6*8\n",
        "print(y)"
      ]
    },
    {
      "cell_type": "code",
      "execution_count": null,
      "metadata": {
        "colab": {
          "base_uri": "https://localhost:8080/"
        },
        "id": "FRhN32Rg-Q_r",
        "outputId": "43aa35c9-3322-4f41-a1ae-2a1f0aec6b80"
      },
      "outputs": [],
      "source": [
        "#for i in range(inicio, fim-1, step)\n",
        "\n",
        "for i in range(2,20,2):\n",
        "  x = i**2\n",
        "  print(f'O valor de i é: {i} e o valor de x é: {x}')\n",
        "#print('Esse é um texto')"
      ]
    },
    {
      "cell_type": "code",
      "execution_count": null,
      "metadata": {
        "colab": {
          "base_uri": "https://localhost:8080/"
        },
        "id": "SQhk-rNUAKi3",
        "outputId": "be8e9649-1404-42e8-a592-cd29f4fc4689"
      },
      "outputs": [],
      "source": [
        "for i in range(10):\n",
        "  x = i**2\n",
        "  if i >= 8:\n",
        "    print(x)\n",
        "  elif i == 2:\n",
        "    print('O i é igual a 2.')\n",
        "  else:\n",
        "    print(f'O i é menor que 8 e vale {i}')"
      ]
    },
    {
      "cell_type": "markdown",
      "metadata": {},
      "source": [
        "Podemos acessar listas usando o `for`:"
      ]
    },
    {
      "cell_type": "code",
      "execution_count": null,
      "metadata": {
        "colab": {
          "base_uri": "https://localhost:8080/"
        },
        "id": "OqnuRyJxhl-a",
        "outputId": "79e2526f-d650-450c-c412-18578e9e25f7"
      },
      "outputs": [],
      "source": [
        "t = [0.1, 0.2, 0.3, 0.4, 0.5]\n",
        "\n",
        "for elemento in t:\n",
        "  x = elemento**2\n",
        "  print(x)"
      ]
    },
    {
      "cell_type": "code",
      "execution_count": null,
      "metadata": {
        "colab": {
          "base_uri": "https://localhost:8080/"
        },
        "id": "77bc18eXCff-",
        "outputId": "d83ecc90-4dc3-4f5c-e536-7f46c38915da"
      },
      "outputs": [],
      "source": [
        "for i in lista[4:8]:\n",
        "  print(i)"
      ]
    },
    {
      "cell_type": "code",
      "execution_count": null,
      "metadata": {
        "id": "pvWRuoqgC9W2"
      },
      "outputs": [],
      "source": [
        "outra_lista = ['Maça','Banana','Melão','Melancia']\n",
        "\n",
        "for elemento in outra_lista:\n",
        "  if elemento != 'Maça':\n",
        "    print(f'A fruta é {elemento}.')"
      ]
    },
    {
      "cell_type": "code",
      "execution_count": null,
      "metadata": {
        "colab": {
          "base_uri": "https://localhost:8080/"
        },
        "id": "0yn1B08d5Oz8",
        "outputId": "84295f47-dcc5-4053-b81a-ed3346f7ae1d"
      },
      "outputs": [],
      "source": [
        "lista_grande = [[1,2,3], [4,5,6], [7,8,9]]\n",
        "\n",
        "for a in lista_grande:\n",
        "  print(a)\n",
        "  for j in a:\n",
        "    print(j)"
      ]
    },
    {
      "cell_type": "markdown",
      "metadata": {
        "id": "dJCCDLe1KzPR"
      },
      "source": [
        "# Importanto bibliotecas\n",
        "\n",
        "Em python, podemos importar módulos que já possuem funções nativas e que permitem a resolução de alguns tipos de problemas. Uma desses é o ```numpy```, que permite manipular vetores e matrizes, a biblioteca ```math``` que fornece fórmulas matemáticas, ```scipy``` para cálculos científicos, entre inúmeras outras que nos ajudaram na disciplina.\n",
        "\n",
        "Para importar um módulo em python, usamos a seguinte sintaxe:\n",
        "\n",
        "\n",
        "```\n",
        "import (nome da biblioteca)\n",
        "```\n",
        "ou, se queremos dar um 'apelido' a essa, podemos usar\n",
        "\n",
        "```\n",
        "import (nome da biblioteca) as (apelido)\n",
        "```\n",
        "\n",
        "Por exemplo:\n",
        "```\n",
        "import numpy as np\n",
        "import math\n",
        "```\n",
        "\n",
        "Abaixo mostramos alguns exemplos do uso dessas bibliotecas\n"
      ]
    },
    {
      "cell_type": "code",
      "execution_count": null,
      "metadata": {
        "colab": {
          "base_uri": "https://localhost:8080/"
        },
        "id": "VCB6kUxTyY-4",
        "outputId": "55d3b3a5-aa52-4115-c619-48f92001d0b7"
      },
      "outputs": [],
      "source": [
        "import math as mt\n",
        "\n",
        "mt.cos(mt.pi)"
      ]
    },
    {
      "cell_type": "code",
      "execution_count": null,
      "metadata": {
        "colab": {
          "base_uri": "https://localhost:8080/"
        },
        "id": "6c5ITArYLl5A",
        "outputId": "45d636e3-5d47-4821-f6b9-bb85fe18d4bd"
      },
      "outputs": [],
      "source": [
        "import math\n",
        "\n",
        "x = math.cos(math.pi)\n",
        "print(x)\n",
        "\n",
        "z = math.sin(math.pi)\n",
        "print(z)\n",
        "\n",
        "k = math.exp(1)\n",
        "print(k)\n",
        "\n",
        "h = math.log(math.exp(1))\n",
        "print(h)\n",
        "\n",
        "u = math.log10(10)\n",
        "print(u)\n",
        "\n",
        "d = math.sqrt(4)\n",
        "print(d)"
      ]
    },
    {
      "cell_type": "markdown",
      "metadata": {
        "id": "Bncd-WCCMrco"
      },
      "source": [
        "Observe nos exemplos acima que usamos o nome do módulo (nesse caso ```math```), para chamar as funções e comandos específicos. A conexão entre módulo e função se dá por um ponto **( . )**\n",
        "\n",
        "Sendo assim, o comando\n",
        "\n",
        "\n",
        "```\n",
        "math.pi\n",
        "```\n",
        "chama o valor de pi para ser utilizado.\n",
        "Todas funções do módulo podem ser encontradas [nesse link](https://docs.python.org/3/library/math.html?highlight=math#module-math), ou chamando o comando ```help(math)```\n",
        "\n",
        "Abaixo, traremos alguns exemplos do uso do módulo ```numpy```, ótimo para manipulação de vetores e matrizes. Chamaremos ele através do alias np, o qual é usualmente utilizado. A documentação pode ser encontrada [aqui](https://numpy.org/doc/stable/)\n"
      ]
    },
    {
      "cell_type": "code",
      "execution_count": null,
      "metadata": {
        "colab": {
          "base_uri": "https://localhost:8080/"
        },
        "id": "VZsu4ZepMQaE",
        "outputId": "d2d4d17a-8e6b-4e36-8cd5-b96cad68d3d4"
      },
      "outputs": [],
      "source": [
        "import numpy as np\n",
        "\n",
        "#criação de uma matriz 2 x 3\n",
        "A = np.array([[1,2,3],[4,5,6]])\n",
        "A"
      ]
    },
    {
      "cell_type": "code",
      "execution_count": null,
      "metadata": {
        "colab": {
          "base_uri": "https://localhost:8080/"
        },
        "id": "PkkugG-UloK-",
        "outputId": "8613c236-baa2-4fdd-d32b-5a9bc8d7898b"
      },
      "outputs": [],
      "source": [
        "A[-1][-1]"
      ]
    },
    {
      "cell_type": "code",
      "execution_count": null,
      "metadata": {
        "colab": {
          "base_uri": "https://localhost:8080/"
        },
        "id": "YJ3_lFo-Ohhr",
        "outputId": "92d1bd05-7e69-47aa-db83-caf0b947dc4c"
      },
      "outputs": [],
      "source": [
        "np.shape(A)"
      ]
    },
    {
      "cell_type": "code",
      "execution_count": null,
      "metadata": {
        "colab": {
          "base_uri": "https://localhost:8080/"
        },
        "id": "rN09HN0qOq7p",
        "outputId": "1863d078-efd8-4bfa-9287-5bfb0bf53b42"
      },
      "outputs": [],
      "source": [
        "#criação de uma matriz 4 x 6\n",
        "B = np.array([[1,2,3,-1,5,6], [0,-1,9,1,5,6],[1,3,-8,-1,0,1],[3,2,0,-1,0,6]])\n",
        "B"
      ]
    },
    {
      "cell_type": "code",
      "execution_count": null,
      "metadata": {
        "colab": {
          "base_uri": "https://localhost:8080/"
        },
        "id": "AtcCiGj7PF67",
        "outputId": "1484e4d0-242c-472c-cf7a-52f40267e967"
      },
      "outputs": [],
      "source": [
        "np.shape(B)"
      ]
    },
    {
      "cell_type": "code",
      "execution_count": null,
      "metadata": {
        "colab": {
          "base_uri": "https://localhost:8080/"
        },
        "id": "jk7csHuTPH45",
        "outputId": "943d58db-a1d7-4687-ad80-9df815b58c77"
      },
      "outputs": [],
      "source": [
        "vetor = np.array([1,0,1])\n",
        "vetor"
      ]
    },
    {
      "cell_type": "code",
      "execution_count": null,
      "metadata": {
        "colab": {
          "base_uri": "https://localhost:8080/"
        },
        "id": "bU--px-qPLo5",
        "outputId": "e4e39dc1-32a3-4f85-8009-cfd7ac6f90fc"
      },
      "outputs": [],
      "source": [
        "np.shape(vetor)"
      ]
    },
    {
      "cell_type": "code",
      "execution_count": null,
      "metadata": {
        "colab": {
          "base_uri": "https://localhost:8080/"
        },
        "id": "f4AS8EWtcl8u",
        "outputId": "96c45fbf-c263-45dd-ef54-f0102ae1a749"
      },
      "outputs": [],
      "source": [
        "x = np.linspace(0,1)\n",
        "y = x.tolist()\n",
        "print(y)\n",
        "for i in y:\n",
        "  if i < 0.1:\n",
        "    print(i)"
      ]
    },
    {
      "cell_type": "code",
      "execution_count": null,
      "metadata": {
        "colab": {
          "base_uri": "https://localhost:8080/"
        },
        "id": "YcpGBZLFx71s",
        "outputId": "2fefd22b-5fb1-4f95-dfc2-c2a710411ded"
      },
      "outputs": [],
      "source": [
        "import math as mt\n",
        "\n",
        "mt.sqrt(6)"
      ]
    },
    {
      "cell_type": "code",
      "execution_count": null,
      "metadata": {
        "colab": {
          "base_uri": "https://localhost:8080/"
        },
        "id": "Bt7jd-Hj0agf",
        "outputId": "e4338545-b96b-492a-f13f-108535f4172b"
      },
      "outputs": [],
      "source": [
        "import numpy as np\n",
        "import matplotlib.pyplot as plt\n",
        "\n",
        "#sintaxe: np.linspace(inicio do intervalo, fim do intervalo, numero de pontos)\n",
        "x = np.linspace(-10,10,100)\n",
        "x"
      ]
    },
    {
      "cell_type": "code",
      "execution_count": null,
      "metadata": {
        "colab": {
          "base_uri": "https://localhost:8080/"
        },
        "id": "Lyg1x7tp_o2E",
        "outputId": "32cbf278-0781-4980-cb74-97743980c807"
      },
      "outputs": [],
      "source": [
        "y = x**2\n",
        "y"
      ]
    },
    {
      "cell_type": "code",
      "execution_count": null,
      "metadata": {
        "id": "w9t6bjpOBHBt"
      },
      "outputs": [],
      "source": []
    }
  ],
  "metadata": {
    "colab": {
      "provenance": []
    },
    "kernelspec": {
      "display_name": "Python 3",
      "name": "python3"
    },
    "language_info": {
      "codemirror_mode": {
        "name": "ipython",
        "version": 3
      },
      "file_extension": ".py",
      "mimetype": "text/x-python",
      "name": "python",
      "nbconvert_exporter": "python",
      "pygments_lexer": "ipython3",
      "version": "3.10.12"
    }
  },
  "nbformat": 4,
  "nbformat_minor": 0
}
