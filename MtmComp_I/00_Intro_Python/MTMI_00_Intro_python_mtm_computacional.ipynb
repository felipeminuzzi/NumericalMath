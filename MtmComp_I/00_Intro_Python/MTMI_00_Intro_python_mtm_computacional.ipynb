{
  "cells": [
    {
      "cell_type": "markdown",
      "metadata": {
        "id": "LI3pYdpLat6m"
      },
      "source": [
        "# Matemática Computacional I\n",
        "- Prof. Felipe C. Minuzzi\n",
        "- felipe.minuzzi@ufsm.br\n",
        "\n",
        "## Introdução ao Python\n",
        "\n",
        "A linguagem de programação `Python` é uma linguagem de alto padrão, orientada a objetos que se mantém de forma colaborativa e aberta. A página oficial é: [https://www.python.org/](https://www.python.org/).\n",
        "\n",
        "Utilizaremos fortemente o conceito de **notebook**, que permite criar códigos em python, em uma sintaxe combinada com documentação e com visualização direta dos resultados, ou seja, não precisamos nos preocupar com compilação de arquivos do tipo `.py`.\n",
        "\n",
        "Existem duas principais maneiras de trabalhar com notebooks: o [Jupyter Notebook](https://jupyter.org/) e [Google Colab](https://colab.research.google.com/). Ambos são similares em sua sintaxe, porém o segundo permite um desenvolvimento colaborativo sem a instalação de qualquer programa, ou seja, basta acessar e usar. Já o primeiro requer a instalação dos pacotes do Jupyter e do próprio. Outro motivo que joga a favor do **Colab** é que não precisamos nos preocupar com dependências.\n",
        "\n",
        "## Algumas definições importantes:\n",
        "\n",
        "Em python, existem os seguintes formatos de números:\n",
        " - **Inteiro**: classe int\n",
        " - **Não inteiros:** classe float\n",
        " - **Complexos:** classe complex\n",
        " - **Variáveis não numéricas:** classe string\n",
        " - **Booleano:** True ou False (1 ou 0)\n",
        "\n",
        "Relativo as operadores de comparação, temos:\n",
        "\n",
        "Operação | Nome | Aplicação | Exemplo | Resposta\n",
        "--------- | ------ | --------- | --------- |  ---------\n",
        "> | Maior que | `x > y` | 5 > 4 | True\n",
        "< | Menor que | `x < y` | 5 < 4 | False\n",
        "==  | Igual a | `x == y` | 10 == 15 | False\n",
        "!=  | Diferente de | `x != y` | 10 != 15 | True  \n",
        ">=  | Maior ou igual a  | `x >= y` | 10 >= 15 | False\n",
        "<=  | Menor ou igual a  | `x <= y` | 10 <= 10 | True\n",
        "\n",
        "As operações matemáticas elementares são definidas por:\n",
        " - `+` adição  \n",
        " - `-` subtração  \n",
        " - `*` multiplicação  \n",
        " - `/` divisão  \n",
        " - `**` potenciação\n"
      ]
    },
    {
      "cell_type": "code",
      "execution_count": null,
      "metadata": {
        "colab": {
          "base_uri": "https://localhost:8080/"
        },
        "id": "d11YU22yAboB",
        "outputId": "0ad3a8fb-5cdd-4b0c-cffd-f27c77eea51d"
      },
      "outputs": [
        {
          "data": {
            "text/plain": [
              "True"
            ]
          },
          "execution_count": 11,
          "metadata": {},
          "output_type": "execute_result"
        }
      ],
      "source": [
        "5 == 5"
      ]
    },
    {
      "cell_type": "code",
      "execution_count": null,
      "metadata": {
        "colab": {
          "base_uri": "https://localhost:8080/"
        },
        "id": "4XPFDQ4N6bsD",
        "outputId": "30c84ff3-8168-4422-eb39-2e5d35591f7e"
      },
      "outputs": [
        {
          "data": {
            "text/plain": [
              "True"
            ]
          },
          "execution_count": 14,
          "metadata": {},
          "output_type": "execute_result"
        }
      ],
      "source": [
        "4 != 6"
      ]
    },
    {
      "cell_type": "code",
      "execution_count": null,
      "metadata": {
        "colab": {
          "base_uri": "https://localhost:8080/"
        },
        "id": "8e3WB-8zBTVb",
        "outputId": "f5c9f30d-71b9-497b-b4e9-eeb36def6881"
      },
      "outputs": [
        {
          "data": {
            "text/plain": [
              "True"
            ]
          },
          "execution_count": 18,
          "metadata": {},
          "output_type": "execute_result"
        }
      ],
      "source": [
        "6 >= 6"
      ]
    },
    {
      "cell_type": "code",
      "execution_count": null,
      "metadata": {
        "id": "ObQEv-zZd0i-"
      },
      "outputs": [],
      "source": [
        "x = 8\n",
        "y = 6\n",
        "z = -5"
      ]
    },
    {
      "cell_type": "code",
      "execution_count": null,
      "metadata": {
        "colab": {
          "base_uri": "https://localhost:8080/"
        },
        "id": "472J0EQ76Fv7",
        "outputId": "5796e3fe-2498-45c3-8417-f4a25b5b38c2"
      },
      "outputs": [
        {
          "data": {
            "text/plain": [
              "19"
            ]
          },
          "execution_count": 3,
          "metadata": {},
          "output_type": "execute_result"
        }
      ],
      "source": [
        "x + y - z"
      ]
    },
    {
      "cell_type": "code",
      "execution_count": null,
      "metadata": {
        "colab": {
          "base_uri": "https://localhost:8080/"
        },
        "id": "jBu-_Fhm7Jge",
        "outputId": "198a85f8-66b7-49c9-d4b0-722b723051bb"
      },
      "outputs": [
        {
          "name": "stdout",
          "output_type": "stream",
          "text": [
            "87389.66666666667\n"
          ]
        }
      ],
      "source": [
        "w = ((x**y) + z**2)/3\n",
        "print(w)"
      ]
    },
    {
      "cell_type": "code",
      "execution_count": null,
      "metadata": {
        "colab": {
          "base_uri": "https://localhost:8080/"
        },
        "id": "63wASwU_92WU",
        "outputId": "1fe55b56-74cb-47fa-f470-dab6fc4d4cd1"
      },
      "outputs": [
        {
          "name": "stdout",
          "output_type": "stream",
          "text": [
            "100\n"
          ]
        }
      ],
      "source": [
        "x = -10\n",
        "print(x**2)"
      ]
    },
    {
      "cell_type": "code",
      "execution_count": null,
      "metadata": {
        "colab": {
          "base_uri": "https://localhost:8080/"
        },
        "id": "h69wDlUoB-yY",
        "outputId": "43619a57-752c-44b2-e17b-6c51f988512c"
      },
      "outputs": [
        {
          "name": "stdout",
          "output_type": "stream",
          "text": [
            "O x dividido por 10 é: 0.1\n"
          ]
        }
      ],
      "source": [
        "x = 1\n",
        "if (x > 10) & (x != 50):\n",
        "  d = x/6\n",
        "  print('O quadrado de x é:', x**2)\n",
        "elif (x > 10) & (x < 100):\n",
        "  print('O x está entre 10 e 100.')\n",
        "else:\n",
        "  print('O x dividido por 10 é:', x/10)"
      ]
    },
    {
      "cell_type": "code",
      "execution_count": null,
      "metadata": {
        "colab": {
          "base_uri": "https://localhost:8080/"
        },
        "id": "r_3t9QLft7SB",
        "outputId": "cdac837c-458c-4abe-ba3a-028728cc95a7"
      },
      "outputs": [
        {
          "name": "stdout",
          "output_type": "stream",
          "text": [
            "O x é menor que 2 e vale: x\n"
          ]
        }
      ],
      "source": [
        "x = 1\n",
        "if x < 2:\n",
        "  print(f'O x é menor que 2 e vale: {x}')\n",
        "else:\n",
        "  print(f'O valor de x é {x}')"
      ]
    },
    {
      "cell_type": "code",
      "execution_count": null,
      "metadata": {
        "colab": {
          "base_uri": "https://localhost:8080/"
        },
        "id": "igTXzjV5GOjs",
        "outputId": "6dad4d35-9a2f-4e64-92b9-257b42c9b088"
      },
      "outputs": [
        {
          "name": "stdout",
          "output_type": "stream",
          "text": [
            "O valor de i é: 3\n",
            "O valor do j é: 9\n",
            "Aqui acaba a repetição do bloco\n",
            "O valor de i é: 4\n",
            "O valor do j é: 16\n",
            "Aqui acaba a repetição do bloco\n",
            "O valor de i é: 5\n",
            "O valor do j é: 25\n",
            "Aqui acaba a repetição do bloco\n",
            "O valor de i é: 6\n",
            "O valor do j é: 36\n",
            "Aqui acaba a repetição do bloco\n",
            "O valor de i é: 7\n",
            "O valor do j é: 49\n",
            "Aqui acaba a repetição do bloco\n",
            "O valor de i é: 8\n",
            "O valor do j é: 64\n",
            "Aqui acaba a repetição do bloco\n",
            "Aqui está fora do código\n",
            "48\n"
          ]
        }
      ],
      "source": [
        "for i in range(3,9):\n",
        "  j = i**2\n",
        "  print('O valor de i é:', i)\n",
        "  print('O valor do j é:', j)\n",
        "  print('Aqui acaba a repetição do bloco')\n",
        "\n",
        "print('Aqui está fora do código')\n",
        "y = 6*8\n",
        "print(y)"
      ]
    },
    {
      "cell_type": "code",
      "execution_count": null,
      "metadata": {
        "colab": {
          "base_uri": "https://localhost:8080/"
        },
        "id": "FRhN32Rg-Q_r",
        "outputId": "43aa35c9-3322-4f41-a1ae-2a1f0aec6b80"
      },
      "outputs": [
        {
          "name": "stdout",
          "output_type": "stream",
          "text": [
            "O valor de i é: 2 e o valor de x é: 4\n",
            "O valor de i é: 3 e o valor de x é: 9\n",
            "O valor de i é: 4 e o valor de x é: 16\n",
            "O valor de i é: 5 e o valor de x é: 25\n",
            "O valor de i é: 6 e o valor de x é: 36\n",
            "O valor de i é: 7 e o valor de x é: 49\n",
            "O valor de i é: 8 e o valor de x é: 64\n",
            "O valor de i é: 9 e o valor de x é: 81\n",
            "O valor de i é: 10 e o valor de x é: 100\n",
            "O valor de i é: 11 e o valor de x é: 121\n",
            "O valor de i é: 12 e o valor de x é: 144\n",
            "O valor de i é: 13 e o valor de x é: 169\n",
            "O valor de i é: 14 e o valor de x é: 196\n",
            "O valor de i é: 15 e o valor de x é: 225\n",
            "O valor de i é: 16 e o valor de x é: 256\n",
            "O valor de i é: 17 e o valor de x é: 289\n",
            "O valor de i é: 18 e o valor de x é: 324\n",
            "O valor de i é: 19 e o valor de x é: 361\n"
          ]
        }
      ],
      "source": [
        "#for i in range(inicio, fim-1, step)\n",
        "\n",
        "for i in range(2,20,2):\n",
        "  x = i**2\n",
        "  print(f'O valor de i é: {i} e o valor de x é: {x}')\n",
        "#print('Esse é um texto')"
      ]
    },
    {
      "cell_type": "code",
      "execution_count": null,
      "metadata": {
        "colab": {
          "base_uri": "https://localhost:8080/"
        },
        "id": "SQhk-rNUAKi3",
        "outputId": "be8e9649-1404-42e8-a592-cd29f4fc4689"
      },
      "outputs": [
        {
          "name": "stdout",
          "output_type": "stream",
          "text": [
            "O i é menor que 8 e vale 0\n",
            "O i é menor que 8 e vale 1\n",
            "O i é igual a 2.\n",
            "O i é menor que 8 e vale 3\n",
            "O i é menor que 8 e vale 4\n",
            "O i é menor que 8 e vale 5\n",
            "O i é menor que 8 e vale 6\n",
            "O i é menor que 8 e vale 7\n",
            "64\n",
            "81\n"
          ]
        }
      ],
      "source": [
        "for i in range(10):\n",
        "  x = i**2\n",
        "  if i >= 8:\n",
        "    print(x)\n",
        "  elif i == 2:\n",
        "    print('O i é igual a 2.')\n",
        "  else:\n",
        "    print(f'O i é menor que 8 e vale {i}')"
      ]
    },
    {
      "cell_type": "code",
      "execution_count": null,
      "metadata": {
        "colab": {
          "base_uri": "https://localhost:8080/"
        },
        "id": "qsHTZ0-oCIFi",
        "outputId": "c4447747-7bc1-4acc-ff8c-205602e2a7cc"
      },
      "outputs": [
        {
          "data": {
            "text/plain": [
              "[1, 2, 3, 4, 5, 6, 7, 8, 9, 10]"
            ]
          },
          "execution_count": 1,
          "metadata": {},
          "output_type": "execute_result"
        }
      ],
      "source": [
        "lista = [1,2,3,4,5,6,7,8,9,10]\n",
        "lista"
      ]
    },
    {
      "cell_type": "code",
      "execution_count": null,
      "metadata": {
        "colab": {
          "base_uri": "https://localhost:8080/"
        },
        "id": "idB1mtNJCWxN",
        "outputId": "e8d82704-7dca-4d7a-a092-7621e81e0f90"
      },
      "outputs": [
        {
          "data": {
            "text/plain": [
              "list"
            ]
          },
          "execution_count": 2,
          "metadata": {},
          "output_type": "execute_result"
        }
      ],
      "source": [
        "type(lista)"
      ]
    },
    {
      "cell_type": "code",
      "execution_count": null,
      "metadata": {
        "id": "21Tk_oM33MTs"
      },
      "outputs": [],
      "source": [
        "lista[2] #acessar um elemento\n",
        "lista[-1] #acessa o último elemento\n",
        "lista[3:5] # fazer um corte na lista de elementos\n",
        "lista[3:] #pegar elementos até o final da lista"
      ]
    },
    {
      "cell_type": "code",
      "execution_count": null,
      "metadata": {
        "colab": {
          "base_uri": "https://localhost:8080/"
        },
        "id": "kcnfa-Sh4JGA",
        "outputId": "02c4752c-0b9c-4b02-8d5c-43e4bcf54b5b"
      },
      "outputs": [
        {
          "data": {
            "text/plain": [
              "[1, 2, 3, 4, 5, 6, 7, 8, 9, 10]"
            ]
          },
          "execution_count": 16,
          "metadata": {},
          "output_type": "execute_result"
        }
      ],
      "source": [
        "lista"
      ]
    },
    {
      "cell_type": "code",
      "execution_count": null,
      "metadata": {
        "colab": {
          "base_uri": "https://localhost:8080/"
        },
        "id": "OqnuRyJxhl-a",
        "outputId": "79e2526f-d650-450c-c412-18578e9e25f7"
      },
      "outputs": [
        {
          "name": "stdout",
          "output_type": "stream",
          "text": [
            "0.010000000000000002\n",
            "0.04000000000000001\n",
            "0.09\n",
            "0.16000000000000003\n",
            "0.25\n"
          ]
        }
      ],
      "source": [
        "t = [0.1, 0.2, 0.3, 0.4, 0.5]\n",
        "\n",
        "for elemento in t:\n",
        "  x = elemento**2\n",
        "  print(x)"
      ]
    },
    {
      "cell_type": "code",
      "execution_count": null,
      "metadata": {
        "colab": {
          "base_uri": "https://localhost:8080/"
        },
        "id": "rCaHOrc9iNDR",
        "outputId": "90155fa6-35f7-42cc-c5ce-492765151b23"
      },
      "outputs": [
        {
          "data": {
            "text/plain": [
              "[1, 2, 3, 4, 5, 6, 7, 8]"
            ]
          },
          "execution_count": 66,
          "metadata": {},
          "output_type": "execute_result"
        }
      ],
      "source": [
        "lista[0:-2]"
      ]
    },
    {
      "cell_type": "code",
      "execution_count": null,
      "metadata": {
        "colab": {
          "base_uri": "https://localhost:8080/"
        },
        "id": "77bc18eXCff-",
        "outputId": "d83ecc90-4dc3-4f5c-e536-7f46c38915da"
      },
      "outputs": [
        {
          "name": "stdout",
          "output_type": "stream",
          "text": [
            "5\n",
            "6\n",
            "7\n",
            "8\n"
          ]
        }
      ],
      "source": [
        "for i in lista[4:8]:\n",
        "  print(i)"
      ]
    },
    {
      "cell_type": "code",
      "execution_count": null,
      "metadata": {
        "id": "pvWRuoqgC9W2"
      },
      "outputs": [],
      "source": [
        "outra_lista = ['Maça','Banana','Melão','Melancia']"
      ]
    },
    {
      "cell_type": "code",
      "execution_count": null,
      "metadata": {
        "colab": {
          "base_uri": "https://localhost:8080/"
        },
        "id": "0CqAXlNlDDt_",
        "outputId": "c3ae2ea3-0f23-479f-c324-b683004fac53"
      },
      "outputs": [
        {
          "data": {
            "text/plain": [
              "['Maça', 'Banana', 'Melão', 'Melancia']"
            ]
          },
          "execution_count": 21,
          "metadata": {},
          "output_type": "execute_result"
        }
      ],
      "source": [
        "outra_lista"
      ]
    },
    {
      "cell_type": "code",
      "execution_count": null,
      "metadata": {
        "colab": {
          "base_uri": "https://localhost:8080/"
        },
        "id": "0bjtEzQDDHJ9",
        "outputId": "12765f1b-7531-4760-cc59-a54e2a8de724"
      },
      "outputs": [
        {
          "name": "stdout",
          "output_type": "stream",
          "text": [
            "A fruta é Banana.\n",
            "A fruta é Melão.\n",
            "A fruta é Melancia.\n"
          ]
        }
      ],
      "source": [
        "for elemento in outra_lista:\n",
        "  if elemento != 'Maça':\n",
        "    print(f'A fruta é {elemento}.')"
      ]
    },
    {
      "cell_type": "code",
      "execution_count": null,
      "metadata": {
        "colab": {
          "base_uri": "https://localhost:8080/"
        },
        "id": "0yn1B08d5Oz8",
        "outputId": "84295f47-dcc5-4053-b81a-ed3346f7ae1d"
      },
      "outputs": [
        {
          "name": "stdout",
          "output_type": "stream",
          "text": [
            "[1, 2, 3]\n",
            "1\n",
            "2\n",
            "3\n",
            "[4, 5, 6]\n",
            "4\n",
            "5\n",
            "6\n",
            "[7, 8, 9]\n",
            "7\n",
            "8\n",
            "9\n"
          ]
        }
      ],
      "source": [
        "lista_grande = [[1,2,3], [4,5,6], [7,8,9]]\n",
        "\n",
        "for a in lista_grande:\n",
        "  print(a)\n",
        "  for j in a:\n",
        "    print(j)"
      ]
    },
    {
      "cell_type": "markdown",
      "metadata": {
        "id": "dJCCDLe1KzPR"
      },
      "source": [
        "# Importanto bibliotecas\n",
        "\n",
        "Em python, podemos importar módulos que já possuem funções nativas e que permitem a resolução de alguns tipos de problemas. Uma desses é o ```numpy```, que permite manipular vetores e matrizes, a biblioteca ```math``` que fornece fórmulas matemáticas, ```scipy``` para cálculos científicos, entre inúmeras outras que nos ajudaram na disciplina.\n",
        "\n",
        "Para importar um módulo em python, usamos a seguinte sintaxe:\n",
        "\n",
        "\n",
        "```\n",
        "import (nome da biblioteca)\n",
        "```\n",
        "ou, se queremos dar um 'apelido' a essa, podemos usar\n",
        "\n",
        "```\n",
        "import (nome da biblioteca) as (apelido)\n",
        "```\n",
        "\n",
        "Por exemplo:\n",
        "```\n",
        "import numpy as np\n",
        "import math\n",
        "```\n",
        "\n",
        "Abaixo mostramos alguns exemplos do uso dessas bibliotecas\n"
      ]
    },
    {
      "cell_type": "code",
      "execution_count": null,
      "metadata": {
        "colab": {
          "base_uri": "https://localhost:8080/"
        },
        "id": "VCB6kUxTyY-4",
        "outputId": "55d3b3a5-aa52-4115-c619-48f92001d0b7"
      },
      "outputs": [
        {
          "data": {
            "text/plain": [
              "-1.0"
            ]
          },
          "execution_count": 31,
          "metadata": {},
          "output_type": "execute_result"
        }
      ],
      "source": [
        "import math as mt\n",
        "\n",
        "mt.cos(mt.pi)"
      ]
    },
    {
      "cell_type": "code",
      "execution_count": null,
      "metadata": {
        "colab": {
          "base_uri": "https://localhost:8080/"
        },
        "id": "6c5ITArYLl5A",
        "outputId": "45d636e3-5d47-4821-f6b9-bb85fe18d4bd"
      },
      "outputs": [
        {
          "name": "stdout",
          "output_type": "stream",
          "text": [
            "-1.0\n",
            "1.2246467991473532e-16\n",
            "2.718281828459045\n",
            "1.0\n",
            "1.0\n",
            "2.0\n"
          ]
        }
      ],
      "source": [
        "import math\n",
        "\n",
        "x = math.cos(math.pi)\n",
        "print(x)\n",
        "\n",
        "z = math.sin(math.pi)\n",
        "print(z)\n",
        "\n",
        "k = math.exp(1)\n",
        "print(k)\n",
        "\n",
        "h = math.log(math.exp(1))\n",
        "print(h)\n",
        "\n",
        "u = math.log10(10)\n",
        "print(u)\n",
        "\n",
        "d = math.sqrt(4)\n",
        "print(d)"
      ]
    },
    {
      "cell_type": "markdown",
      "metadata": {
        "id": "Bncd-WCCMrco"
      },
      "source": [
        "Observe nos exemplos acima que usamos o nome do módulo (nesse caso ```math```), para chamar as funções e comandos específicos. A conexão entre módulo e função se dá por um ponto **( . )**\n",
        "\n",
        "Sendo assim, o comando\n",
        "\n",
        "\n",
        "```\n",
        "math.pi\n",
        "```\n",
        "chama o valor de pi para ser utilizado.\n",
        "Todas funções do módulo podem ser encontradas [nesse link](https://docs.python.org/3/library/math.html?highlight=math#module-math), ou chamando o comando ```help(math)```\n",
        "\n",
        "Abaixo, traremos alguns exemplos do uso do módulo ```numpy```, ótimo para manipulação de vetores e matrizes. Chamaremos ele através do alias np, o qual é usualmente utilizado. A documentação pode ser encontrada [aqui](https://numpy.org/doc/stable/)\n"
      ]
    },
    {
      "cell_type": "code",
      "execution_count": null,
      "metadata": {
        "colab": {
          "base_uri": "https://localhost:8080/"
        },
        "id": "VZsu4ZepMQaE",
        "outputId": "d2d4d17a-8e6b-4e36-8cd5-b96cad68d3d4"
      },
      "outputs": [
        {
          "data": {
            "text/plain": [
              "array([[1, 2, 3],\n",
              "       [4, 5, 6]])"
            ]
          },
          "execution_count": 34,
          "metadata": {},
          "output_type": "execute_result"
        }
      ],
      "source": [
        "import numpy as np\n",
        "\n",
        "#criação de uma matriz 2 x 3\n",
        "A = np.array([[1,2,3],[4,5,6]])\n",
        "A"
      ]
    },
    {
      "cell_type": "code",
      "execution_count": null,
      "metadata": {
        "colab": {
          "base_uri": "https://localhost:8080/"
        },
        "id": "PkkugG-UloK-",
        "outputId": "8613c236-baa2-4fdd-d32b-5a9bc8d7898b"
      },
      "outputs": [
        {
          "data": {
            "text/plain": [
              "6"
            ]
          },
          "execution_count": 83,
          "metadata": {},
          "output_type": "execute_result"
        }
      ],
      "source": [
        "A[-1][-1]"
      ]
    },
    {
      "cell_type": "code",
      "execution_count": null,
      "metadata": {
        "colab": {
          "base_uri": "https://localhost:8080/"
        },
        "id": "YJ3_lFo-Ohhr",
        "outputId": "92d1bd05-7e69-47aa-db83-caf0b947dc4c"
      },
      "outputs": [
        {
          "data": {
            "text/plain": [
              "(2, 3)"
            ]
          },
          "execution_count": 84,
          "metadata": {},
          "output_type": "execute_result"
        }
      ],
      "source": [
        "np.shape(A)"
      ]
    },
    {
      "cell_type": "code",
      "execution_count": null,
      "metadata": {
        "colab": {
          "base_uri": "https://localhost:8080/"
        },
        "id": "rN09HN0qOq7p",
        "outputId": "1863d078-efd8-4bfa-9287-5bfb0bf53b42"
      },
      "outputs": [
        {
          "data": {
            "text/plain": [
              "array([[ 1,  2,  3, -1,  5,  6],\n",
              "       [ 0, -1,  9,  1,  5,  6],\n",
              "       [ 1,  3, -8, -1,  0,  1],\n",
              "       [ 3,  2,  0, -1,  0,  6]])"
            ]
          },
          "execution_count": 87,
          "metadata": {},
          "output_type": "execute_result"
        }
      ],
      "source": [
        "#criação de uma matriz 4 x 6\n",
        "B = np.array([[1,2,3,-1,5,6], [0,-1,9,1,5,6],[1,3,-8,-1,0,1],[3,2,0,-1,0,6]])\n",
        "B"
      ]
    },
    {
      "cell_type": "code",
      "execution_count": null,
      "metadata": {
        "colab": {
          "base_uri": "https://localhost:8080/"
        },
        "id": "AtcCiGj7PF67",
        "outputId": "1484e4d0-242c-472c-cf7a-52f40267e967"
      },
      "outputs": [
        {
          "data": {
            "text/plain": [
              "(4, 6)"
            ]
          },
          "execution_count": 88,
          "metadata": {},
          "output_type": "execute_result"
        }
      ],
      "source": [
        "np.shape(B)"
      ]
    },
    {
      "cell_type": "code",
      "execution_count": null,
      "metadata": {
        "colab": {
          "base_uri": "https://localhost:8080/"
        },
        "id": "jk7csHuTPH45",
        "outputId": "943d58db-a1d7-4687-ad80-9df815b58c77"
      },
      "outputs": [
        {
          "data": {
            "text/plain": [
              "array([1, 0, 1])"
            ]
          },
          "execution_count": 37,
          "metadata": {},
          "output_type": "execute_result"
        }
      ],
      "source": [
        "vetor = np.array([1,0,1])\n",
        "vetor"
      ]
    },
    {
      "cell_type": "code",
      "execution_count": null,
      "metadata": {
        "colab": {
          "base_uri": "https://localhost:8080/"
        },
        "id": "bU--px-qPLo5",
        "outputId": "e4e39dc1-32a3-4f85-8009-cfd7ac6f90fc"
      },
      "outputs": [
        {
          "data": {
            "text/plain": [
              "(3,)"
            ]
          },
          "execution_count": 38,
          "metadata": {},
          "output_type": "execute_result"
        }
      ],
      "source": [
        "np.shape(vetor)"
      ]
    },
    {
      "cell_type": "code",
      "execution_count": null,
      "metadata": {
        "colab": {
          "base_uri": "https://localhost:8080/"
        },
        "id": "f4AS8EWtcl8u",
        "outputId": "96c45fbf-c263-45dd-ef54-f0102ae1a749"
      },
      "outputs": [
        {
          "name": "stdout",
          "output_type": "stream",
          "text": [
            "[0.0, 0.02040816326530612, 0.04081632653061224, 0.061224489795918366, 0.08163265306122448, 0.1020408163265306, 0.12244897959183673, 0.14285714285714285, 0.16326530612244897, 0.18367346938775508, 0.2040816326530612, 0.22448979591836732, 0.24489795918367346, 0.26530612244897955, 0.2857142857142857, 0.3061224489795918, 0.32653061224489793, 0.3469387755102041, 0.36734693877551017, 0.3877551020408163, 0.4081632653061224, 0.42857142857142855, 0.44897959183673464, 0.4693877551020408, 0.4897959183673469, 0.5102040816326531, 0.5306122448979591, 0.5510204081632653, 0.5714285714285714, 0.5918367346938775, 0.6122448979591836, 0.6326530612244897, 0.6530612244897959, 0.673469387755102, 0.6938775510204082, 0.7142857142857142, 0.7346938775510203, 0.7551020408163265, 0.7755102040816326, 0.7959183673469387, 0.8163265306122448, 0.836734693877551, 0.8571428571428571, 0.8775510204081632, 0.8979591836734693, 0.9183673469387754, 0.9387755102040816, 0.9591836734693877, 0.9795918367346939, 1.0]\n",
            "0.0\n",
            "0.02040816326530612\n",
            "0.04081632653061224\n",
            "0.061224489795918366\n",
            "0.08163265306122448\n"
          ]
        }
      ],
      "source": [
        "x = np.linspace(0,1)\n",
        "y = x.tolist()\n",
        "print(y)\n",
        "for i in y:\n",
        "  if i < 0.1:\n",
        "    print(i)"
      ]
    },
    {
      "cell_type": "code",
      "execution_count": null,
      "metadata": {
        "colab": {
          "base_uri": "https://localhost:8080/"
        },
        "id": "YcpGBZLFx71s",
        "outputId": "2fefd22b-5fb1-4f95-dfc2-c2a710411ded"
      },
      "outputs": [
        {
          "data": {
            "text/plain": [
              "2.449489742783178"
            ]
          },
          "execution_count": 5,
          "metadata": {},
          "output_type": "execute_result"
        }
      ],
      "source": [
        "import math as mt\n",
        "\n",
        "mt.sqrt(6)"
      ]
    },
    {
      "cell_type": "code",
      "execution_count": null,
      "metadata": {
        "colab": {
          "base_uri": "https://localhost:8080/"
        },
        "id": "Bt7jd-Hj0agf",
        "outputId": "e4338545-b96b-492a-f13f-108535f4172b"
      },
      "outputs": [
        {
          "data": {
            "text/plain": [
              "array([-10.        ,  -9.7979798 ,  -9.5959596 ,  -9.39393939,\n",
              "        -9.19191919,  -8.98989899,  -8.78787879,  -8.58585859,\n",
              "        -8.38383838,  -8.18181818,  -7.97979798,  -7.77777778,\n",
              "        -7.57575758,  -7.37373737,  -7.17171717,  -6.96969697,\n",
              "        -6.76767677,  -6.56565657,  -6.36363636,  -6.16161616,\n",
              "        -5.95959596,  -5.75757576,  -5.55555556,  -5.35353535,\n",
              "        -5.15151515,  -4.94949495,  -4.74747475,  -4.54545455,\n",
              "        -4.34343434,  -4.14141414,  -3.93939394,  -3.73737374,\n",
              "        -3.53535354,  -3.33333333,  -3.13131313,  -2.92929293,\n",
              "        -2.72727273,  -2.52525253,  -2.32323232,  -2.12121212,\n",
              "        -1.91919192,  -1.71717172,  -1.51515152,  -1.31313131,\n",
              "        -1.11111111,  -0.90909091,  -0.70707071,  -0.50505051,\n",
              "        -0.3030303 ,  -0.1010101 ,   0.1010101 ,   0.3030303 ,\n",
              "         0.50505051,   0.70707071,   0.90909091,   1.11111111,\n",
              "         1.31313131,   1.51515152,   1.71717172,   1.91919192,\n",
              "         2.12121212,   2.32323232,   2.52525253,   2.72727273,\n",
              "         2.92929293,   3.13131313,   3.33333333,   3.53535354,\n",
              "         3.73737374,   3.93939394,   4.14141414,   4.34343434,\n",
              "         4.54545455,   4.74747475,   4.94949495,   5.15151515,\n",
              "         5.35353535,   5.55555556,   5.75757576,   5.95959596,\n",
              "         6.16161616,   6.36363636,   6.56565657,   6.76767677,\n",
              "         6.96969697,   7.17171717,   7.37373737,   7.57575758,\n",
              "         7.77777778,   7.97979798,   8.18181818,   8.38383838,\n",
              "         8.58585859,   8.78787879,   8.98989899,   9.19191919,\n",
              "         9.39393939,   9.5959596 ,   9.7979798 ,  10.        ])"
            ]
          },
          "execution_count": 45,
          "metadata": {},
          "output_type": "execute_result"
        }
      ],
      "source": [
        "import numpy as np\n",
        "import matplotlib.pyplot as plt\n",
        "\n",
        "#sintaxe: np.linspace(inicio do intervalo, fim do intervalo, numero de pontos)\n",
        "x = np.linspace(-10,10,100)\n",
        "x"
      ]
    },
    {
      "cell_type": "code",
      "execution_count": null,
      "metadata": {
        "colab": {
          "base_uri": "https://localhost:8080/"
        },
        "id": "Lyg1x7tp_o2E",
        "outputId": "32cbf278-0781-4980-cb74-97743980c807"
      },
      "outputs": [
        {
          "data": {
            "text/plain": [
              "array([1.00000000e+02, 9.60004081e+01, 9.20824406e+01, 8.82460973e+01,\n",
              "       8.44913784e+01, 8.08182838e+01, 7.72268136e+01, 7.37169677e+01,\n",
              "       7.02887460e+01, 6.69421488e+01, 6.36771758e+01, 6.04938272e+01,\n",
              "       5.73921028e+01, 5.43720029e+01, 5.14335272e+01, 4.85766758e+01,\n",
              "       4.58014488e+01, 4.31078461e+01, 4.04958678e+01, 3.79655137e+01,\n",
              "       3.55167840e+01, 3.31496786e+01, 3.08641975e+01, 2.86603408e+01,\n",
              "       2.65381084e+01, 2.44975003e+01, 2.25385165e+01, 2.06611570e+01,\n",
              "       1.88654219e+01, 1.71513111e+01, 1.55188246e+01, 1.39679625e+01,\n",
              "       1.24987246e+01, 1.11111111e+01, 9.80512193e+00, 8.58075707e+00,\n",
              "       7.43801653e+00, 6.37690032e+00, 5.39740843e+00, 4.49954086e+00,\n",
              "       3.68329762e+00, 2.94867871e+00, 2.29568411e+00, 1.72431385e+00,\n",
              "       1.23456790e+00, 8.26446281e-01, 4.99948985e-01, 2.55076013e-01,\n",
              "       9.18273646e-02, 1.02030405e-02, 1.02030405e-02, 9.18273646e-02,\n",
              "       2.55076013e-01, 4.99948985e-01, 8.26446281e-01, 1.23456790e+00,\n",
              "       1.72431385e+00, 2.29568411e+00, 2.94867871e+00, 3.68329762e+00,\n",
              "       4.49954086e+00, 5.39740843e+00, 6.37690032e+00, 7.43801653e+00,\n",
              "       8.58075707e+00, 9.80512193e+00, 1.11111111e+01, 1.24987246e+01,\n",
              "       1.39679625e+01, 1.55188246e+01, 1.71513111e+01, 1.88654219e+01,\n",
              "       2.06611570e+01, 2.25385165e+01, 2.44975003e+01, 2.65381084e+01,\n",
              "       2.86603408e+01, 3.08641975e+01, 3.31496786e+01, 3.55167840e+01,\n",
              "       3.79655137e+01, 4.04958678e+01, 4.31078461e+01, 4.58014488e+01,\n",
              "       4.85766758e+01, 5.14335272e+01, 5.43720029e+01, 5.73921028e+01,\n",
              "       6.04938272e+01, 6.36771758e+01, 6.69421488e+01, 7.02887460e+01,\n",
              "       7.37169677e+01, 7.72268136e+01, 8.08182838e+01, 8.44913784e+01,\n",
              "       8.82460973e+01, 9.20824406e+01, 9.60004081e+01, 1.00000000e+02])"
            ]
          },
          "execution_count": 46,
          "metadata": {},
          "output_type": "execute_result"
        }
      ],
      "source": [
        "y = x**2\n",
        "y"
      ]
    },
    {
      "cell_type": "code",
      "execution_count": null,
      "metadata": {
        "colab": {
          "base_uri": "https://localhost:8080/",
          "height": 430
        },
        "id": "mCfMBlR41FVu",
        "outputId": "b4a981ca-de2e-4789-d08e-e665d62b05e6"
      },
      "outputs": [
        {
          "data": {
            "image/png": "[encoded data removed]",
            "text/plain": [
              "<Figure size 640x480 with 1 Axes>"
            ]
          },
          "metadata": {},
          "output_type": "display_data"
        }
      ],
      "source": [
        "plt.plot(x,y,color='black')\n",
        "plt.grid()"
      ]
    },
    {
      "cell_type": "code",
      "execution_count": null,
      "metadata": {
        "colab": {
          "base_uri": "https://localhost:8080/",
          "height": 430
        },
        "id": "Du4CrHRkVrdt",
        "outputId": "1e6f85d5-5729-4d4d-d3c8-c57bd9e321a0"
      },
      "outputs": [
        {
          "data": {
            "image/png": "[encoded data removed]",
            "text/plain": [
              "<Figure size 640x480 with 1 Axes>"
            ]
          },
          "metadata": {},
          "output_type": "display_data"
        }
      ],
      "source": [
        "x = np.linspace(0,1,100)\n",
        "y = x**2\n",
        "u = x**3\n",
        "w = x**4\n",
        "\n",
        "plt.plot(x,y,color='black')\n",
        "plt.plot(x,u, color='red')\n",
        "plt.plot(x,w)\n",
        "plt.grid()"
      ]
    },
    {
      "cell_type": "code",
      "execution_count": null,
      "metadata": {
        "id": "w9t6bjpOBHBt"
      },
      "outputs": [],
      "source": []
    }
  ],
  "metadata": {
    "colab": {
      "provenance": []
    },
    "kernelspec": {
      "display_name": "Python 3",
      "name": "python3"
    },
    "language_info": {
      "name": "python"
    }
  },
  "nbformat": 4,
  "nbformat_minor": 0
}
