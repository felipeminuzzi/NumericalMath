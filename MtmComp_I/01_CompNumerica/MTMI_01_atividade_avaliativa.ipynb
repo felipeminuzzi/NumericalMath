{
 "cells": [
  {
   "cell_type": "markdown",
   "metadata": {},
   "source": [
    "# Matemática Computacional I\n",
    "- Prof. Felipe C. Minuzzi\n",
    "- felipe.minuzzi@ufsm.br\n",
    "\n",
    "## **ESSA ATIVIDADE É APENAS DEMONSTRATIVA, NÃO É NECESSÁRIO ENTREGAR**\n",
    "### Computação Numérica\n",
    "\n",
    "- Resolva os exercícios abaixo, converta o notebook em formato pdf (veja nesse [link](https://www.youtube.com/watch?v=W8_jdAzqI80) como fazê-lo) e suba o arquivo no respectivo tópico no Moodle. A atividade deve ser resolvida individualmente.\n",
    "- Não utilize nenhum código pronto de bibliotecas externas, a exceção dos códigos necessários para criação de vetores e gráficos.\n",
    "- **Não serão aceitos trabalhos enviados por email fora do horário estipulado.**"
   ]
  },
  {
   "cell_type": "markdown",
   "metadata": {},
   "source": [
    "**Exercício 1**\n",
    "\n",
    "A solução positiva da equação $f(x)=x^2-a$, com $a>0$, pode ser obtida pelo processo iterativo $x_{i+1} = \\frac{1}{2} \\left(x_i +\\frac{a}{x_i} \\right)$, $i=0,1,2,...$. Sabendo disso, encontre uma aproximação para $\\sqrt{3}$ com 5 casas decimais de precisão."
   ]
  },
  {
   "cell_type": "markdown",
   "metadata": {},
   "source": [
    "**Exercício 2**: \n",
    "\n",
    "A função cosseno pode ser representada pela série de Maclaurin, fazendo\n",
    "$$\n",
    "\\cos x=\\sum_{n=0}^{\\infty} \\frac{(-1)^n}{(2 n)!} x^{2 n}.\n",
    "$$\n",
    "Descubra quantos termos da série são necessários para obter uma aproximação para $\\cos(\\pi/6)$ com erro relativo menor que $10^4$."
   ]
  },
  {
   "cell_type": "code",
   "execution_count": null,
   "metadata": {
    "vscode": {
     "languageId": "plaintext"
    }
   },
   "outputs": [],
   "source": [
    "#codigo para exportar o arquivo em html, para poder salvar em pdf\n",
    "!jupyter nbconvert --to html /content/MTMI_01_atividade_avaliativa.ipynb"
   ]
  }
 ],
 "metadata": {
  "language_info": {
   "name": "python"
  }
 },
 "nbformat": 4,
 "nbformat_minor": 2
}
