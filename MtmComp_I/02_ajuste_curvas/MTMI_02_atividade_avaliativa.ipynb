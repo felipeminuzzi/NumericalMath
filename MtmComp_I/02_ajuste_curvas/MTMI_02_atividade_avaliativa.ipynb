{
 "cells": [
  {
   "cell_type": "markdown",
   "metadata": {},
   "source": [
    "# Matemática Computacional I\n",
    "- Prof. Felipe C. Minuzzi\n",
    "- felipe.minuzzi@ufsm.br\n",
    "\n",
    "## Atividade avaliativa\n",
    "### Interpolação polinomial"
   ]
  },
  {
   "cell_type": "markdown",
   "metadata": {},
   "source": [
    "**Exercício 1**\n",
    "\n",
    "Dada a tabela a seguir de valores de uma função $f$,\n",
    "\n",
    "x   | 0,15 | 0,17 | 0,19 | 0,21 | 0,23 | 0,25 | 0,27 | 0,29 | 0,31  |\n",
    "----|------|------|------|------|------|------|------|------|-------|\n",
    "f(x)|0,176 |0,234 |0,278 |0,322 |0,361 |0,398 |0,431 |0,462 |0,491  |\n",
    "\n",
    "Obtenha uma estimativa para $f(0,20)$ e para $f(0,22)$. Você primeiro precisará interpolar os pontos e depois encontrar o valor da função nos valores dados."
   ]
  },
  {
   "cell_type": "markdown",
   "metadata": {},
   "source": [
    "**Exercício 2**: \n",
    "\n",
    "A população de uma bactéria $b(t)$ que está se reproduzindo em um certo ambiente é observada em tempos $t$ dados em dias segundo a tabela abaixo:\n",
    "\n",
    "t      |  b(t) |\n",
    "-------|-------|\n",
    "1      | 3     |\n",
    "2      | 7     |\n",
    "3      | 20    |\n",
    "4      | 55    |\n",
    "\n",
    "\n",
    "*   (a) Qual será a provável população $b(t)$ de bactérias no tempo $t = 10$ dias?\n",
    "*   (b) Imprima na tela a fórmula do polinômio interpolado."
   ]
  },
  {
   "cell_type": "markdown",
   "metadata": {},
   "source": [
    "**Exercício 3**\n",
    "\n",
    "Considere a função\n",
    "\n",
    "$$f(x)=\\frac{3.21}{0.73 + 9.81x^2}$$\n",
    "\n",
    "- (a) Aproxime $f$ usando um polinômio interpolador de grau 3 no intervalo $[1, 2]$ e mostre o gráfico do polinômio e da função nesse intervalo. \n",
    "- (b) Repita o item anterior, mas dessa vez utilize um polinômio de grau 10 no intervalo $[-2,2]$ e comente o que você observou. \n",
    "- (c) Pesquise e responda o que é \"Fenômeno de Runge\"."
   ]
  },
  {
   "cell_type": "code",
   "execution_count": null,
   "metadata": {
    "vscode": {
     "languageId": "plaintext"
    }
   },
   "outputs": [],
   "source": [
    "#codigo para exportar o arquivo em html, para poder salvar em pdf\n",
    "!jupyter nbconvert --to html /content/MTMI_02_atividade_avaliativa.ipynb"
   ]
  }
 ],
 "metadata": {
  "language_info": {
   "name": "python"
  }
 },
 "nbformat": 4,
 "nbformat_minor": 2
}
