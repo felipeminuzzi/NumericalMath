{
 "cells": [
  {
   "cell_type": "markdown",
   "metadata": {},
   "source": [
    "# Matemática Computacional I\n",
    "- Prof. Felipe C. Minuzzi\n",
    "- felipe.minuzzi@ufsm.br\n",
    "\n",
    "## Atividade avaliativa\n",
    "### Interpolação polinomial\n",
    "\n",
    "- Resolva os exercícios abaixo, converta o notebook em formato pdf (veja nesse [link](https://www.youtube.com/watch?v=W8_jdAzqI80) como fazê-lo) e suba o arquivo no respectivo tópico no Moodle. A atividade deve ser resolvida individualmente.\n",
    "- Não utilize nenhum código pronto de bibliotecas externas, a exceção dos códigos necessários para criação de vetores e gráficos.\n",
    "- **Não serão aceitos trabalhos enviados por email fora do horário estipulado.**"
   ]
  },
  {
   "cell_type": "markdown",
   "metadata": {},
   "source": [
    "**Exercício 1**: \n",
    "\n",
    "A população de uma bactéria $b(t)$ que está se reproduzindo em um certo ambiente é observada em tempos $t$ dados em dias segundo a tabela abaixo:\n",
    "\n",
    "t      |  b(t) |\n",
    "-------|-------|\n",
    "1      | 3     |\n",
    "2      | 7     |\n",
    "3      | 20    |\n",
    "4      | 55    |\n",
    "\n",
    "\n",
    "*   (a) Qual será a provável população $b(t)$ de bactérias no tempo $t = 10$ dias?\n",
    "*   (b) Imprima na tela a fórmula do polinômio interpolado."
   ]
  },
  {
   "cell_type": "markdown",
   "metadata": {},
   "source": [
    "**Exercício 2**\n",
    "\n",
    "Considere a função\n",
    "\n",
    "$$f(x)=\\frac{3.21}{0.73 + 9.81x^2}$$\n",
    "\n",
    "- (a) Aproxime $f$ usando um polinômio interpolador de grau 3 no intervalo $[1, 2]$ e mostre o gráfico do polinômio e da função nesse intervalo. \n",
    "- (b) Repita o item anterior, mas dessa vez utilize um polinômio de grau 10 no intervalo $[-2,2]$ e comente o que você observou. \n",
    "- (c) Pesquise e responda o que é \"Fenômeno de Runge\"."
   ]
  },
  {
   "cell_type": "code",
   "execution_count": null,
   "metadata": {
    "vscode": {
     "languageId": "plaintext"
    }
   },
   "outputs": [],
   "source": [
    "#codigo para exportar o arquivo em html, para poder salvar em pdf\n",
    "!jupyter nbconvert --to html /content/MTMI_02_atividade_avaliativa.ipynb"
   ]
  }
 ],
 "metadata": {
  "language_info": {
   "name": "python"
  }
 },
 "nbformat": 4,
 "nbformat_minor": 2
}
