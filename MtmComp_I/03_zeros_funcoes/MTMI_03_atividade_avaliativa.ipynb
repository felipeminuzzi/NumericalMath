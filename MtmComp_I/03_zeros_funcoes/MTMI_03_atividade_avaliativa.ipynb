{
 "cells": [
  {
   "cell_type": "markdown",
   "metadata": {},
   "source": [
    "# Matemática Computacional I\n",
    "- Prof. Felipe C. Minuzzi\n",
    "- felipe.minuzzi@ufsm.br\n",
    "\n",
    "## Atividade avaliativa\n",
    "### Soluções numéricas de equações em uma variável"
   ]
  },
  {
   "cell_type": "markdown",
   "metadata": {},
   "source": [
    "**Exercício 1**\n",
    "\n",
    "Vamos construir um algoritmo em python que calcule a raiz de uma função a partir de um intervalo dado, usando o método da bisseção.\n",
    "\n",
    "Considere o seguinte algoritmo:\n",
    "\n",
    "- 1. Defina o intervalo inicial [a,b], a função a qual queira se encontrar a raiz e a tolerancia;\n",
    "- 2. Calcule o ponto medio do intervalo;\n",
    "- 3. Veja se o erro relativo entre a estimativa do passo 2 e o valor da iteração anterior é menor que a tolerancia;\n",
    "- 4. Calcule se f(a).f(xm) < 0 ou nao, e renomeie os extremos do intervalo.\n",
    "\n",
    "Aplique o algoritmo desenvolvido no exemplo 2."
   ]
  },
  {
   "cell_type": "markdown",
   "metadata": {},
   "source": [
    "**Exercício 2:** \n",
    "\n",
    "Calcule, pelo método da bisseção, corretamente até a terceira casa decimal, a solução da equação  $\\left( \\frac{x}{2} \\right)^2-sen(x) = 0$, localizada no intervalo ($a_0=1$ e $b_0=3$)."
   ]
  },
  {
   "cell_type": "markdown",
   "metadata": {},
   "source": [
    "**Exercício 3**\n",
    "\n",
    "Calcule, se possível, as raízes das seguintes funções com pelo menos 3 casas de precisão, usando o método do ponto fixo:\n",
    "\n",
    "a) $f(x) = \\sqrt{x}-5^{-x}$\n",
    "\n",
    "b) $f(x) = e^{x} + x$\n",
    "\n",
    "c) $f(x) = xln(x)-1$"
   ]
  },
  {
   "cell_type": "code",
   "execution_count": null,
   "metadata": {
    "vscode": {
     "languageId": "plaintext"
    }
   },
   "outputs": [],
   "source": [
    "#codigo para exportar o arquivo em html, para poder salvar em pdf\n",
    "!jupyter nbconvert --to html /content/MTMI_03_atividade_avaliativa.ipynb"
   ]
  }
 ],
 "metadata": {
  "language_info": {
   "name": "python"
  }
 },
 "nbformat": 4,
 "nbformat_minor": 2
}
