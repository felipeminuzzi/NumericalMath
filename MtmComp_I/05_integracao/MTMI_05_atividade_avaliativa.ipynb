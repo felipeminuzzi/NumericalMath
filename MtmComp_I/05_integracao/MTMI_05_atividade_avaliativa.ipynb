{
 "cells": [
  {
   "cell_type": "markdown",
   "metadata": {},
   "source": [
    "# Matemática Computacional I\n",
    "- Prof. Felipe C. Minuzzi\n",
    "- felipe.minuzzi@ufsm.br\n",
    "\n",
    "## Atividade avaliativa\n",
    "### Integração numérica"
   ]
  },
  {
   "cell_type": "markdown",
   "metadata": {},
   "source": [
    "**Atividade 1:**\n",
    "\n",
    "Calcule primeiramente a integral indefinida (usando o `sympy`) das funções abaixo. Logo após, compare o resultado obtido com aproximações numéricas para as integrais definidas.\n",
    "\n",
    "a) $\\int_{1}^{1.6} \\frac{2x}{x^2-4} dx$  \n",
    "\n",
    "b) $\\int_{0}^{1} x^2 e^{-x} dx$\n",
    "\n",
    "c) $\\int_{0}^{1} \\frac{cos(2x)}{x^{1/3}}dx$\n",
    "\n",
    "O que pode-se afirmar do resultado via `sympy` da letra (c)?"
   ]
  },
  {
   "cell_type": "markdown",
   "metadata": {},
   "source": [
    "**Atividade 2:**\n",
    "\n",
    "Resolva as integrais definidas abaixo, usando **todos** métodos numéricos estudados nesse notebook, e comparando seus resultados.\n",
    "\n",
    "\n",
    "a) $\\int_{0}^{\\pi/4} e^{x^3}sen(2x)dx$\n",
    "\n",
    "b) $\\int_{0}^{0.5} \\frac{2}{x-4} dx$\n",
    "\n",
    "c) $\\int_{0}^{1} x^{-1/4}sen(x) dx$"
   ]
  },
  {
   "cell_type": "markdown",
   "metadata": {},
   "source": [
    "**Atividade 3:**\n",
    "\n",
    "Um termoacoplador é usador para medir a temperatura de um gás que flui em um duto. A dependência temporal da temperatura da junção esférica do termoacoplador é para por\n",
    "\n",
    "$$ t =  - \\int_{T_i}^{T} \\dfrac{\\rho V C}{A_S [h (T - T_{\\infty}) + \\epsilon \\sigma_{SB}(T^4 - T^4_{viz})]} dT$$\n",
    "\n",
    "onde $𝑇$ é a temperatura na junção do termoacoplador no tempo $𝑡$, $ρ$ é a densidade do material na junção, $𝑉$ é o volume da junção esférica, $𝐶$ é a capacidade térmica da junção, $𝐴_𝑆$ é a área superficial da junção, $ℎ$ é o coeficiente de transferência de calor por convecção, $𝑇_\\infty$ é a temperatura do gás, $\\epsilon$ é a emissividade do\n",
    "material na junção, $\\sigma_{𝑆𝐵} = 5.67 \\times 10^{-8} W/m^2 K^4$ é a constante de Stefan-Boltzmann e $T_{viz}$ é a temperatura do duto metálico. Para $V = A_S = 1$, $T_i = 298K$, $\\epsilon = 0.9$, $\\rho = 8500 kg/m^3$, $C = 400 J/Kg/K$, $T_\\infty = 473 K$, $h = 400 W/m^2/K$ e $T_{viz} = 673 K$, determine o tempo necessário para que a temperatura da junção do termoacoplador atinja $490 K$. Para tanto, use $N = 10^3$."
   ]
  },
  {
   "cell_type": "code",
   "execution_count": null,
   "metadata": {
    "vscode": {
     "languageId": "plaintext"
    }
   },
   "outputs": [],
   "source": [
    "#codigo para exportar o arquivo em html, para poder salvar em pdf\n",
    "!jupyter nbconvert --to html /content/MTMI_05_atividade_avaliativa.ipynb"
   ]
  }
 ],
 "metadata": {
  "language_info": {
   "name": "python"
  }
 },
 "nbformat": 4,
 "nbformat_minor": 2
}
