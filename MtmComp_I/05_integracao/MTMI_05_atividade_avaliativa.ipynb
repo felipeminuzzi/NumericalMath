{
 "cells": [
  {
   "cell_type": "markdown",
   "metadata": {},
   "source": [
    "# Matemática Computacional I\n",
    "- Prof. Felipe C. Minuzzi\n",
    "- felipe.minuzzi@ufsm.br\n",
    "\n",
    "## Atividade avaliativa\n",
    "### Integração numérica\n",
    "\n",
    "- Resolva os exercícios abaixo, converta o notebook em formato pdf (veja nesse [link](https://www.youtube.com/watch?v=W8_jdAzqI80) como fazê-lo) e suba o arquivo no respectivo tópico no Moodle. A atividade deve ser resolvida individualmente.\n",
    "- Não utilize nenhum código pronto de bibliotecas externas, a exceção dos códigos necessários para criação de vetores e gráficos.\n",
    "- **Não serão aceitos trabalhos enviados por email fora do horário estipulado.**"
   ]
  },
  {
   "cell_type": "markdown",
   "metadata": {},
   "source": [
    "**Atividade 1:**\n",
    "\n",
    "Calcule primeiramente a integral indefinida (usando o `sympy`) das funções abaixo. Logo após, compare o resultado obtido com aproximações numéricas para as integrais definidas.\n",
    "\n",
    "a) $\\int_{1}^{1.6} \\frac{2x}{x^2-4} dx$  \n",
    "\n",
    "b) $\\int_{0}^{1} x^2 e^{-x} dx$\n",
    "\n",
    "c) $\\int_{0}^{1} \\frac{cos(2x)}{x^{1/3}}dx$\n",
    "\n",
    "O que pode-se afirmar do resultado via `sympy` da letra (c)?"
   ]
  },
  {
   "cell_type": "markdown",
   "metadata": {},
   "source": [
    "**Atividade 2:**\n",
    "\n",
    "Resolva as integrais definidas abaixo, usando  método numérico estudado em aula.\n",
    "\n",
    "\n",
    "a) $\\int_{0}^{\\pi/4} e^{x^3}sen(2x)dx$\n",
    "\n",
    "b) $\\int_{0}^{0.5} \\frac{2}{x-4} dx$\n",
    "\n",
    "c) $\\int_{0}^{1} x^{-1/4}sen(x) dx$"
   ]
  },
  {
   "cell_type": "code",
   "execution_count": null,
   "metadata": {
    "vscode": {
     "languageId": "plaintext"
    }
   },
   "outputs": [],
   "source": [
    "#codigo para exportar o arquivo em html, para poder salvar em pdf\n",
    "!jupyter nbconvert --to html /content/MTMI_05_atividade_avaliativa.ipynb"
   ]
  }
 ],
 "metadata": {
  "language_info": {
   "name": "python"
  }
 },
 "nbformat": 4,
 "nbformat_minor": 2
}
