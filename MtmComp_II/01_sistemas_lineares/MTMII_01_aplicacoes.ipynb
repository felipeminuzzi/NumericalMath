{
  "cells": [
    {
      "cell_type": "markdown",
      "metadata": {
        "id": "f9lxMl1syHTR"
      },
      "source": [
        "# Matemática Computacional II\n",
        "- Prof. Felipe C. Minuzzi\n",
        "- felipe.minuzzi@ufsm.br"
      ]
    },
    {
      "cell_type": "code",
      "execution_count": 15,
      "metadata": {},
      "outputs": [],
      "source": [
        "import numpy as np\n",
        "import matplotlib.pyplot as plt"
      ]
    },
    {
      "cell_type": "markdown",
      "metadata": {},
      "source": [
        "## Busca virtual pela internet - uma aplicação de matrizes e sistemas\n",
        "\n",
        "Imagine que decidimos olhar no Google quem foram as personalidades nascidas em 22 de maio. Em 0.40 segundos, a plataforma encontra 2.020.000.000 resultados (não se engane nos zeros - sim, são 2 BILHÕES de resultados). Clicando na primeira página, da Wikipedia, descobrimos que nesse dia, mas em 1858, nasceu Sir Artur Conan Doyle na Escócia. Nossa mente rapidamente associa ao autor à sua princial criação, Sherlock Holmes e, digitando na barra de busca, obtemos 107.000.000 resultados em apenas 0.29 segundos. Entre os links que aparecem, podemos escolher um que cita o autor Robert Downey Jr, e daí seguimos para os Vingadores, Guerra Infinita... e assim por diante.\n",
        "\n",
        "O divertido aqui é que o Google nos levou por um caminho que praticamente antecipa nossos pensamentos. Quando digitamos uma ou mais palavras-chaves em um buscador, como o Google, em um espaço de tempo muito curto, em geral menor que um segundo, conseguimos uma lista de endereços de páginas, chamadas URLs (<em> Uniform Resource Locator</em> ), relacionadas às palavras-chaves que fornecemos. É mais impressionante ainda pensarmos que a ordem do resultado da busca está associado a relevância da página e seu contexto nas palavras-chaves.\n",
        "\n",
        "\n",
        "<img src=\"./figs/google1.png\" width=\"750\">\n",
        "\n",
        "\n",
        "A pergunta que podemos fazer é: \n",
        "\n",
        "**Como o Google responde de maneira tão rápida nossas buscas? E mais, como organiza a lista de resultado baseado na sua relevância? Por qual critério as páginas são listadas?**"
      ]
    },
    {
      "cell_type": "markdown",
      "metadata": {},
      "source": [
        "### O algoritmo <em> PageRank </em> \n",
        "\n",
        "O método <em> PageRank </em> de organizar as páginas da web é a estratégia utilizada pelo Google para poder ordenar e classificar os resultadas das buscas que são realizadas na sua plataforma. Consiste em um número que calcula a relevância da página com relação as outras. Quanto maior o <em> PageRank </em> de uma página, mais relevante ela é $^1$.\n",
        "\n",
        "Toda página analisada pelo Google $^2$ possui o seu próprio <em> PageRank </em>, calculado por um algoritmo sofisticado independentemente das palaras utilizadas na busca, e continuamente atualizado pela evolução da rede. \n",
        "\n",
        "De modo a gerar o ranking de todas páginas da web, o <em> PageRank </em> (a partir daqui, vamos citá-lo apenas como PR) simula o comportamente de alguém que está navegando pela rede de modo randômico e incessantemente, fazendo buscas e seguindo uma trilha de links de uma página a outra. O PR é um indíce numérico que leva em consideração apenas a estrutura da web (isto é, como as páginas estão relacionadas entre si), e não acessa o conteúdo das páginas, não analisa a veracidade das informações ou julga o conteúdo.\n",
        "\n",
        "A partir dessas informações, vamos estudar como construir um modelo matemático e depois usar uma estratégia numérica para calcular o <em> PageRank </em> de uma rede relativamente simples. Com isso, poderemos listar as páginas a partir do nosso resultado, do maior para o menor indíce.\n",
        "\n",
        "\n",
        "<font size=\"2\">1 O que vamos falar aqui é apenas a versão pública do algoritmo. Provavelmente essa versão já é obsoleta, pois a atual é guardada a sete chaves.</font> \n",
        "\n",
        "<font size=\"2\">2 Em 2024, número total de páginas rankeadas pelo Google é de 60 bilhões.</font>"
      ]
    },
    {
      "cell_type": "markdown",
      "metadata": {},
      "source": [
        "### Utilizando grafos para modelar uma rede\n",
        "\n",
        "Considere uma rede (muito) pequena dada pela figura abaixo:\n",
        "\n",
        "<img src=\"./figs/google2.png\" width=\"600\">\n",
        "\n",
        "Essa rede será modelada por um grafo, ou melhor, um grafo direcionado, que nada mais é que uma coleção de elementos (chamados nós) e conexões (chamadas arestas) orientadas de um nó para o outro. No nosso caso, cada página será representada por um nó e cada aresta é um link entre duas páginas, conforme a figura abaixo:\n",
        "\n",
        "\n",
        "<img src=\"./figs/google3.png\" width=\"450\">\n",
        "\n",
        "A informação gerada pelo gráfico acima, ou sejam o número $N$ de nós e arestas pode ser armazenado em uma matriz, chamada de **matriz de adjacência de um grafo**:\n",
        "\n",
        "A matriz de adjacência $A$ de um grafo possui $N$ linhas e colunas e seus elementos $a_{ij}$ são dados por\n",
        "\n",
        "$$a_{ij} = \\left\\{ \\begin{array}{ll}\n",
        "            1, \\text{se existe um link do nó j para o nó i;} \\\\\n",
        "            0, \\text{o contrário.}\n",
        "\t       \\end{array} \\right.$$\n",
        "\n",
        "Para o nosso exemplo da rede acima, a matriz de adjacência $A$ é dada por:\n",
        "\n",
        "$$A = \\left[\\begin{array}{rrrrr}\n",
        "0 & 0 & 1 & 0 \\\\ \n",
        "1 & 0 & 1 & 0 \\\\ \n",
        "1 & 0 & 0 & 0 \\\\ \n",
        "0 & 1 & 1 & 0 \n",
        "\\end{array}\\right]$$\n",
        "\n",
        "Observe que a primeira coluna armazena a informação dos links originarios do primeiro nó e apontando para os outros nós. Olhando a matriz, podemos inferir que dois links saem do nó 1: um para o nó 2 (e portanto $a_{21} = 1$) e um para o nó 3 ($a_{31} = 1$).\n",
        "\n",
        "A segunda coluna de $A$ possui apenas um elemento não nulo, o $a_{42}$. De fato, existe apenas um link saindo do nó 2 para o nó 4, como podemos confirmar pela figura acima. A terceira coluna possui todos elementos iguais a 1 exceto o da diagonal principal ($a_{33}$), ou seja, existe links saindo do nó 3 para todos outros nós, exceto ele mesmo. A última coluna, a quarta, possui todos elementos zerados: nenhum link sai do nó 4 para outros nós.\n"
      ]
    },
    {
      "cell_type": "code",
      "execution_count": 16,
      "metadata": {},
      "outputs": [
        {
          "name": "stdout",
          "output_type": "stream",
          "text": [
            "A matriz de adjacência do grafo é: [[0 0 1 0]\n",
            " [1 0 1 0]\n",
            " [1 0 0 0]\n",
            " [0 1 1 0]]\n"
          ]
        }
      ],
      "source": [
        "#vamos criar a matriz A:\n",
        "\n",
        "A = np.array([\n",
        "    [0,0,1,0],\n",
        "    [1,0,1,0],\n",
        "    [1,0,0,0],\n",
        "    [0,1,1,0]\n",
        "])\n",
        "print(f'A matriz de adjacência do grafo é: {A}')"
      ]
    },
    {
      "cell_type": "markdown",
      "metadata": {},
      "source": [
        "### Da matriz de adjacência para a matriz Google\n",
        "\n",
        "Vamos agora indicar por $L_j$ o número de conexões saindo do nó $j$, para todo $j = 1, \\ldots, N$. Definimos agora uma nova matriz $H$ de ordem $N$ cujos elementos $h_{ij}$ são dados por:\n",
        "\n",
        "$$h_{ij} = \\left\\{ \\begin{array}{ll}\n",
        "            \\dfrac{1}{L_j}, \\ \\ \\text{se} \\ \\ L_{ij}  \\neq 0 \\ \\ \\text{e existe um link do nó j para o nó i;} \\\\\n",
        "            0, \\text{o contrário.}\n",
        "\t       \\end{array} \\right.$$\n",
        "\n",
        "Para o nosso exemplo da rede acima, temos que $L_1 = 2$. $L_2 = 1$, $L_3 = 3$ e $L_4 = 0$. Assim, montamos a matriz H:\n",
        "\n",
        "$$H = \\left[\\begin{array}{rrrrr}\n",
        "0           & 0 & \\frac{1}{3} & 0 \\\\ \n",
        "\\frac{1}{2} & 0 & \\frac{1}{3} & 0 \\\\ \n",
        "\\frac{1}{2} & 0 & 0           & 0 \\\\ \n",
        "0           & 1 & \\frac{1}{3} & 0 \n",
        "\\end{array}\\right]$$\n",
        "\n",
        "Note agora que os elementos de $H$ são números entre $0$ e $1$ e a soma de todos elementos de uma **coluna** é sempre um, exceto quando não existe link saindo do nó (como o caso da coluna 4 da matriz acima)."
      ]
    },
    {
      "cell_type": "code",
      "execution_count": 17,
      "metadata": {},
      "outputs": [
        {
          "name": "stdout",
          "output_type": "stream",
          "text": [
            "A matriz H é: [[0.    0.    0.333 0.   ]\n",
            " [0.5   0.    0.333 0.   ]\n",
            " [0.5   0.    0.    0.   ]\n",
            " [0.    1.    0.333 0.   ]]\n"
          ]
        }
      ],
      "source": [
        "#vamos criar a matriz H:\n",
        "\n",
        "H = np.array([\n",
        "    [0,  0,1/3,0],\n",
        "    [1/2,0,1/3,0],\n",
        "    [1/2,0,0,  0],\n",
        "    [0,  1,1/3,0]\n",
        "])\n",
        "print(f'A matriz H é: {H.round(3)}')"
      ]
    },
    {
      "cell_type": "markdown",
      "metadata": {},
      "source": [
        "**O que os elementos da matriz H parecem?**"
      ]
    },
    {
      "cell_type": "markdown",
      "metadata": {},
      "source": [
        "A matriz H na verdade é uma matriz de possibilidades, ou uma matriz de probabilidades, onde cada elemento $h_{ij}$ representa a probabilidade de algum usuário que está na página $j$ da rede clicar no link que o leva da página $j$ para a página $i$.\n",
        "\n",
        "É importante salientar que tanto a matriz $A$ como a matrz $H$ possuem informações apenas das conexões entre páginas, e nada relativo ao conteúdo dessas.\n",
        "\n",
        "**Mas o que acontece com o usuario que chega na página do nó 4?**\n",
        "\n",
        "Note que a matriz $H$ não fornece exatamente toda informação que precisamos. Geralmente, um usuário que chega em um página que não possui nenhum link, simplesmente começa uma nova busca ou digita outro site para navegar. Precisamos adicionar essa informação na nossa matriz, ou seja, a ação do usuário sair de uma página como a do nó 4 e ir para outra. Os valores nulos da quarta coluna da matriz $H$ devem ser substituídos por algum valor mais concreto, ou melhor, uma probabilidade do usuário sair da página do nó 4 e ir para outra por meio de uma nova busca, e não pelo link.\n",
        "\n",
        "Como, <em> a priori </em> , não existe preferência por págna, assumiremos que a probabilidade para acessar uma nova página é igual para todas, isto é, vale $1/N$. Portanto, substituímos a matriz $H$ pela matriz $S$ tal que:\n",
        "\n",
        " - se $j$ é um nó nulo (sem links para outros nós), todos elementos da coluna $j$ são definidos como $1/N$;\n",
        " - do contrário, definimos $s_{ij} = h_{ij}$, ou seja, mantemos a informação da matriz $H$.\n",
        "\n",
        " Precisamente, temos:\n",
        "\n",
        "$$s_{ij} = \\left\\{ \\begin{array}{ll}\n",
        "            \\dfrac{1}{N}, \\ \\ \\text{se} \\ \\ L_{ij}  = 0; \\\\\n",
        "            \\dfrac{1}{L_j}, \\ \\ \\text{se} \\ \\ L_{ij}  \\neq 0 \\ \\ \\text{e existe um link do nó j para o nó i;} \\\\\n",
        "            0,, \\ \\ \\text{se} \\ \\ L_{ij}  \\neq 0 \\ \\ \\text{e não existe um link do nó j para o nó i.} \\\\\n",
        "\t       \\end{array} \\right.$$\n",
        "\n",
        "Para a nossa rede, temos:\n",
        "\n",
        "$$H = \\left[\\begin{array}{rrrrr}\n",
        "0           & 0 & \\frac{1}{3} & \\frac{1}{4} \\\\ \n",
        "\\frac{1}{2} & 0 & \\frac{1}{3} & \\frac{1}{4} \\\\ \n",
        "\\frac{1}{2} & 0 & 0           & \\frac{1}{4} \\\\ \n",
        "0           & 1 & \\frac{1}{3} & \\frac{1}{4} \n",
        "\\end{array}\\right]$$"
      ]
    },
    {
      "cell_type": "code",
      "execution_count": 18,
      "metadata": {},
      "outputs": [
        {
          "name": "stdout",
          "output_type": "stream",
          "text": [
            "A matriz S é: [[0.    0.    0.333 0.25 ]\n",
            " [0.5   0.    0.333 0.25 ]\n",
            " [0.5   0.    0.    0.25 ]\n",
            " [0.    1.    0.333 0.25 ]]\n"
          ]
        }
      ],
      "source": [
        "#vamos criar a matriz S:\n",
        "\n",
        "S = np.array([\n",
        "    [0,  0,1/3,1/4],\n",
        "    [1/2,0,1/3,1/4],\n",
        "    [1/2,0,0,  1/4],\n",
        "    [0,  1,1/3,1/4]\n",
        "])\n",
        "print(f'A matriz S é: {S.round(3)}')"
      ]
    },
    {
      "cell_type": "markdown",
      "metadata": {},
      "source": [
        "Agora, a soma dos elementos de qualquer coluna é sempre um:\n",
        "\n",
        "$$\\sum_{i = 1}^N a_{ij} = 1 \\ \\ \\ \\ \\forall \\ j = 1, \\ldots, N$$ "
      ]
    },
    {
      "cell_type": "markdown",
      "metadata": {},
      "source": [
        "Para criar a matriz Google, utilizada pela plataforma, precisamos considerar que os usuários não apenas seguem links: mesmo tendo um, alguém pode simplesmente mudar de páginas digitando um novo endereço ou começando uma nova busca. Para simular essa mudança de caminho, introduzimos um novo parâmetro $\\alpha$, de modo que $\\alpha \\in \\mathbb{R}$ e $0 \\leq \\alpha \\leq 1$, e definimos a matriz Google $G$, cujos elementos são dados por:\n",
        "\n",
        "$$g_{ij} = \\alpha s_{ij} + \\dfrac{1 - \\alpha}{N}$$\n",
        "\n",
        "O elemento $g_{ij}$ expressa a probabilidade de um usuário, visitando a página $j$, trocar para a página $i$. Observe que cada elemento $g_{ij}$ representa um número real entre $0$ e $1$, e a soma dos elementos de cada coluna de $G$ é sempre $1$. Matematicamente:\n",
        "\n",
        "\n",
        "$$\\begin{array}{ll}\n",
        "            0 \\leq g_{ij} \\leq 1 & \\forall i,j = 1, \\ldots, N; \\\\\n",
        "            g_{1j} + g_{2j} + g_{3j} + \\ldots + g_{Nj} = 1 & \\forall j = 1, \\ldots, N\n",
        "\t       \\end{array} \n",
        "           $$\n",
        "\n",
        "O que acontece se $\\alpha$ for igual a zero? Temos que $g_{ij} = \\dfrac{1}{N}$ para todo par $i$ e $j$ de nós. Nesse caso, a matriz $G$ modela um usuário que navega pelas páginas pulando de uma para a outra com a mesma probabilidade. Quando $\\alpha$ é diferente de zero, quanto maior ele for, maior é a probabilidade de um usuário seguir o caminho pelos links das páginas, e não começar uma nova busca ou digitar um novo site. \n",
        "\n",
        "Abaixo, construimos a matriz $G$ para nossa rede de 4 páginas usando $\\alpha = 0.85$."
      ]
    },
    {
      "cell_type": "code",
      "execution_count": 22,
      "metadata": {},
      "outputs": [
        {
          "name": "stdout",
          "output_type": "stream",
          "text": [
            "[[0.0375     0.0375     0.32083333 0.25      ]\n",
            " [0.4625     0.0375     0.32083333 0.25      ]\n",
            " [0.4625     0.0375     0.0375     0.25      ]\n",
            " [0.0375     0.8875     0.32083333 0.25      ]]\n"
          ]
        }
      ],
      "source": [
        "#definimos parametros iniciais\n",
        "N     = 4\n",
        "alpha = 0.85\n",
        "\n",
        "# primeiro vamos criar uma matriz nula de ordem 4\n",
        "G = np.zeros((N,N))\n",
        "\n",
        "#agora calculamos cada gij baseado na fórmula acima\n",
        "for i in range(N):\n",
        "    for j in range(N):\n",
        "\n",
        "        G[i,j] = alpha*S[i,j] + (1 - alpha)/N\n",
        "\n",
        "print(G)\n"
      ]
    },
    {
      "cell_type": "markdown",
      "metadata": {},
      "source": [
        "## O modelo matemático\n",
        "\n",
        "Até agora, não calculamos efetivamente o valor do <em> PageRank </em> das páginas. Criamos uma matriz que nos ajuda nesse sentido, baseado em probabilidades. Seja, portanto, $p_i$ o <em> PageRank </em> de uma página $i$ qualquer. Esse número representará uma probabilidade, logo, \n",
        "\n",
        "$$ 0 \\leq p_i \\leq 1 \\ \\ \\ \\ \\forall i = 1, \\ldots, N.$$\n",
        "\n",
        "Vamos supor também que\n",
        "\n",
        "$$p_i + p_2 + p_3 + \\ldots + p_N$$\n",
        "\n",
        "Vamos computar o valor de $p_i$ utilizando as informações da matriz Google $G$. Começaremos com a página do nó 2 da nossa rede dada lá no início do notebook. Um usuário qualquer pode chegar à página 2 a partir de um link de uma outra página ou começando uma busca que inicia na página 2. Vamos considerar a primeira opção, onde nosso usuário chegou a página 2 a partir de um link na página 1. Na matriz Google, a probabilidade dessa situação é dada por $g_{21}$ (lembre que esse valor é a probabilidade de um usuário que está na página 1 seguir para a página 2). Agora, o fato do usuário estar na página um não é um evento certo, isto é, não podemos assumir isso com nenhuma certeza. A probabilidade do usuário estar na página 1 é exatamente o <em> PageRank </em> da página 1, $p_1$.\n",
        "\n",
        "**Resumindo:** a probabilidade de um usuário chegar à página 2 a partir da página um é **CONDICIONAL**, isto é, depende da condição dele já estar na página 1. A isso damos o nome de probabilidade condicional, e essa é calculada pelo produto $g_{21}p_1$. \n",
        "\n",
        "De maneira análoga, $g_{22}p_2$ expressa a probabilidade de se manter na página 2; $g_{23}p_3$ a probabilidade de chegar à página 2 a partir da página 3, condicionando o fato de já estar na página 3 e por fim, $g_{24}p_4$ a probabilidade de chegar à página 2 a partir da página 4, condicionando o fato de já estar na página 4. \n",
        "\n",
        "Portanto, a **probabilidade total de visitar a página 2** é dada por:\n",
        "\n",
        "$$p_2 = g_{21}p_1 + g_{22}p_2 + g_{23}p_3 + g_{24}p_4 $$\n",
        "\n",
        "Essa fórmula não aparece 'do nada'. Ela é um resultado da lei de probabilidade total, cuja hipótese fundamental de aplicação é assumir que o usuário não pode visitar duas páginas ao mesmo tempo (isto é, ele não fica abrindo várias abas no navegador!!). \n",
        "\n",
        "Seguindo o mesmo argumento para obter o <em> PageRank </em> das outras páginas, temos\n",
        "\n",
        "$$\\left\\{ \\begin{array}{l}\n",
        "            p_1 = g_{11}p_1 + g_{12}p_2 + g_{13}p_3 + g_{14}p_4; \\\\\n",
        "            p_2 = g_{21}p_1 + g_{22}p_2 + g_{23}p_3 + g_{24}p_4; \\\\\n",
        "            p_3 = g_{31}p_1 + g_{32}p_2 + g_{33}p_3 + g_{34}p_4; \\\\\n",
        "            p_4 = g_{41}p_1 + g_{42}p_2 + g_{43}p_3 + g_{44}p_4.\n",
        "\t       \\end{array} \\right.$$\n",
        "\n",
        "Cada <PageRank> depende do índice das outras páginas. Chegamos, assim, em um sistema $4 \\times 4$ que nos permite calcular os índices das 4 páginas a partir da rede que consideramos. Generalizando para uma rede com dimensão $N$, isto é, com $N$ páginas, temos:\n",
        "\n",
        "$$\\left\\{ \\begin{array}{l}\n",
        "            p_1 = g_{11}p_1 + g_{12}p_2 + g_{13}p_3 + \\ldots + g_{1N}p_N; \\\\\n",
        "            p_2 = g_{21}p_1 + g_{22}p_2 + g_{23}p_3 + \\ldots + g_{2N}p_N \\\\\n",
        "            p_3 = g_{31}p_1 + g_{32}p_2 + g_{33}p_3 + \\ldots + g_{3N}p_N \\\\\n",
        "            \\vdots \\ \\ \\ \\ \\ \\ \\ \\ \\ \\ \\ \\ \\ \\ \\ \\ \\ \\ \\ \\ \\vdots \\ \\ \\ \\ \\ \\ \\ \\ \\ \\ \\ \\ \\  \\ \\ \\ \\ \\ \\ \\ \\vdots \\ \\ \\ \\ \\ \\ \\  \\ \\ \\ \\ \\ \\ \\ \\ \\ \\ \\ \\ \\ \\vdots\\\\\n",
        "            p_N = g_{N1}p_1 + g_{N2}p_2 + g_{N3}p_3 + \\ldots + g_{NN}p_N\n",
        "\t       \\end{array} \\right.$$\n",
        "\n",
        "Usando a matriz Google $G$ generalizada e colocando todos <em> PageRanks </em> em um vetor ${\\bm p} = [p_1, p_2, p_3, \\ldots, p_N] $, o sistema acima pode ser escrito como\n",
        "\n",
        "$$ {\\bm p} = G{\\bm p} $$"
      ]
    },
    {
      "cell_type": "markdown",
      "metadata": {},
      "source": [
        "Enfim, chegamos em um modelo matemático para calcular o <em> PageRanks </em> das páginas da rede. O sistema obtido acima nos permite calcular o índice para as $N$ páginas de uma rede. As condições\n",
        "\n",
        "$$\\begin{array}{ll}\n",
        "            0 \\leq g_{ij} \\leq 1 & \\forall i,j = 1, \\ldots, N; \\\\\n",
        "            g_{1j} + g_{2j} + g_{3j} + \\ldots + g_{Nj} = 1 & \\forall j = 1, \\ldots, N\n",
        "\t       \\end{array} \n",
        "           $$\n",
        "\n",
        "garantem que o sistema ${\\bm p} = G{\\bm p}$ possui uma solução única, ou seja, existe apenas um índice <em> PageRank </em> para cada página da rede."
      ]
    },
    {
      "cell_type": "markdown",
      "metadata": {},
      "source": [
        "### Como resolver o problema?\n",
        "\n",
        "O sistema ${\\bm p} = G{\\bm p}$ não é usual, tendo em vista que a solução ${\\bm p}$ aparece em ambos os lados da equação. Dizemos que o sistema é **implícito**, o que significa que ${\\bm p}$ é conhecido apenas implicitamente em termos de si mesmo. \n",
        "\n",
        "Uma alternativa para resolver o sistema é usar uma estratégia parecida com a dos métodos de Jacobi e Gauss-Seidel, ou seja, criar um processo iterativo a partir de ${\\bm p} = G{\\bm p}$. Assim, podemos iniciar nosso processo com o vetor solução ${\\bm p}$ da primeira iteração dado por \n",
        "\n",
        "$$ {\\bm p}^{(0)}  = \\left[\\begin{array}{c}\n",
        "\\frac{1}{N} \\\\ \n",
        "\\frac{1}{N} \\\\ \n",
        "\\frac{1}{N} \\\\ \n",
        "\\vdots \\\\\n",
        "\\frac{1}{N} \n",
        "\\end{array}\\right]$$\n",
        "\n",
        "o que significa que, inicialmente, a probabilidade do usuário acessar qualquer página é sempre a mesma. Iteramos a partir da equação ${\\bm p} = G{\\bm p}$ para obter uma segunda estimativa:\n",
        "\n",
        "$${\\bm p}^{(1)} = G{\\bm p}^{(0)}$$\n",
        "\n",
        "e com isso, podemos seguir para uma terceira estimativa:\n",
        "\n",
        "$${\\bm p}^{(2)} = G{\\bm p}^{(1)}$$\n",
        "\n",
        "e assim por diante. Logo, o processo numérico iterativo para solução do sistema é, dado uma estimativa inicial ${\\bm p}^{(0)}$, para $k = 1, 2, \\ldots $, calcular \n",
        "\n",
        "$${\\bm p}^{(k)} = G{\\bm p}^{(k - 1)}$$\n",
        "\n",
        "Como vimos, o critério de parada será a partir do erro relativo entre cada uma das iterações, até atingir uma tolerância $\\epsilon$ desejada, isto é, \n",
        "\n",
        "$$ e_{N}^{k} = \\dfrac{|{\\bm p}^{(k)} - {\\bm p}^{(k-1)}|}{|{\\bm p}^{(k)}|} < \\epsilon$$\n",
        "\n",
        "Vamos agora calcular a solução para os <em> PageRanks </em> da nossa rede de 4 páginas.\n",
        "\n"
      ]
    },
    {
      "cell_type": "code",
      "execution_count": 31,
      "metadata": {},
      "outputs": [
        {
          "name": "stdout",
          "output_type": "stream",
          "text": [
            "Iteração 1 ----- Solução: [0.16145833 0.26770833 0.196875   0.37395833] ----- Erro: 0.33147632311977704\n",
            "Iteração 2 ----- Solução: [0.1727474  0.24136719 0.18558594 0.40029948] ----- Erro: 0.06580359756692587\n",
            "Iteração 3 ----- Solução: [0.17514632 0.24856396 0.19598128 0.38030843] ----- Erro: 0.027333985273568832\n",
            "Iteração 4 ----- Solução: [0.17384357 0.24828076 0.19275273 0.38512294] ----- Erro: 0.012501230768870556\n",
            "Iteração 5 ----- Solução: [0.1739519  0.24783542 0.19322214 0.38499054] ----- Erro: 0.001219289171885887\n",
            "Iteração 6 ----- Solução: [0.17405676 0.24798632 0.19324005 0.38471687] ----- Erro: 0.00039224903956675374\n",
            "Vetor solução final: [0.17405676 0.24798632 0.19324005 0.38471687]\n"
          ]
        }
      ],
      "source": [
        "#primeiro, definimos o vetor inicial p\n",
        "p = [1/N for n in range(N)]\n",
        "\n",
        "#tolerancia\n",
        "tol  = 1e-3\n",
        "pant = p.copy() \n",
        "\n",
        "#criamos a variavel erro para controlar a iteração\n",
        "erro = 1\n",
        "it   = 0\n",
        "\n",
        "while erro > tol:\n",
        "\n",
        "    #colocamos a formula usando .dot(), pois queremos produto matriz por vetor\n",
        "    p = G.dot(p)\n",
        "\n",
        "    #calculamos o erro\n",
        "    erro = abs(max(p - pant))/max(abs(p))\n",
        "\n",
        "    #atualizamos a variavel\n",
        "    pant = p\n",
        "\n",
        "    #contagem de iterações:\n",
        "    it += 1\n",
        "    print(f'Iteração {it} ----- Solução: {p} ----- Erro: {erro}')\n",
        "\n",
        "print(f'Vetor solução final: {p}')\n",
        "    "
      ]
    },
    {
      "cell_type": "markdown",
      "metadata": {},
      "source": [
        "O algoritmo parou em 6 iteraçõs, obtendo o vetor solução final. Com ele, temos o índice <em>PageRank</em> de cada uma das páginas, na ordem 1,2,3,4:"
      ]
    },
    {
      "cell_type": "code",
      "execution_count": 32,
      "metadata": {},
      "outputs": [
        {
          "name": "stdout",
          "output_type": "stream",
          "text": [
            "p1 ----- 0.17405676419671373\n",
            "p2 ----- 0.24798632090367206\n",
            "p3 ----- 0.19324004703341588\n",
            "p4 ----- 0.38471686786619813\n"
          ]
        }
      ],
      "source": [
        "for i in range(N):\n",
        "    print(f'p{i+1} ----- {p[i]}')"
      ]
    },
    {
      "cell_type": "markdown",
      "metadata": {},
      "source": [
        "Como conclusão, temos que a página 4 tem o maior <em>PageRank</em>, seguido da página 2, depois a página 3 e por fim a página 1. Essa seria a ordem em que apareceriam as páginas em uma busca pelo Google!"
      ]
    },
    {
      "cell_type": "markdown",
      "metadata": {},
      "source": [
        "#### Exercícios\n",
        "\n",
        "Abaixo, dois exercícios para treinar o que aprendemos nesse notebook!\n",
        "\n",
        "**Exercício 1:**\n",
        "\n",
        "Encontre os índices <em>PageRanks</em> da rede abaixo:\n",
        "\n",
        "<img src=\"./figs/google4.png\" width=\"750\">\n",
        "\n"
      ]
    },
    {
      "cell_type": "markdown",
      "metadata": {},
      "source": [
        "**Exercício 2:**\n",
        "\n",
        "Encontre os índices <em>PageRanks</em> para uma rede cujo grafo é dado abaixo:\n",
        "\n",
        "<img src=\"./figs/google5.png\" width=\"750\">"
      ]
    }
  ],
  "metadata": {
    "colab": {
      "provenance": []
    },
    "kernelspec": {
      "display_name": "Python 3",
      "language": "python",
      "name": "python3"
    },
    "language_info": {
      "codemirror_mode": {
        "name": "ipython",
        "version": 3
      },
      "file_extension": ".py",
      "mimetype": "text/x-python",
      "name": "python",
      "nbconvert_exporter": "python",
      "pygments_lexer": "ipython3",
      "version": "3.12.2"
    }
  },
  "nbformat": 4,
  "nbformat_minor": 0
}
