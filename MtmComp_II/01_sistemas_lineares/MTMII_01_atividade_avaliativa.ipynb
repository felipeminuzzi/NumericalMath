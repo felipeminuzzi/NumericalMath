{
 "cells": [
  {
   "cell_type": "markdown",
   "metadata": {},
   "source": [
    "# Matemática Computacional II\n",
    "- Prof. Felipe C. Minuzzi\n",
    "- felipe.minuzzi@ufsm.br\n",
    "\n",
    "## Atividade avaliativa\n",
    "### Sistemas lineares"
   ]
  },
  {
   "cell_type": "markdown",
   "metadata": {},
   "source": [
    "**Atividade 1:**\n",
    "\n",
    "Desenvolva uma função em python (sem bibliotecas prontas) para encontrar a solução de um sistema linear qualquer de ordem $n$. \n",
    "\n",
    "Utilize o código desenvolvido para encontrar a solução dos seguintes sistemas:\n",
    "\n",
    "a) $\\begin{cases} \n",
    "\t         2x_1 + 3x_2 + x_3 +5x_4= 11\\\\ \n",
    "\t         x_1  + 3.5x_2  + x_3 +7.5x_4= 13\\\\\n",
    "\t         1.4x_1 + 2.7x_2 + 5.5x_3 + 12x_4 = 21.6\\\\\n",
    "\t         -2x_1 + 1x_2 + 3x_3 +28x_4 = 30\n",
    "\t         \\end{cases}$\n",
    "    \n",
    "b) $\\begin{cases} \n",
    "\t         6.1x_1 + 0.32x_2 + 1.3x_3 +2.1x_4 + 0.11x_5 = 19.52\\\\ \n",
    "\t         0.82x_1  + 8.81x_2  + 1.01x_3 +3x_4 + 3.12x_5= 15.83\\\\\n",
    "\t         0.5x_1 + 1.78x_2 + 15.2x_3 + 4.2x_4 +8.1x_5= -22.14\\\\\n",
    "\t         4.2x_1 + 5.3x_2 + 1.8x_3 +20.9x_4 +7.51x_5 = 27.28\\\\\n",
    "\t         0.2x_1 + 9.1x_2 + 4.68x_3 +4.3x_4 +20.1x_5  = -21.78\n",
    "\t         \\end{cases}$\n",
    "             \n",
    "c)$ \\begin{cases} \n",
    "    12.1756 x_1 + 4.0231 x_2 - 2.1732 x_3 + 5.1967 x_4 = 17.1020\\\\ \n",
    "   -4.0231 x_1 + 6.0030 x_2              + 1.1973 x_4 = -6.1593\\\\\n",
    "   -1.0000 x_1 - 5.2107 x_2 + 11.1111 x_3              =  3.0004\\\\\n",
    "\t6.0235 x_1 + 7.0000 x_2 +            - 14.1561 x_4 =  0.0000\n",
    "\\end{cases} $"
   ]
  },
  {
   "cell_type": "markdown",
   "metadata": {},
   "source": [
    "**Atividade 2:**\n",
    "\n",
    "Encontre a solução dos sistemas:\n",
    "\n",
    "a) \n",
    "\n",
    "$$\\left[\n",
    "\\begin{array}{ccccc}\n",
    "    2  &  1  &  0  &  0 &  0  \\\\\n",
    "    1  &  2  & 1  &  0  & 0  \\\\\n",
    "    0  &  1  &  2  &  1  & 0  \\\\\n",
    "    0 &  0  &  1  &  2  & 1  \\\\\n",
    "    0  &  0  &  0  &  1  & 2 \n",
    "\\end{array}\n",
    "\\right]\n",
    "\\left[\n",
    "\\begin{array}{cc}\n",
    "   x_1  \\\\\n",
    "   x_2   \\\\\n",
    "   x_3   \\\\\n",
    "   x_4   \\\\\n",
    "   x_5 \n",
    "\\end{array}\n",
    "\\right]\n",
    "=\n",
    "\\left[\n",
    "\\begin{array}{cc}\n",
    "   4  \\\\\n",
    "   4   \\\\\n",
    "   0   \\\\\n",
    "   0   \\\\\n",
    "   2\n",
    "\\end{array} \\right]$$\n",
    "\n",
    "\n",
    "b) \n",
    "\n",
    "$$\\left\\{ \\begin{array}{ll}\n",
    "     x_1 + 2x_2 + 3x_3 + 4x_4 + 5x_5 & = 6  \\\\\n",
    "     3x_1 + 4x_2 + 5x_3 + 2x_4 + 3x_5 & = 10  \\\\\n",
    "     4x_1 + 5x_2 + 12x_3 - 5x_4 - x_5 & = 1  \\\\\n",
    "     -4x_1 -5x_2 + 6x_3 + 2x_4 + 3x_5 & = 4 \\\\\n",
    "     4x_1 + 5x_2 + 3x_3 + 3x_4 + 3x_5 & = -14\n",
    "\\end{array} \\right.$$\n",
    "\n",
    "\n",
    "usando fatoração LU."
   ]
  },
  {
   "cell_type": "markdown",
   "metadata": {},
   "source": [
    "**Atividade 3**\n",
    "\n",
    "Encontre a solução do sistema dado por:\n",
    "\n",
    "$$\\left\\{\n",
    "\\begin{array}{l}\n",
    "1x_1 + 4x_2 + 9x_3 + 16x_4 = 30\\\\\n",
    "4x_1 + 9x_2 + 16x_3+ 25x_4 = 54\\\\\n",
    "9x_1 + 16x_2+ 25x_3+ 36x_4 = 86\\\\\n",
    "16x_1+ 25x_2+ 36x_3+ 49x_4 = 126\n",
    "\\end{array}\n",
    "\\right.$$\n",
    "\n",
    "pelo método de Jacobi-Richardison. Crie ou utilize algum dos algoritmos vistos no notebook acima. \n",
    "**Tire a prova real** da solução (isto é, substitua o vetor solução no sistema para ver se esse é consistente). \n",
    "\n",
    "O que você pode inferir do resultado e porque? \n",
    "\n",
    "Agora, utilize o mesmo método para resolver o sistema:\n",
    "\n",
    "$$\\left[\\begin{array}{rrrrr}8 & -2 & -1 & 0 & 0 \\\\ -2 & 9 & -4 & -1 & 0 \\\\ -1 & -3 & 7 & -1 & -2 \\\\ 0 & -4 & -2 & 12 & -5 \\\\ 0 & 0 & -7 & -3 & 15\\end{array}\\right]\n",
    "\\left[\\begin{array}{l}x_1 \\\\ x_2 \\\\ x_3 \\\\ x_4 \\\\ x_5\\end{array}\\right]=\\left[\\begin{array}{l}5 \\\\ 2 \\\\ 0 \\\\ 1 \\\\ 5\\end{array}\\right]\n",
    "$$\n",
    "\n"
   ]
  },
  {
   "cell_type": "markdown",
   "metadata": {},
   "source": [
    "**Atividade 4**\n",
    "\n",
    "Considere o problema de 5 incógnitas e cinco equações dado por\n",
    "\n",
    "$$\\left\\{\n",
    "\\begin{array}{r}\n",
    "x_1-x_2&=&1\\\\\n",
    "-x_{1}+2x_2-x_{3}&=&1\\\\\n",
    "-x_{2}+(2+\\varepsilon) x_3-x_{4}&=&1\\\\\n",
    "-x_{3}+2x_4-x_{5}&=&1\\\\\n",
    "x_{4}-x_{5}&=&1\n",
    "\\end{array}\n",
    "\\right.$$\n",
    "\n",
    "- a) Escreva na forma $Ax=b$;\n",
    "- b) Obtenha o vetor incógnita $x$ com $\\varepsilon=10^{-3}$ usando Jacobi com tolerância $10^{-2}$;\n",
    "- c) Obtenha o vetor incógnita $x$ com $\\varepsilon=10^{-3}$ usando Gauss-Seidel com tolerância $10^{-2}$;\n",
    "- d) Compare os resultados.\n"
   ]
  },
  {
   "cell_type": "code",
   "execution_count": null,
   "metadata": {
    "vscode": {
     "languageId": "plaintext"
    }
   },
   "outputs": [],
   "source": [
    "#codigo para exportar o arquivo em html, para poder salvar em pdf\n",
    "!jupyter nbconvert --to html /content/MTMII_01_atividade_avaliativa.ipynb"
   ]
  }
 ],
 "metadata": {
  "language_info": {
   "name": "python"
  }
 },
 "nbformat": 4,
 "nbformat_minor": 2
}
