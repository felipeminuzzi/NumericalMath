{
  "cells": [
    {
      "cell_type": "markdown",
      "metadata": {
        "id": "UaRYv45c9SpV"
      },
      "source": [
        "# Matemática Computacional II\n",
        "- Prof. Felipe C. Minuzzi\n",
        "- felipe.minuzzi@ufsm.br\n",
        "\n",
        "## Métodos iterativos para solução de sistemas\n",
        "\n",
        "Em certos casos, os métodos iterativos são mais indicados do que os métodos diretos (exatos), como por exemplo, quando a matriz dos coeficientes é uma matriz esparsa, isto é, possui muitas entradas nulas. \n",
        "\n",
        "Esses métodos ainda necessitam de menos memória para armazenamento e possuem a vantagem de se auto corrigir se um erro é cometido. Além disso, podem ser usados para reduzir os erros de arredondamento na solução obtida por métodos exatos. Podem também, sob certas condições, resolver um conjunto de equações não lineares. Ao usar métodos iterativos, no entanto, precisamos sempre saber se a sequência se soluções aproximadas está convergindo ou não para a solução desejada.\n",
        "\n",
        "*Teorema:*\n",
        "\n",
        "A condição necessária e suficiente para a convergência do processo iterativo definido por $x = Hx + g$ é que $max \\{ |\\lambda_i |\\} < 1$, onde $\\lambda_i$ são os autovalores da matriz $H$.\n",
        "\n",
        "\n",
        "Como consequência do teorema acima, o processo será convergente se para qualquer norma de matrizes, $\\| H \\| < 1$. \n",
        "\n",
        "Assim, se $\\| H \\|<1$ para alguma norma, temos a garantia de que o processo iterativo dado por $ x - x^{(k)} = H(x-x^{(k-1)})$ converge para a solução exata $\\bar{x}$. A matriz $H$ é chamada **matriz de iteração**.\n"
      ]
    },
    {
      "cell_type": "markdown",
      "metadata": {
        "id": "dPaVKiAh9Spp"
      },
      "source": [
        "## Método iterativo de Jacobi-Richardson\n",
        "\n",
        "Considere um sistema  de equações lineares $Ax = b$ em que $det(A) \\neq 0$, com a diagonal principal $a_{ii} \\neq 0$, $i=1,...,n$ como segue\n",
        "\n",
        "$$ \\left\\{\\begin{array}{l}\n",
        "\t         a_{11}x_1 +a_{12}x_2 + \\cdots + a_{1n}x_n = b_1\\\\\n",
        "\t         a_{21}x_1 +a_{22}x_2 + \\cdots + a_{2n}x_n = b_2\\\\\n",
        "\t         \\vdots   \\\\\n",
        "\t         a_{n1}x_1 +a_{n2}x_2 + \\cdots + a_{nn}x_n = b_1\\\\\n",
        "\\end{array} \\right. $$\n",
        "\n",
        "Dividindo cada linha do sistema dado pelo elemento da diagonal e isolando $x_1$ na $1^a$ equação, $x_2$ na $2^a$ equação até $x_n$ na n-ésima equação, temos o sistema escrito na forma equivalente:\n",
        "\n",
        "$$ \\begin{cases}\n",
        "\t         x_1 = \\frac{1}{a_{11}} \\left(b_1  - a_{12}x_2 - a_{13}x_3 - \\cdots - a_{1n}x_n \\right)\\\\\n",
        "\t         x_2 = \\frac{1}{a_{22}} \\left(b_2  - a_{21}x_1 - a_{23}x_3 - \\cdots - a_{2n}x_n \\right)\\\\\n",
        "\t         \\vdots   \\\\\n",
        "\t         x_n = \\frac{1}{a_{nn}} \\left(b_n  - a_{n1}x_1 - a_{n2}x_2 - \\cdots - a_{n \\, n-1}x_{n-1} \\right)\\\\\n",
        "\\end{cases} $$\n",
        "\n",
        "O método iterativo de Jacobi-Richardson é dado da seguinte forma:\n",
        "\n",
        "$$ \\begin{cases}\n",
        "             x_1^{(k+1)} = \\frac{b_1}{a_{11}}  - \\frac{a_{12}}{a_{11}}x_2^{(k)} - \\frac{a_{13}}{a_{11}}x_3^{(k)} - \\cdots - \\frac{a_{1n}}{a_{11}}x_n^{(k)} \\\\\n",
        "\t         x_2^{(k+1)} = \\frac{b_2}{a_{22}}  - \\frac{a_{21}}{a_{22}}x_1^{(k)} - \\frac{a_{23}}{a_{22}}x_3^{(k)} - \\cdots - \\frac{a_{1n}}{a_{11}}x_n^{(k)} \\\\\n",
        "\t         \\vdots   \\\\\n",
        "\t         x_n^{(k+1)} = \\frac{b_n}{a_{nn}}  - \\frac{a_{n1}}{a_{nn}}x_1^{(k)} - \\frac{a_{n2}}{a_{nn}}x_3^{(k)} - \\cdots - \\frac{a_{n \\, n-1}}{a_{nn}}x_{n-1}^{(k)} \\\\\n",
        "\\end{cases} $$\n",
        "\n",
        "\n",
        "\n"
      ]
    },
    {
      "cell_type": "markdown",
      "metadata": {
        "id": "NyMzIcdz9Spr"
      },
      "source": [
        "### Convergência do método\n",
        "Se a matriz $A=(a_{ij})_{i,j=1.,,,,n}$ do sistema $Ax=b$ for estritamente diagonal dominante, ou seja,\n",
        "\n",
        "$$ |a_{ii}| > \\sum_{j=1,i\\neq j} |a_{ij}| , i=1,...n$$\n",
        "\n",
        "então, o método iterativo de Jacobi-Richardson será convergente."
      ]
    },
    {
      "cell_type": "markdown",
      "metadata": {
        "id": "1R20QuJN9Sps"
      },
      "source": [
        "### Critério de parada\n",
        "Considerando que o processo iterativo está fornecendo uma sequência convergente, um critério de parada para o algoritmo pode ser dado por\n",
        "\n",
        "$$ \\frac{\\parallel x^n - x^{n-1}\\parallel }{\\parallel x^n\\parallel} < \\epsilon$$\n",
        "\n",
        "para alguma norma vetorial $\\parallel . \\parallel : V \\rightarrow R$ e alguma tolerância $\\epsilon$ pré estabelecida.\n",
        "\n",
        "Por conveniência, é comum utilizarmos a norma infinito:\n",
        "\n",
        "$$ \\parallel x\\parallel _ \\infty = max \\{ |x_0|, |x_1|, ..., |x_n| \\}$$"
      ]
    },
    {
      "cell_type": "markdown",
      "metadata": {
        "id": "W0Q-wLoQ9Spw"
      },
      "source": [
        "**Exemplo 1:**\n",
        "\n",
        "Usando o método interativo de Jacobi-Richardson, determine uma solução aproximada para o seguinte sistema de equações lineares, com aproximação inicial $x^{0}=(0,0,0)^t$ e precisão $\\epsilon = 0.01$.\n",
        "\n",
        "$$ \\left\\{\\begin{array}{l}\n",
        "\t         10x_1 + 2x_2 + x_3 = 14\\\\\n",
        "\t         x_1 + 5x_2 + x_3 = 11\\\\\n",
        "\t         2x_1 + 3x_2 +10x_3 = 8\\\\\n",
        "\\end{array} \\right. $$\n",
        "\n",
        "cuja forma matricial é dada por:\n",
        "\n",
        "$$\n",
        "\\left[\\begin{array}{ccc}\n",
        "10 & 2 & 1\\\\\n",
        "1 & 5 & 1\\\\\n",
        "2 & 3 & 10\\\\\n",
        "\\end{array} \\right]\n",
        "\\left[\\begin{array}{c}\n",
        "x_1\\\\\n",
        "x_2\\\\\n",
        "x_3\\\\\n",
        "\\end{array} \\right]\n",
        "=\n",
        "\\left[\\begin{array}{c}\n",
        "14\\\\\n",
        "11\\\\\n",
        "8\\\\\n",
        "\\end{array} \\right]\n",
        "$$\n",
        "\n",
        "\n",
        "\n",
        "Reescrevendo o sistema, obtemos:\n",
        "\n",
        "$$\n",
        "\\begin{cases}\n",
        "x_1^{(k+1)} = \\frac{14}{10} - \\frac{2}{10}x_2^{(k)} - \\frac{1}{10}x_3^{(k)}\\\\\n",
        "x_2^{(k+1)} = \\frac{11}{5} - \\frac{1}{5}x_1^{(k)} - \\frac{1}{5}x_3^{(k)}\\\\\n",
        "x_3^{(k+1)} = \\frac{8}{10} - \\frac{2}{10}x_1^{(k)} - \\frac{3}{10}x_2^{(k)}\\\\\n",
        "\\end{cases}\n",
        "$$\n",
        "\n",
        "Em python, podemos fazer como segue"
      ]
    },
    {
      "cell_type": "code",
      "execution_count": null,
      "metadata": {
        "id": "C_eTnEO69Spx"
      },
      "outputs": [],
      "source": [
        "import numpy as np\n",
        "x = np.array([0.,0.,0.])\n",
        "\n",
        "def itera(x):\n",
        "    x1 = 1.4 - 0.2*x[1] - 0.1*x[2]\n",
        "    x2 = 2.2 - 0.2*x[0] - 0.2*x[2]\n",
        "    x3 = 0.8 - 0.2*x[0] - 0.3*x[1]\n",
        "    x = np.array([x1, x2, x3])\n",
        "    return x\n",
        "\n",
        "#uma iteração\n",
        "x = itera(x)\n",
        "print (\"k=1,\", \"x=\",x)\n",
        "\n",
        "#várias iterações e o erro\n",
        "x_ant = x\n",
        "for i in range(1,7):\n",
        "    x = itera(x)\n",
        "    err = np.max(abs(x-x_ant))/np.max(abs(x))\n",
        "    x_ant = x\n",
        "    print (i, x, err)"
      ]
    },
    {
      "cell_type": "markdown",
      "metadata": {
        "id": "ALrdbmP69Sp5"
      },
      "source": [
        "Na forma matricial, o podemos escrever o processo iterativo da seguinte maneira,\n",
        "\n",
        "$$ x^{(k+1)} = Hx^{(k)} + g $$\n",
        "\n",
        "onde\n",
        "\n",
        "\n",
        "$$H =\n",
        "\\left[\\begin{array}{ccccc}\n",
        " 0 & -\\frac{a_{12}}{a_{11}} & -\\frac{a_{13}}{a_{11}} &\\cdots & -\\frac{a_{1n}}{a_{11}} \\\\\n",
        " -\\frac{a_{21}}{a_{22}} & 0 & -\\frac{a_{23}}{a_{22}} &\\cdots & -\\frac{a_{2n}}{a_{22}} \\\\\n",
        "  \\vdots & \\vdots & \\vdots & \\vdots & \\vdots \\\\\n",
        " -\\frac{a_{n1}}{a_{nn}} & -\\frac{a_{n2}}{a_{nn}} & -\\frac{a_{n3}}{a_{nn}}&\\cdots & 0 \\\\\n",
        "\\end{array} \\right]\n",
        "\\,\\,\\,\\,\\,\\,$$\n",
        "e\n",
        "$$\\,\\,\\,\\,\\,\\,g =\n",
        "\\left[\\begin{array}{c}\n",
        "\\frac{b_1}{a_{11}} \\\\\n",
        "\\frac{b_2}{a_{22}} \\\\\n",
        "\\vdots \\\\\n",
        "\\frac{b_n}{a_{nn}}\\\\\n",
        "\\end{array} \\right]\n",
        "$$\n",
        "\n",
        "ou, ainda,\n",
        "\n",
        "\n",
        "$$\n",
        "\\left[\\begin{array}{c}\n",
        "x_1^{k+1} \\\\\n",
        "x_2^{k+1} \\\\\n",
        "\\vdots \\\\\n",
        "x_n^{k+1}\\\\\n",
        "\\end{array} \\right]\n",
        "=\n",
        "\\left[\\begin{array}{ccccc}\n",
        " 0 & -\\frac{a_{12}}{a_{11}} & -\\frac{a_{13}}{a_{11}} &\\cdots & -\\frac{a_{1n}}{a_{11}} \\\\\n",
        " -\\frac{a_{21}}{a_{22}} & 0 & -\\frac{a_{23}}{a_{22}} &\\cdots & -\\frac{a_{2n}}{a_{22}} \\\\\n",
        "  \\vdots & \\vdots & \\vdots & \\vdots & \\vdots \\\\\n",
        " -\\frac{a_{n1}}{a_{nn}} & -\\frac{a_{n2}}{a_{nn}} & -\\frac{a_{n3}}{a_{nn}}&\\cdots & 0 \\\\\n",
        "\\end{array} \\right]\n",
        "\\left[\\begin{array}{c}\n",
        "x_1^{k} \\\\\n",
        "x_2^{k} \\\\\n",
        "\\vdots \\\\\n",
        "x_n^{k}\\\\\n",
        "\\end{array} \\right]\n",
        "+\n",
        "\\left[\\begin{array}{c}\n",
        "\\frac{b_1}{a_{11}} \\\\\n",
        "\\frac{b_2}{a_{22}} \\\\\n",
        "\\vdots \\\\\n",
        "\\frac{b_n}{a_{nn}}\\\\\n",
        "\\end{array} \\right]\n",
        "$$"
      ]
    },
    {
      "cell_type": "markdown",
      "metadata": {
        "collapsed": true,
        "id": "m8RzVUlU9Sp5"
      },
      "source": [
        "**Exemplo 2:**\n",
        "\n",
        "Resolva o sistema\n",
        "\n",
        "$$ \\left\\{\\begin{array}{l}\n",
        "\t         x_1 + 0.5x_2 = 1 \\\\\n",
        "\t         0.5x_1 - x_2 = -1\\\\\n",
        "\\end{array} \\right. $$"
      ]
    },
    {
      "cell_type": "code",
      "execution_count": null,
      "metadata": {
        "id": "Dt0Gw-OW9Sp7",
        "outputId": "623f35a2-a0a9-4dbf-9d51-088c86f27af2"
      },
      "outputs": [],
      "source": [
        "# vamos criar uma abordagem diferente para resolver o sistema\n",
        "(x1,x2) = (0,0)\n",
        "\n",
        "f = lambda x1,x2: (1-0.5*x2, 1+0.5*x1)\n",
        "\n",
        "for i in range(10):\n",
        "    (x1,x2) = f(x1, x2)\n",
        "    print (x1,x2)"
      ]
    },
    {
      "cell_type": "markdown",
      "metadata": {},
      "source": [
        "**Exemplo 3:**\n",
        "\n",
        "Vamos resolver o sistema do exemplo 1 usando a abordagem do exemplo 2:"
      ]
    },
    {
      "cell_type": "code",
      "execution_count": null,
      "metadata": {
        "id": "2f9CfG2p9Sp7",
        "outputId": "6a1ef98d-2fef-4f5b-9927-b0270c75a84a",
        "scrolled": true
      },
      "outputs": [],
      "source": [
        "x = [0,0,0]\n",
        "\n",
        "x1 = lambda x2, x3: 1.4 - 0.2*x2 - 0.1*x3\n",
        "x2 = lambda x1, x3: 2.2 - 0.2*x1 - 0.2*x3\n",
        "x3 = lambda x1, x2: 0.8 - 0.2*x1 - 0.3*x2\n",
        "\n",
        "for k in range(20):\n",
        "     x = [x1(x[1],x[2]), x2(x[0],x[2]), x3(x[0],x[1])]\n",
        "     print (\"(%.4f,\"%x[0],\"%.4f,\"%x[1],\"%.4f)\"%x[2])"
      ]
    },
    {
      "cell_type": "markdown",
      "metadata": {
        "id": "nezZO8dT9Sp8"
      },
      "source": [
        "Podemos criar um código que resolva o sistema, via método de Jacobi-Richardson, pela fórmula matricial. Isso facilita se formos criar uma função em python para generalizar nossa solução."
      ]
    },
    {
      "cell_type": "code",
      "execution_count": null,
      "metadata": {
        "id": "ZBldAUbN9Sp-",
        "outputId": "2a13a45b-e7b5-4a8f-c999-ae69c14ad199"
      },
      "outputs": [],
      "source": [
        "#criando a matriz e o vetor dos termos independentes\n",
        "A = np.array([[10.0, 2.0, 1.0],\n",
        "              [ 1.0, 5.0, 1.0],\n",
        "              [ 2.0, 3.0, 10.0]])\n",
        "b = np.array([14., 11., 8.])\n",
        "\n",
        "#chute inicial\n",
        "x = np.array([0,0,0])\n",
        "x_ant = x.copy()\n",
        "\n",
        "#criando a matriz H e o vetor g\n",
        "n = len(A)\n",
        "H = A.copy()\n",
        "g = b.copy()\n",
        "\n",
        "err = 10.0\n",
        "for i in range(n):\n",
        "    H[i] = -A[i]/A[i][i]\n",
        "    g[i] = b[i]/A[i,i]\n",
        "\n",
        "H = H + np.identity(3) #zerando os elementos da diagonal\n",
        "print(H)\n",
        "print(\"Norma inf de H=\", np.linalg.norm(H, np.inf))\n",
        "print(50*'*')\n",
        "\n",
        "while err>0.001:\n",
        "    x = np.dot(H,x)+g\n",
        "    err = abs(max(x-x_ant)/max(x))\n",
        "    x_ant = x\n",
        "    \n",
        "print(f'A solução é:')\n",
        "print(f'x1 = {x[0]}')\n",
        "print(f'x2 = {x[1]}')\n",
        "print(f'x3 = {x[2]}')"
      ]
    },
    {
      "cell_type": "markdown",
      "metadata": {
        "id": "uue-vMFM9SqA"
      },
      "source": [
        "## Método iterativo de Gaus-Seidel\n",
        "\n",
        "Considere um sistema  de equações lineares $Ax = b$ em que $det(A) \\neq 0$, com a diagonal principal $a_{ii} \\neq 0$, $i=1,...,n$ como segue\n",
        "\n",
        "$$ \\left\\{\\begin{array}{l}\n",
        "\t         a_{11}x_1 +a_{12}x_2 + \\cdots + a_{1n}x_n = b_1\\\\\n",
        "\t         a_{21}x_1 +a_{22}x_2 + \\cdots + a_{2n}x_n = b_2\\\\\n",
        "\t         \\vdots   \\\\\n",
        "\t         a_{n1}x_1 +a_{n2}x_2 + \\cdots + a_{nn}x_n = b_1\\\\\n",
        "\\end{array} \\right. $$\n",
        "\n",
        "Dividindo cada linha do sistema dado pelo elemento da diagonal e isolando $x_1$ na $1^a$ equação, $x_2$ na $2^a$ equação até $x_n$ na n-ésima equação, temos o sistema escrito na forma equivalente:\n",
        "\n",
        "$$ \\begin{cases}\n",
        "\t         x_1 = \\frac{1}{a_{11}} \\left(b_1  - a_{12}x_2 - a_{13}x_3 - \\cdots - a_{1n}x_n \\right)\\\\\n",
        "\t         x_2 = \\frac{1}{a_{22}} \\left(b_2  - a_{21}x_1 - a_{23}x_3 - \\cdots - a_{2n}x_n \\right)\\\\\n",
        "\t         \\vdots   \\\\\n",
        "\t         x_n = \\frac{1}{a_{nn}} \\left(b_n  - a_{n1}x_1 - a_{n2}x_2 - \\cdots - a_{n \\, n-1}x_{n-1} \\right)\\\\\n",
        "\\end{cases} $$\n",
        "\n",
        "O método iterativo de Gauss-Seidel é dado da seguinte forma:\n",
        "\n",
        "$$ \\begin{cases}\n",
        "             x_1^{(k+1)} = \\frac{b_1}{a_{11}}  - \\frac{a_{12}}{a_{11}}x_2^{(k)} - \\frac{a_{13}}{a_{11}}x_3^{(k)} - \\cdots - \\frac{a_{1n}}{a_{11}}x_n^{(k)} \\\\\n",
        "\t         x_2^{(k+1)} = \\frac{b_2}{a_{22}}  - \\frac{a_{21}}{a_{22}}x_1^{(k+1)} - \\frac{a_{23}}{a_{22}}x_3^{(k)} - \\cdots - \\frac{a_{1n}}{a_{11}}x_n^{(k)} \\\\\n",
        "\t         \\vdots   \\\\\n",
        "\t         x_n^{(k+1)} = \\frac{b_n}{a_{nn}}  - \\frac{a_{n1}}{a_{nn}}x_1^{(k+1)} - \\frac{a_{n2}}{a_{nn}}x_3^{(k+1)} - \\cdots - \\frac{a_{n \\, n-1}}{a_{nn}}x_{n-1}^{(k+1)} \\\\\n",
        "\\end{cases} $$\n"
      ]
    },
    {
      "cell_type": "markdown",
      "metadata": {
        "id": "JGN9dtqF9SqB"
      },
      "source": [
        "**Exemplo 3**\n",
        "\n",
        "Resolva o sistema:\n",
        "\n",
        "$$ \\left\\{\\begin{array}{l}\n",
        "\t         -10x_1 + 2x_2 + 2x_3 = -8\\\\\n",
        "\t         x_1 + 6x_2  = 7\\\\\n",
        "\t         -x_1 + x_2 + 3x_3 = 0\\\\\n",
        "\\end{array} \\right. $$"
      ]
    },
    {
      "cell_type": "code",
      "execution_count": null,
      "metadata": {
        "colab": {
          "base_uri": "https://localhost:8080/"
        },
        "id": "L2yL3RK9eRdA",
        "outputId": "52f71542-74a6-46b5-a878-e54043f2cc92"
      },
      "outputs": [],
      "source": [
        "#definindo A e b\n",
        "\n",
        "A = np.array([[-10., 2.0, 2.0],\n",
        "              [ 1.0, 6.0, 0.0],\n",
        "              [-1.0, 1.0, 3.0]])\n",
        "b = np.array([-8., 7., 0.])\n",
        "\n",
        "x     = np.array([0.,0.,0.])\n",
        "x_ant = x.copy()\n",
        "eps   = 0.0001\n",
        "\n",
        "x1 = lambda x2, x3: (b[0] - A[0,1]*x2 - A[0,2]*x3)/A[0,0]\n",
        "x2 = lambda x1, x3: (b[1] - A[1,0]*x1 - A[1,2]*x3)/A[1,1]\n",
        "x3 = lambda x1, x2: (b[2] - A[2,0]*x1 - A[2,1]*x2)/A[2,2]\n",
        "\n",
        "err = 10.\n",
        "while err > eps:\n",
        "    x[0] = x1(x[1],x[2])\n",
        "    x[1] = x2(x[0],x[2])\n",
        "    x[2] = x3(x[0],x[1])\n",
        "    \n",
        "    err = np.amax(np.absolute(x-x_ant))/np.amax(np.absolute(x))\n",
        "    print (\"(%.4f,\"%x[0],\"%.4f,\"%x[1],\"%.4f)\"%x[2], \"err=\",err)\n",
        "    x_ant = np.copy(x)"
      ]
    },
    {
      "cell_type": "markdown",
      "metadata": {},
      "source": [
        "**Exemplo 4**\n",
        "\n",
        "Resolva o sistema do exemplo 1, agora usando o método de Gauss-Seidel"
      ]
    },
    {
      "cell_type": "code",
      "execution_count": null,
      "metadata": {
        "colab": {
          "base_uri": "https://localhost:8080/"
        },
        "id": "Efnq0uPxeV2z",
        "outputId": "1cfb0bed-03de-4f06-9b45-d9efa28c5fec"
      },
      "outputs": [],
      "source": [
        "#definindo A e b\n",
        "A = np.array([[10,2,1],\n",
        "              [1,5,1],\n",
        "              [2,3,10]])\n",
        "b = np.array([14,11,8])\n",
        "\n",
        "x = np.array([0.,0.,0.])\n",
        "x_ant = np.array([0.,0.,0.])\n",
        "eps = 0.01\n",
        "\n",
        "x1 = lambda x2, x3: (b[0] - A[0,1]*x2 - A[0,2]*x3)/A[0,0]\n",
        "x2 = lambda x1, x3: (b[1] - A[1,0]*x1 - A[1,2]*x3)/A[1,1]\n",
        "x3 = lambda x1, x2: (b[2] - A[2,0]*x1 - A[2,1]*x2)/A[2,2]\n",
        "\n",
        "err = 10.\n",
        "while err>eps:\n",
        "\n",
        "    x[0] = x1(x[1],x[2])\n",
        "    x[1] = x2(x[0],x[2])\n",
        "    x[2] = x3(x[0],x[1])\n",
        "    \n",
        "    err = np.amax(np.absolute(x-x_ant))/np.amax(np.absolute(x))\n",
        "    print(\"(%.4f,\"%x[0],\"%.4f,\"%x[1],\"%.4f)\"%x[2], \"err=\",err)\n",
        "    x_ant = np.copy(x)"
      ]
    },
    {
      "cell_type": "markdown",
      "metadata": {},
      "source": [
        "**Exemplo 5**\n",
        "\n",
        "Resolva o sistema:\n",
        "\n",
        "$$ \\left\\{\\begin{array}{l}\n",
        "\t         5x_1 + x_2 + 2x_3 + x_4 - x_5 = 1\\\\\n",
        "\t         6x_2 + x_3 + x_4 - x_5 = 2\\\\\n",
        "\t         x_2 -3x_3 + 2x_4 + x_5 = 0\\\\\n",
        "             3x_1 + 2x_3 + 7x_4 = 2\\\\\n",
        "             x_1 + x_2 + 8x_5 = 1\\\\\n",
        "\\end{array} \\right. $$"
      ]
    },
    {
      "cell_type": "code",
      "execution_count": null,
      "metadata": {
        "colab": {
          "base_uri": "https://localhost:8080/"
        },
        "id": "sOcDt0XYeKuQ",
        "outputId": "354b0eb8-0958-4340-a0e4-0274051daabf"
      },
      "outputs": [],
      "source": [
        "A = np.array([[5,1,2,1,-1],\n",
        "              [0,6,1,1,-1],\n",
        "              [0,1,-3,2,1],\n",
        "              [3,0,2,7,0],\n",
        "              [1,1,0,0,8]])\n",
        "b = np.array([1,2,0,2,1])\n",
        "\n",
        "x = np.array([0.,0.,0.,0,0])\n",
        "x_ant = np.array([0.,0.,0.,0,0])\n",
        "eps = 0.0001\n",
        "\n",
        "x1 = lambda x2, x3, x4, x5: (b[0] - A[0,1]*x2 - A[0,2]*x3 - A[0,3]*x4 - A[0,4]*x5)/A[0,0]\n",
        "x2 = lambda x1, x3, x4, x5: (b[1] - A[1,0]*x1 - A[1,2]*x3 - A[1,3]*x4 - A[1,4]*x5)/A[1,1]\n",
        "x3 = lambda x1, x2, x4, x5: (b[2] - A[2,0]*x1 - A[2,1]*x2 - A[2,3]*x4 - A[2,4]*x5)/A[2,2]\n",
        "x4 = lambda x1, x2, x3, x5: (b[3] - A[3,0]*x1 - A[3,1]*x2 - A[3,2]*x3 - A[3,4]*x5)/A[3,3]\n",
        "x5 = lambda x1, x2, x3, x4: (b[4] - A[4,0]*x1 - A[4,1]*x2 - A[4,2]*x3 - A[4,3]*x4)/A[4,4]\n",
        "\n",
        "err = 10.\n",
        "while err>eps:\n",
        "    x[0] = x1(x[1],x[2],x[3],x[4])\n",
        "    x[1] = x2(x[0],x[2],x[3],x[4])\n",
        "    x[2] = x3(x[0],x[1],x[3],x[4])\n",
        "    x[3] = x4(x[0],x[1],x[2],x[4])\n",
        "    x[4] = x5(x[0],x[1],x[2],x[3])\n",
        "    \n",
        "    err = np.amax(np.absolute(x-x_ant))/np.amax(np.absolute(x))\n",
        "    print (\"(%.4f,\"%x[0],\"%.4f,\"%x[1],\"%.4f,\"%x[2],\"%.4f,\"%x[3],\"%.4f,)\"%x[4], \"err=\",err)\n",
        "    x_ant = np.copy(x)"
      ]
    },
    {
      "cell_type": "markdown",
      "metadata": {
        "id": "uyDp0EbQ9SqE"
      },
      "source": [
        "Na forma matricial, o método de Gauss-Seidel  pode ser escrito como\n",
        "\n",
        "$$\\left[\n",
        "    \\begin{array}{c}\n",
        "\t         x_1^{(k+1)} \\\\\n",
        "\t         x_2^{(k+1)} \\\\\n",
        "             \\vdots\\\\\n",
        "\t         x_n^{(k+1)} \\\\\n",
        "\t\\end{array}\n",
        "\\right]\n",
        "=\n",
        "\\left[\\begin{array}{ccccc}\n",
        "\t         0                     & 0 & 0 & \\cdots & 0 \\\\\n",
        "\t         -\\frac{a_{21}}{a_{22}} & 0 & 0 & \\cdots & 0 \\\\\n",
        "\t         \\vdots & \\vdots & \\vdots & \\vdots & \\vdots \\\\\n",
        "\t         -\\frac{a_{n1}}{a_{nn}} & -\\frac{a_{n2}}{a_{nn}} & \\cdots & -\\frac{a_{n \\,n-1}}{a_{nn}} & 0\\\\\n",
        "\t         \\end{array} \\right]\n",
        "             \\left[\n",
        "    \\begin{array}{c}\n",
        "\t         x_1^{(k+1)} \\\\\n",
        "\t         x_2^{(k+1)} \\\\\n",
        "             \\vdots\\\\\n",
        "\t         x_n^{(k+1)} \\\\\n",
        "\t\\end{array}\n",
        "\\right]\n",
        "+\n",
        "\\left[\\begin{array}{ccccc}\n",
        "\t         0&  -\\frac{a_{12}}{a_{11}}& -\\frac{a_{13}}{a_{11}}& \\cdots &-\\frac{a_{1n}}{a_{11}} \\\\\n",
        "\t         0& 0& -\\frac{a_{23}}{a_{22}} & \\cdots & -\\frac{a_{2n}}{a_{22}} \\\\\n",
        "\t         \\vdots & \\vdots & \\vdots & \\vdots & \\vdots \\\\\n",
        "\t         0& 0& 0& \\cdots& 0\\\\\n",
        "\t         \\end{array} \\right]\n",
        "\\left[\\begin{array}{c}\n",
        "\t         x_1^{(k)} \\\\\n",
        "\t         x_2^{(k)} \\\\\n",
        "             \\vdots\\\\\n",
        "\t         x_n^{(k)} \\\\\n",
        "\t\\end{array} \\right]\n",
        "+\n",
        "\\left[ \\begin{array}{c}\n",
        "\t         \\frac{b_1}{a_{11}} \\\\\n",
        "\t         \\frac{b_2}{a_{22}} \\\\\n",
        "             \\vdots\\\\\n",
        "\t         \\frac{b_n}{a_{nn}} \\\\\n",
        "\t\\end{array} \\right]$$\n"
      ]
    },
    {
      "cell_type": "markdown",
      "metadata": {
        "id": "lcF3uH0h9SqF"
      },
      "source": [
        "ou\n",
        "$$ x^{(k+1)} = P x^{(k+1)} + Q x^{(k)} + g$$\n",
        "\n",
        "$$ (I-P)x^{(k+1)} = Q x^{(k)} + g$$\n",
        "\n",
        "$$ x^{(k+1)} = (I-P)^{-1}Q x^{(k)} + (I-P)^{-1}g$$\n",
        "\n",
        "Fazendo-se $H = (I-P)^{-1}Q$ e $g' =(I-P)^{-1}g$ o processo iterativo torna-se\n",
        "\n",
        "$$x^{(k+1)} = H x^{(k)} + g'$$"
      ]
    },
    {
      "cell_type": "markdown",
      "metadata": {
        "collapsed": true,
        "id": "U4NOtXdn9SqF"
      },
      "source": [
        "Agora usando operações vetoriais com Numpy"
      ]
    },
    {
      "cell_type": "code",
      "execution_count": null,
      "metadata": {
        "colab": {
          "base_uri": "https://localhost:8080/"
        },
        "id": "ISADyUAb9SqG",
        "outputId": "279c2643-4baa-452e-aec1-5286fd85d2c6"
      },
      "outputs": [],
      "source": [
        "x = np.array([0.,0.,0.,0,0])\n",
        "x_ant = x.copy()\n",
        "eps = 0.001\n",
        "\n",
        "A = np.array([[5,1,2,1,-1],\n",
        "              [0,6,1,1,-1],\n",
        "              [0,1,-3,2,1],\n",
        "              [3,0,2,7,0],\n",
        "              [1,1,0,0,8]])\n",
        "b = np.array([1,2,0,2,1])\n",
        "\n",
        "n = len(A)\n",
        "err = 10.\n",
        "while err > eps:\n",
        "    for i in range(n):\n",
        "        x[i] = (b[i] - np.dot(A[i,0:i],x[0:i])-np.dot(A[i,i+1:n],x[i+1:n]))/A[i,i]\n",
        "    err = np.amax(np.absolute(x-x_ant))/np.amax(np.absolute(x))\n",
        "\n",
        "    print (\"(%.4f,\"%x[0],\"%.4f,\"%x[1],\"%.4f,\"%x[2],\"%.4f,\"%x[3],\"%.4f,)\"%x[4], \"err=\",err)\n",
        "    x_ant = np.copy(x)\n",
        "\n",
        "print(f'Resultado final: {np.round(x,4)}')"
      ]
    },
    {
      "cell_type": "markdown",
      "metadata": {},
      "source": [
        "**Atividade 3**\n",
        "\n",
        "Encontre a solução do sistema dado por:\n",
        "\n",
        "$$\\left\\{\n",
        "\\begin{array}{l}\n",
        "1x_1 + 4x_2 + 9x_3 + 16x_4 = 30\\\\\n",
        "4x_1 + 9x_2 + 16x_3+ 25x_4 = 54\\\\\n",
        "9x_1 + 16x_2+ 25x_3+ 36x_4 = 86\\\\\n",
        "16x_1+ 25x_2+ 36x_3+ 49x_4 = 126\n",
        "\\end{array}\n",
        "\\right.$$\n",
        "\n",
        "pelo método de Jacobi-Richardison. Crie ou utilize algum dos algoritmos vistos no notebook acima. \n",
        "**Tire a prova real** da solução (isto é, substitua o vetor solução no sistema para ver se esse é consistente). \n",
        "\n",
        "O que você pode inferir do resultado e porque? \n",
        "\n",
        "Agora, utilize o mesmo método para resolver o sistema:\n",
        "\n",
        "$$\\left[\\begin{array}{rrrrr}8 & -2 & -1 & 0 & 0 \\\\ -2 & 9 & -4 & -1 & 0 \\\\ -1 & -3 & 7 & -1 & -2 \\\\ 0 & -4 & -2 & 12 & -5 \\\\ 0 & 0 & -7 & -3 & 15\\end{array}\\right]\n",
        "\\left[\\begin{array}{l}x_1 \\\\ x_2 \\\\ x_3 \\\\ x_4 \\\\ x_5\\end{array}\\right]=\\left[\\begin{array}{l}5 \\\\ 2 \\\\ 0 \\\\ 1 \\\\ 5\\end{array}\\right]\n",
        "$$\n",
        "\n"
      ]
    },
    {
      "cell_type": "markdown",
      "metadata": {},
      "source": [
        "**Atividade 4**\n",
        "\n",
        "Considere o problema de 5 incógnitas e cinco equações dado por\n",
        "\n",
        "$$\\left\\{\n",
        "\\begin{array}{r}\n",
        "x_1-x_2&=&1\\\\\n",
        "-x_{1}+2x_2-x_{3}&=&1\\\\\n",
        "-x_{2}+(2+\\varepsilon) x_3-x_{4}&=&1\\\\\n",
        "-x_{3}+2x_4-x_{5}&=&1\\\\\n",
        "x_{4}-x_{5}&=&1\n",
        "\\end{array}\n",
        "\\right.$$\n",
        "\n",
        "- a) Escreva na forma $Ax=b$;\n",
        "- b) Obtenha o vetor incógnita $x$ com $\\varepsilon=10^{-3}$ usando Jacobi com tolerância $10^{-2}$;\n",
        "- c) Obtenha o vetor incógnita $x$ com $\\varepsilon=10^{-3}$ usando Gauss-Seidel com tolerância $10^{-2}$;\n",
        "- d) Compare os resultados.\n"
      ]
    }
  ],
  "metadata": {
    "colab": {
      "provenance": []
    },
    "kernelspec": {
      "display_name": "Python 3",
      "language": "python",
      "name": "python3"
    },
    "language_info": {
      "codemirror_mode": {
        "name": "ipython",
        "version": 3
      },
      "file_extension": ".py",
      "mimetype": "text/x-python",
      "name": "python",
      "nbconvert_exporter": "python",
      "pygments_lexer": "ipython3",
      "version": "3.8.3"
    }
  },
  "nbformat": 4,
  "nbformat_minor": 0
}
