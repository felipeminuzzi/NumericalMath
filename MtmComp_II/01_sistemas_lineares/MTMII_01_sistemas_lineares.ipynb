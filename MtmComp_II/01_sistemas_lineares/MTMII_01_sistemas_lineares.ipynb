{
  "cells": [
    {
      "cell_type": "markdown",
      "metadata": {
        "id": "f9lxMl1syHTR"
      },
      "source": [
        "# Matemática Computacional II\n",
        "- Prof. Felipe C. Minuzzi\n",
        "- felipe.minuzzi@ufsm.br\n",
        "\n",
        "## Introdução e conceitos fundamentais\n",
        "\n",
        "A solução de sistema de equações algébricas lineares é provavelmente o processo numérico mais utilizado para simular situações do mundo real. É uma etapa fundamental na resolução de vários problemas que envolvam, por exemplo, equações diferenciais parciais, otimização, regressão linear e não linear e sistemas de equações não lineares. Geralmente, a solução do sistema linear é a fase que demanda a maior parte do tempo de processamento para resolver o problema. Portanto, é de extrema importância que se tenha uma implementação eficiente do método. Serão abordados os principais métodos diretos e alguns métodos iterativos usados na solução de sistemas.\n",
        "\n",
        "Considere um sistema  de equações lineares\n",
        "\n",
        "$$\\left\\{ \\begin{array}{l}\n",
        "a_{11}x_1 +a_{12}x_2 + \\cdots + a_{1n}x_n = b_1\\\\\n",
        "\t         a_{21}x_1 +a_{22}x_2 + \\cdots + a_{2n}x_n = b_2\\\\\n",
        "\t         \\vdots   \\\\\n",
        "\t         a_{n1}x_1 +a_{n2}x_2 + \\cdots + a_{nn}x_n = b_1\\\\\n",
        "\t         \\end{array} \\right.$$\n",
        "\n",
        "O qual pode ser escrito em notação compacta, na seguinte forma\n",
        "\n",
        "$$  \\sum_{j=1}^{n} a_{ij} x_j = b_i$$\n",
        "\n",
        "com $i=1,2,...,n$. Ou, ainda, na forma de equação matricial\n",
        "\n",
        "$$Ax=b$$\n",
        "\n",
        "em que $A= (a_{ij})$ com $i,j=1,..,n$, é a matriz dos coeficientes,\n",
        "$x=(x_1,x_2,...,x_n)^t$ é o vetor de incógintas e $b=(b_1, b_2,...,b_n)^t$ é o vetor de termos independentes de  $x$. Então, tem-se\n",
        "\n",
        "$$\\left[\\begin{array}{cccc}\n",
        "\t         a_{11} & a_{12} & \\cdots & a_{1n} \\\\\n",
        "\t         a_{21} & a_{22} & \\cdots & a_{2n} \\\\\n",
        "\t         \\vdots & \\vdots & \\vdots & \\vdots \\\\\n",
        "\t         a_{n1} & a_{n2} & \\cdots & a_{nn} \\\\\n",
        "\t         \\end{array} \\right]\n",
        "\\left[\\begin{array}{c}\n",
        "\t         x_1 \\\\\n",
        "\t         x_2 \\\\\n",
        "             \\vdots\\\\\n",
        "\t         x_n \\\\\n",
        "\t         \\end{array} \\right]\n",
        "=\n",
        "\\left[\\begin{array}{c}\n",
        "\t         b_1 \\\\\n",
        "\t         b_2 \\\\\n",
        "             \\vdots\\\\\n",
        "\t         b_n \\\\\n",
        "\t         \\end{array} \\right]\n",
        "\t         $$\n",
        "\n",
        "\n",
        "\n",
        "Resolver o sistema dado, consiste em encontrar o vetor solução $\\overline x=(\\overline x_1, \\overline x_2,..., \\overline x_n)^t$ que satisfaça todas as equações simultaneamente.\n",
        "\n",
        "Graficamente em $R^2$, a solução de um sistema linear representa a intersecção das retas definidas pelas equações.\n",
        "\n"
      ]
    },
    {
      "cell_type": "markdown",
      "metadata": {
        "id": "2zoalLTFyHTX"
      },
      "source": [
        "**Exemplo 1**\n",
        "\n",
        "O sistema linear\n",
        "\n",
        "$$\\left\\{ \\begin{array}{l}\n",
        "-x_1 + 2x_2 = 3 \\\\\n",
        "              x_1 + x_2 = 3\n",
        "\t         \\end{array} \\right.$$\n",
        "             \n",
        "tem uma única solução $\\overline x= (1,2)^t$, como pode ser visto no gráfico abaixo."
      ]
    },
    {
      "cell_type": "code",
      "execution_count": null,
      "metadata": {
        "colab": {
          "base_uri": "https://localhost:8080/",
          "height": 430
        },
        "id": "w9_mwkwoyHTZ",
        "outputId": "c489ac18-89db-40d7-d466-bdf3a199bc6a"
      },
      "outputs": [
        {
          "data": {
            "image/png": "[encoded data removed]",
            "text/plain": [
              "<Figure size 640x480 with 1 Axes>"
            ]
          },
          "metadata": {},
          "output_type": "display_data"
        }
      ],
      "source": [
        "import numpy as np\n",
        "from scipy.linalg import solve\n",
        "import matplotlib.pyplot as plt\n",
        "eq1 = lambda x: -3+2*x\n",
        "eq2 = lambda x: 3-x\n",
        "# Lista de pontos para o plot\n",
        "xi = np.linspace(-1,3,2)\n",
        "# Plota\n",
        "plt.plot(xi, eq1(xi), \"-\", xi, eq2(xi), \"r-\")\n",
        "plt.grid()\n",
        "plt.show()"
      ]
    },
    {
      "cell_type": "markdown",
      "metadata": {
        "id": "Qgc9POpiyHTb"
      },
      "source": [
        "Já o sistema linear\n",
        "\n",
        "$$\\left\\{ \\begin{array}{l}\n",
        "x_1 + x_2 = 1\\\\\n",
        "             2x_1 + 2x_2 = 2\n",
        "\t         \\end{array} \\right.$$\n",
        "             \n",
        "tem infinitas soluções já que as duas equações representam a retas coincidentes."
      ]
    },
    {
      "cell_type": "code",
      "execution_count": null,
      "metadata": {
        "colab": {
          "base_uri": "https://localhost:8080/",
          "height": 430
        },
        "id": "ImHRutOOyHTd",
        "outputId": "69b292df-f357-40e2-91ba-fc13767a543b"
      },
      "outputs": [
        {
          "data": {
            "image/png": "[encoded data removed]",
            "text/plain": [
              "<Figure size 640x480 with 1 Axes>"
            ]
          },
          "metadata": {},
          "output_type": "display_data"
        }
      ],
      "source": [
        "eq1 = lambda x: 1-x\n",
        "eq2 = lambda x: (2-2*x)/2\n",
        "# Lista de pontos para o plot\n",
        "xi = np.linspace(-1,3,2)\n",
        "# Plota\n",
        "plt.plot(xi, eq1(xi), \"r-\", linewidth= 2.0)\n",
        "plt.plot( xi, eq2(xi), \"k--\", linewidth=1.0)\n",
        "plt.grid()\n",
        "plt.show()"
      ]
    },
    {
      "cell_type": "markdown",
      "metadata": {
        "id": "A_nR2h80yHTe"
      },
      "source": [
        "Por fim, o sistema linear\n",
        "\n",
        "$$\\left\\{ \\begin{array}{l}\n",
        "\t         x_1 + x_2 = 1\\\\\n",
        "             2x_1 + 2x_2 = 4\n",
        "\t         \\end{array} \\right.$$\n",
        "\n",
        "             \n",
        "Não tem nenhuma solução (sistema inconsistente) já que as duas equações representam a retas paralelas."
      ]
    },
    {
      "cell_type": "code",
      "execution_count": null,
      "metadata": {
        "colab": {
          "base_uri": "https://localhost:8080/",
          "height": 430
        },
        "id": "pTBgHvi5yHTe",
        "outputId": "8120fb64-9b9d-497a-e8b4-e8695e6c0696"
      },
      "outputs": [
        {
          "data": {
            "image/png": "[encoded data removed]",
            "text/plain": [
              "<Figure size 640x480 with 1 Axes>"
            ]
          },
          "metadata": {},
          "output_type": "display_data"
        }
      ],
      "source": [
        "eq1 = lambda x: 1-x\n",
        "eq2 = lambda x: (4-2*x)/2\n",
        "# Lista de pontos para o plot\n",
        "xi = np.linspace(-1,3,2)\n",
        "# Plota\n",
        "plt.plot(xi, eq1(xi), \"b-\",  xi, eq2(xi), \"r-\")\n",
        "plt.grid()\n",
        "plt.show()"
      ]
    },
    {
      "cell_type": "markdown",
      "metadata": {
        "id": "7Vf_njh_yHTg"
      },
      "source": [
        "## Condicionamento de matrizes\n",
        "\n",
        "Sabemos que um sistema linear $n \\times n$, $Ax=b$ tem solução única se $det(A) \\neq 0$, caso $det(A)=0$ dizemos que a matriz $A$ é singular e o sistema poderá ter infinitas soluções ou nenhuma solução. Mas o que acontece se a matriz é \"quase singular\" ($det(A)$ é muito pequeno)?\n",
        "\n",
        "Dizemos que $det(A)=|A|$ é muito pequeno se $|A|<<||A||$ onde $||A||$ é a **norma** da matriz $A$. \n",
        "\n",
        "A norma é um número real usado para expressar a magnitude de um vetor ou de uma matriz."
      ]
    },
    {
      "cell_type": "markdown",
      "metadata": {
        "id": "wZ7uHzDpyHTh"
      },
      "source": [
        "### Norma de matrizes\n",
        "\n",
        "Normas de matrizes podem ser definidas forma semelhante. \n",
        "Seja $A = (a_{ij})_{n \\times n}$ uma matriz qualquer.  Chamamos de **norma Euclidiana** ao valor dado por\n",
        "\n",
        "$$ \\|A\\|_e = \\sqrt{\\sum^n_{i=1} \\sum^n_{j=1} a_{ij}^2}$$\n",
        "\n",
        "e **norma linha** ou **norma infinito** ao valor dado por\n",
        "$$\\|A\\|_{\\infty} = \\max_{1 \\leq i \\leq n} \\sum_{j=1}^n \\left|a_{ij} \\right| $$\n"
      ]
    },
    {
      "cell_type": "markdown",
      "metadata": {
        "id": "4j6W2116yHTj"
      },
      "source": [
        "### Número de condicionamento de uma matriz\n",
        "Uma medida formal para o condicionamento de uma matriz, o **número de condicionamento da matriz** definido como\n",
        "\n",
        "$$cond(A) = \\|A\\| \\|A^{-1}\\| $$\n",
        "\n",
        "se esse número estiver próximo de 1, então a matriz é bem condicionada. Esse número aumenta com o mal condicionamento da matriz.\n",
        "\n",
        "Infelizmente, o número de condicionamento é computacionalmente oneroso para matrizes grandes. Então, muitas vezes é suficiente estimar o condicionamento comparando o determinante com a magnitude dos elementos da matriz.\n",
        "\n",
        "Se as equações estiverem mal condicionadas, pequenas mudanças nos coeficientes da matriz resultarão em grandes mudanças na solução."
      ]
    },
    {
      "cell_type": "markdown",
      "metadata": {
        "id": "ZOtSF6xyyHTj"
      },
      "source": [
        "**Exemplo 2**\n",
        "\n",
        "Consideremos o sistema linear\n",
        "\n",
        "$$\\left\\{ \\begin{array}{l}\n",
        "\t         2x_1 + x_2 = 3\\\\\n",
        "             2x_1 + 1.001x_2 = 0\n",
        "\t         \\end{array} \\right.$$\n",
        "\n",
        "Cuja solução é dada por:"
      ]
    },
    {
      "cell_type": "code",
      "execution_count": null,
      "metadata": {
        "colab": {
          "base_uri": "https://localhost:8080/"
        },
        "id": "Nt_TXHi3yHTk",
        "outputId": "8c8927e3-966d-440f-e145-8467bc235827"
      },
      "outputs": [
        {
          "name": "stdout",
          "output_type": "stream",
          "text": [
            "x = [ 1501.5 -3000. ]\n"
          ]
        }
      ],
      "source": [
        "import scipy.linalg as la\n",
        "\n",
        "A = np.array([[2, 1], [2, 1.001]])\n",
        "b = np.array([3, 0])\n",
        "print ('x =', la.solve(A,b))"
      ]
    },
    {
      "cell_type": "markdown",
      "metadata": {
        "id": "toh4CnQeyHTk"
      },
      "source": [
        "A matriz dos coeficientes desse sistema tem um número de condicionamento grande, ou seja, a matriz é mal condicionada\n"
      ]
    },
    {
      "cell_type": "code",
      "execution_count": null,
      "metadata": {
        "colab": {
          "base_uri": "https://localhost:8080/"
        },
        "id": "5AVXBHvjyHTl",
        "outputId": "82025d65-2f4f-4a53-a442-31ae12cb21f0"
      },
      "outputs": [
        {
          "name": "stdout",
          "output_type": "stream",
          "text": [
            "5001.000500000551\n"
          ]
        }
      ],
      "source": [
        "print (la.norm(A) * la.norm(la.inv(A)))"
      ]
    },
    {
      "cell_type": "markdown",
      "metadata": {},
      "source": [
        "E o determinante é bem pequeno, se comparado a norma:"
      ]
    },
    {
      "cell_type": "code",
      "execution_count": null,
      "metadata": {
        "colab": {
          "base_uri": "https://localhost:8080/"
        },
        "id": "XhvWK89tyHTm",
        "outputId": "112d1fad-7888-4ae6-bfb0-0cce7578e1ad"
      },
      "outputs": [
        {
          "data": {
            "text/plain": [
              "0.0019999999999997797"
            ]
          },
          "execution_count": 8,
          "metadata": {},
          "output_type": "execute_result"
        }
      ],
      "source": [
        "la.det(A)"
      ]
    },
    {
      "cell_type": "markdown",
      "metadata": {
        "id": "s7u7VFDoyHTm"
      },
      "source": [
        "Observe o que acontece com a solução do sistema quando variamos ligeiramente um dos coeficientes, isto é, quando resolvemos:\n",
        "\n",
        "$$\\left\\{ \\begin{array}{l}\n",
        "\t         2x_1 + x_2 = 3\\\\\n",
        "             2x_1 + 1.002x_2 = 0\n",
        "\t         \\end{array} \\right.$$"
      ]
    },
    {
      "cell_type": "code",
      "execution_count": null,
      "metadata": {
        "colab": {
          "base_uri": "https://localhost:8080/"
        },
        "id": "2mcm5rYiyHTm",
        "outputId": "add80baa-0dfa-4757-9b62-2d7e16f8f501"
      },
      "outputs": [
        {
          "name": "stdout",
          "output_type": "stream",
          "text": [
            "x = [  751.5 -1500. ]\n"
          ]
        }
      ],
      "source": [
        "A = [[2, 1], [2, 1.002]]\n",
        "print ('x =',la.solve(A,b))"
      ]
    },
    {
      "cell_type": "markdown",
      "metadata": {
        "id": "Y6U_EzsQyHTn"
      },
      "source": [
        "Uma mudança no coeficiente na ordem de 1% gerou uma diferença na solução de 100%!"
      ]
    },
    {
      "cell_type": "markdown",
      "metadata": {
        "collapsed": true,
        "id": "xs3Dcr3JyHTn"
      },
      "source": [
        "## Sistemas triangulares\n",
        "\n",
        "Sistemas lineares triangulares são aqueles cuja matriz dos coeficientes é uma matriz triangular. Em geral o algoritmo para resolução de sistemas triangulares é bastante simples e basea-se em substituições subsequentes.\n",
        "\n",
        "**Sistema triangular inferior**\n",
        "\n",
        "Um sistema triangular inferior $Ax=b$ com coeficientes $(a_{ij})=0$ para $i<j$ e $a_{ij} \\neq 0$, $i=0,1,...,n$ é representado por\n",
        "\n",
        "$$ \\begin{cases}\n",
        "\t         a_{11}x_1 = b_1\\\\\n",
        "\t         a_{21}x_1 + a_{22}x_2 = b_2\\\\\n",
        "\t         a_{31}x_1 + a_{32}x_2 + a_{33}x_3= b_3\\\\\n",
        "\t         \\vdots \\\\\n",
        "\t         a_{n1}x_1 + a_{n2}x_2 + a_{33}x_3 + \\cdots + a_{nn}x_n= b_n\\\\\n",
        "\t         \\end{cases} $$\n",
        "             \n",
        "pode ser resolvido usando o seguinte algoritmo:\n",
        "\n",
        "$$ x_1 = b_1/a_{11}$$\n",
        "\n",
        "para $i=2,3...,n$, faça\n",
        "\n",
        "$$ x_i = \\frac{b_i- \\sum\\limits_{j=1}^{(i-1)} a_{ij}x_j}{a_{ii}}$$\t         \n",
        "\t         \n",
        "Usando Python, um código que implementa esse algoritmo, é mostrado no exemplo abaixo.\n"
      ]
    },
    {
      "cell_type": "markdown",
      "metadata": {
        "id": "yBqnq214yHTn"
      },
      "source": [
        "**Exemplo 3**\n",
        "\n",
        "Seja o sistema linear\n",
        "\n",
        "$$\\left\\{ \\begin{array}{l}\n",
        "\t         2x_1 = 2\\\\\n",
        "             x_1 + 4x_2 = -3\\\\\n",
        "             x_1 + x_2 + x_3 = 0\n",
        "\t         \\end{array} \\right.$$\n",
        "\n",
        "um código em Python que implementa esse algoritmo e a solução obtida executando o programa são mostrados a seguir"
      ]
    },
    {
      "cell_type": "code",
      "execution_count": null,
      "metadata": {
        "colab": {
          "base_uri": "https://localhost:8080/"
        },
        "id": "uR4VfLAdyHTo",
        "outputId": "89a1d5d4-984c-48dd-9cd5-df3dd29cf9b8"
      },
      "outputs": [
        {
          "name": "stdout",
          "output_type": "stream",
          "text": [
            "[1.0, -1.0, 0.0]\n"
          ]
        }
      ],
      "source": [
        "A = [[2,0,0], [1,4,0], [1,1,1]]\n",
        "b = [2,-3,0]\n",
        "x1 = b[0]/A[0][0]\n",
        "x = [x1]\n",
        "\n",
        "for i in range(1,len(A)):\n",
        "    soma = 0\n",
        "    for j in range(0,i):\n",
        "        soma +=  A[i][j]*x[j]\n",
        "    x.append((b[i]-soma)/A[i][i])\n",
        "print (x)"
      ]
    },
    {
      "cell_type": "markdown",
      "metadata": {
        "id": "tn_bnm6tyHTp"
      },
      "source": [
        "Usando o módulo numérico Numpy podemos escrever esse mesmo algoritmo usando operações vetoriais, como o produto interno _dot_, por exemplo"
      ]
    },
    {
      "cell_type": "code",
      "execution_count": null,
      "metadata": {
        "colab": {
          "base_uri": "https://localhost:8080/"
        },
        "id": "7j9jRvISyHTp",
        "outputId": "cd1353e8-e92d-476e-82bf-ec8e257458c4"
      },
      "outputs": [
        {
          "name": "stdout",
          "output_type": "stream",
          "text": [
            "[ 1 -1  0]\n"
          ]
        }
      ],
      "source": [
        "import numpy as np\n",
        "A = np.array([[2,0,0], [1,4,0], [1,1,1]] )\n",
        "b = np.array([2,-3,0])\n",
        "\n",
        "n = len(b)\n",
        "for i in range(n):\n",
        "    b[i] = (b[i] - np.dot(A[i,0:i],b[0:i]))/A[i][i]\n",
        "print (b)"
      ]
    },
    {
      "cell_type": "markdown",
      "metadata": {
        "id": "L7T_5XD8yHTp"
      },
      "source": [
        "Já um sistema triangular superior $Ax=b$ com coeficientes $(a_{ij})=0$ para $i>j$ e $a_{ij} \\neq 0$, $i=0,1,...,n$ é representado por\n",
        "\n",
        "$$ \\begin{cases}\n",
        "\t         a_{21}x_1 + a_{22}x_2 + a_{23}x_3 + \\cdots + a_{2n}x_n = b_1\\\\\n",
        "\t         a_{22}x_2 + a_{23}x_3 + \\cdots + a_{2n}x_n = b_2\\\\\n",
        "\t         a_{33}x_3 + \\cdots + a_{3n}x_n = b_3\\\\\n",
        "\t         \\vdots \\\\\n",
        "\t         a_{nn}x_n= b_n\\\\\n",
        "\t         \\end{cases} $$\n",
        "             \n",
        "pode ser resolvido usando o seguinte algoritmo:\n",
        "\n",
        "$$ x_n = b_n/a_{nn}$$\n",
        "\n",
        "para $i=(n-1), (n-2),...,1$, faça\n",
        "\n",
        "$$ x_i = \\frac{b_i- \\sum\\limits_{j=i+1}^{(n)} a_{ij}x_j}{a_{ii}}$$\n",
        "\n",
        "Usando Python, um código que implementa esse algoritmo, é mostrado abaixo."
      ]
    },
    {
      "cell_type": "markdown",
      "metadata": {
        "id": "ezMM3GgTyHTq"
      },
      "source": [
        "**Exemplo 4**\n",
        "\n",
        "Seja o sistema linear\n",
        "\n",
        "$$\\left\\{ \\begin{array}{l}\n",
        "\t         3x_1 + x_2 +x_3= 4\\\\\n",
        "             2x_2 -x_3 = 2\\\\\n",
        "             3x_3 = 3\n",
        "\t         \\end{array} \\right.$$\n",
        "\n",
        "um código em Python que implementa esse algoritmo e a solução obtida executando o programa são mostrados a seguir"
      ]
    },
    {
      "cell_type": "code",
      "execution_count": null,
      "metadata": {
        "colab": {
          "base_uri": "https://localhost:8080/"
        },
        "id": "sJbMogqpyHTq",
        "outputId": "f57fbf39-0515-44d5-a435-970c7c409423"
      },
      "outputs": [
        {
          "name": "stdout",
          "output_type": "stream",
          "text": [
            "[0.5, 1.5, 1.0]\n"
          ]
        }
      ],
      "source": [
        "A = [[3,1,1], [0,2,-1], [0,0,3]]\n",
        "b = [4,2,3]\n",
        "\n",
        "n = len(A)-1       #os indices correm de 0 ate n-1\n",
        "xn = b[n]/A[n][n]\n",
        "\n",
        "x = [0]*len(A)     # cria um vetor de zeros\n",
        "x[-1] = xn         # atribui xn na ultima posicao de x\n",
        "\n",
        "for i in range(n-1,-1,-1):\n",
        "    soma = 0\n",
        "    for j in range(i+1,n+1):\n",
        "        soma +=  A[i][j]*x[j]\n",
        "    xi = (b[i]-soma)/A[i][i]\n",
        "    x[i] = xi\n",
        "\n",
        "print(x)"
      ]
    },
    {
      "cell_type": "markdown",
      "metadata": {},
      "source": [
        "## Método da Eliminação de Gauss\n",
        "\n",
        "Os métodos diretos de eliminação consistem no processo\n",
        "de transformar um sistema de equações lineares $Ax=b$, em que $A= (a_{ij})$ com  $i,j=1,..,n$,\n",
        "$x=(x_1,x_2,...,x_n)^t$ e $b=(b_1, b_2,...,b_n)^t$, em um sistema equivalente,\n",
        "aplicando operações elementares sobre as linhas da matriz $(A,b)$.\n",
        "\n",
        "O sistema equivalente obtido ao final do processo, deve ser de\n",
        "resolução mais simples ou imediata, por substituição direta. No caso da eliminação de Gauss\n",
        "com pivoteamento diagonal ou pivoteamento parcial, obtém-se um sistema equivalente\n",
        "na forma triangular. No caso da eliminação de Gauss-Jordan o sistema equivalente\n",
        "obtido possui a matriz de coeficientes igual a matriz identidade.   \n",
        "\n",
        "\n",
        "Em geral, consideraremos neste texto, um sistema linear escrito na forma geral como  \n",
        "\n",
        "$$ \\begin{cases}\n",
        "\t         a_{11}x_1 +a_{12}x_2 + \\cdots + a_{1n}x_n = b_1\\\\\n",
        "\t         a_{21}x_1 +a_{22}x_2 + \\cdots + a_{2n}x_n = b_2\\\\\n",
        "\t         \\vdots   \\\\\n",
        "\t         a_{n1}x_1 +a_{n2}x_2 + \\cdots + a_{nn}x_n = b_1\\\\\n",
        "\t         \\end{cases} $$\n",
        "             \n",
        "cuja forma forma matricial $Ax=b$ tem a seguinte representação\n",
        "            \n",
        "$$\\left[\\begin{array}{cccc}\n",
        "\t         a_{11} & a_{12} & \\cdots & a_{1n} \\\\\n",
        "\t         a_{21} & a_{22} & \\cdots & a_{2n} \\\\\n",
        "\t         \\vdots & \\vdots & \\vdots & \\vdots \\\\\n",
        "\t         a_{n1} & a_{n2} & \\cdots & a_{nn} \\\\\n",
        "\t         \\end{array} \\right]\n",
        "\\left[\\begin{array}{c}\n",
        "\t         x_1 \\\\\n",
        "\t         x_2 \\\\\n",
        "             \\vdots\\\\\n",
        "\t         x_n \\\\\n",
        "\t         \\end{array} \\right]\n",
        "=\n",
        "\\left[\\begin{array}{c}\n",
        "\t         b_1 \\\\\n",
        "\t         b_2 \\\\\n",
        "             \\vdots\\\\\n",
        "\t         b_n \\\\\n",
        "\t         \\end{array} \\right]\n",
        "\t         $$\n",
        "\t         \n",
        "e a matriz aumentada $(A,b)$ é dada por  \n",
        "\n",
        "$$\\left[\\begin{array}{cccccc}\n",
        "\t         a_{11} & a_{12} & \\cdots & a_{1n} & | & b_1\\\\\n",
        "\t         a_{21} & a_{22} & \\cdots & a_{2n} & | & b_2\\\\\n",
        "\t         \\vdots & \\vdots & \\vdots & \\vdots & | & \\vdots\\\\\n",
        "\t         a_{n1} & a_{n2} & \\cdots & a_{nn} & | & b_n\\\\\n",
        "\t         \\end{array} \\right]$$\n",
        "\n",
        "\n",
        "O processo de **eliminação de Gauss** com pivoteamento diagonal consiste em transformar\n",
        "o sistema em um sistema equivalente triangular superior por meio de operações\n",
        "elementares sobre as linhas da matriz $(A,b)$ tomando, em cada passo, como pivô,\n",
        "os elementos da diadonal de $A$, desde que não seja nulo. Caso o algum elemento da\n",
        "diagonal seja nulo podemos permutar duas linhas da matriz a fim obter um pivô\n",
        "diferente de zero.\n",
        "\n",
        "Para cada passo $k$ do processo, anulamos os termos abaixo do\n",
        "elemento da diagonal $a_{kk}$, subtraindo cada linha $i=k+1$ da matriz $(A,b)$,\n",
        "pela linha linha anterior, $i=k$, multiplicada pelo fator $m_{ik}=\\frac{a_{ik}}{a_{kk}}$.\n",
        "\n",
        "Assim, no 1º passo ($k=1$), fazemos $m_{i1}=\\frac{a_{i1}}{a_{11}}$, $i=2,...,n$\n",
        "e cada linha de $(A,b)$, a partir da 2ª, será subtraída da 1ª linha multiplicada por\n",
        "$m_{k1}$ obtendo-se a matriz $(A^{(1)},b^{(1)})$ tal que\n",
        "\n",
        "\n",
        "$$(A^{(1)},b^{(1)}) = \\left[\\begin{array}{ccccccc}\n",
        "\t         a^{(1)}_{11} & a^{(1)}_{12} & a^{(1)}_{13} & \\cdots & a^{(1)}_{1n} & | & b^{(1)}_1\\\\\n",
        "\t         0            & a^{(2)}_{22} & a^{(2)}_{23} & \\cdots & a^{(2)}_{2n} & | & b^{(2)}_2\\\\\n",
        "\t         0            & a^{(2)}_{32} & a^{(2)}_{33} & \\cdots & a^{(2)}_{3n} & | & b^{(2)}_3\\\\\n",
        "\t         \\vdots       & \\vdots       & \\vdots       & \\vdots & \\vdots       & | & \\vdots   \\\\\n",
        "\t         0            & a^{(2)}_{n2} & a^{(2)}_{n3} & \\cdots & a^{(2)}_{nn} & | & b^{(2)}_n\\\\\n",
        "\t         \\end{array} \\right]$$\n",
        "             \n",
        "\n",
        "No 2º passo ($k=2$), fazemos $m_{i2}=\\frac{a_{i2}}{a_{k2}}$, $i=3,...,n$\n",
        "e cada linha de $(A^{(1)},b^{(1)})$, a partir da 3ª, será subtraída da 2ª linha multiplicada por\n",
        "$m_{k2}$ obtendo-se a matriz $(A^{(2)},b^{(2)})$ tal que\n",
        "\n",
        "$$(A^{(2)},b^{(2)}) = \\left[\\begin{array}{ccccccc}\n",
        "\t         a^{(1)}_{11} & a^{(1)}_{12} & a^{(1)}_{13} & \\cdots & a^{(1)}_{1n} & | & b^{(1)}_1\\\\\n",
        "\t         0            & a^{(2)}_{22}            & a^{(2)}_{23} & \\cdots & a^{(2)}_{2n} & | & b^{(2)}_2\\\\\n",
        "\t         0            & 0            & a^{(3)}_{33} & \\cdots & a^{(3)}_{3n} & | & b^{(3)}_3\\\\\n",
        "\t         \\vdots       & \\vdots       & \\vdots       & \\vdots & \\vdots       & | & \\vdots   \\\\\n",
        "\t         0            & 0            & a^{(3)}_{n3} & \\cdots & a^{(3)}_{nn} & | & b^{(3)}_n\\\\\n",
        "\t         \\end{array} \\right]$$\n",
        "\n",
        "Segundo os passos seguintes, até o passo $n-1$, obtemos ou sistema triangular superior na forma   \n",
        "\n",
        "$$           \\begin{cases}\n",
        "\t         a^{(1)}_{11}x_1 + a^{(1)}_{12}x_2 + a^{(1)}_{13}x_2 + \\cdots + a^{(1)}_{1n}x_n = b^{(1)}_1\\\\\n",
        "             \\hspace{65px}     a^{(2)}_{22}x_2 + a^{(2)}_{23}x_2 + \\cdots + a^{(2)}_{2n}x_n = b^{(2)}_2\\\\\n",
        "             \\hspace{65px}     \\hspace{65px}     a^{(3)}_{33}x_2 + \\cdots + a^{(3)}_{3n}x_n = b^{(3)}_3\\\\\n",
        " \t         \\hspace{65px}     \\hspace{65px}      \\hspace{65px}     \\hspace{45px}      \\vdots   \\\\\n",
        "\t         \\hspace{65px}     \\hspace{65px}      \\hspace{65px}     \\hspace{45px}  a^{(n)}_{nn}x_n = b^{(n)}_n\\\\\n",
        "\t         \\end{cases} $$\n",
        "\n",
        "O qual pode ser resolvido por substituição retroativa.\n",
        "\n"
      ]
    },
    {
      "cell_type": "markdown",
      "metadata": {},
      "source": [
        "**Atividade 1:**\n",
        "\n",
        "Desenvolva uma função em python para encontrar a solução de um sistema linear qualquer de ordem $n$. \n",
        "\n",
        "Utilize o código desenvolvido para encontrar a solução dos seguintes sistemas:\n",
        "\n",
        "a) $\\begin{cases} \n",
        "\t         2x_1 + 3x_2 + x_3 +5x_4= 11\\\\ \n",
        "\t         x_1  + 3.5x_2  + x_3 +7.5x_4= 13\\\\\n",
        "\t         1.4x_1 + 2.7x_2 + 5.5x_3 + 12x_4 = 21.6\\\\\n",
        "\t         -2x_1 + 1x_2 + 3x_3 +28x_4 = 30\n",
        "\t         \\end{cases}$\n",
        "    \n",
        "b) $\\begin{cases} \n",
        "\t         6.1x_1 + 0.32x_2 + 1.3x_3 +2.1x_4 + 0.11x_5 = 19.52\\\\ \n",
        "\t         0.82x_1  + 8.81x_2  + 1.01x_3 +3x_4 + 3.12x_5= 15.83\\\\\n",
        "\t         0.5x_1 + 1.78x_2 + 15.2x_3 + 4.2x_4 +8.1x_5= -22.14\\\\\n",
        "\t         4.2x_1 + 5.3x_2 + 1.8x_3 +20.9x_4 +7.51x_5 = 27.28\\\\\n",
        "\t         0.2x_1 + 9.1x_2 + 4.68x_3 +4.3x_4 +20.1x_5  = -21.78\n",
        "\t         \\end{cases}$\n",
        "             \n",
        "c)$ \\begin{cases} \n",
        "    12.1756 x_1 + 4.0231 x_2 - 2.1732 x_3 + 5.1967 x_4 = 17.1020\\\\ \n",
        "   -4.0231 x_1 + 6.0030 x_2              + 1.1973 x_4 = -6.1593\\\\\n",
        "   -1.0000 x_1 - 5.2107 x_2 + 11.1111 x_3              =  3.0004\\\\\n",
        "\t6.0235 x_1 + 7.0000 x_2 +            - 14.1561 x_4 =  0.0000\n",
        "\\end{cases} $"
      ]
    },
    {
      "cell_type": "markdown",
      "metadata": {},
      "source": []
    }
  ],
  "metadata": {
    "colab": {
      "provenance": []
    },
    "kernelspec": {
      "display_name": "Python 3",
      "language": "python",
      "name": "python3"
    },
    "language_info": {
      "codemirror_mode": {
        "name": "ipython",
        "version": 3
      },
      "file_extension": ".py",
      "mimetype": "text/x-python",
      "name": "python",
      "nbconvert_exporter": "python",
      "pygments_lexer": "ipython3",
      "version": "3.6.4"
    }
  },
  "nbformat": 4,
  "nbformat_minor": 0
}
