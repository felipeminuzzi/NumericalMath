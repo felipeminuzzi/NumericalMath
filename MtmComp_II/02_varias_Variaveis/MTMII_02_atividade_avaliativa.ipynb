{
 "cells": [
  {
   "cell_type": "markdown",
   "metadata": {},
   "source": [
    "# Matemática Computacional II\n",
    "- Prof. Felipe C. Minuzzi\n",
    "- felipe.minuzzi@ufsm.br\n",
    "\n",
    "## Atividade avaliativa\n",
    "### Funções de Várias Variáveis"
   ]
  },
  {
   "cell_type": "markdown",
   "metadata": {},
   "source": [
    "**Atividade 1:**\n",
    "\n",
    "Dada a função\n",
    "\n",
    "$$h(x,y)=x^2-2y^2,$$\n",
    "\n",
    "para $x\\in[-5, 5]$ e $y\\in[-5, 5]$, faça o que se pede:\n",
    "\n",
    " - (a) Determine a equação das curvas bidimensionais $z = f(y)$ obtidas da interseção do gráfico de $h$ com planos do tipo $x=k$ (escolha livremente os valores de $k$). Plote as curvas acima em um sistema de coordenadas tridimensional, para esses valores de $k$;\n",
    " - (b) Plote o gráfico tridimensional da função $h$ juntamente com suas projeções."
   ]
  },
  {
   "cell_type": "markdown",
   "metadata": {},
   "source": [
    "**Atividade 2**\n",
    "\n",
    "Desenvolva um algoritmo que permite iterar o método do aclive máximo, e encontre o máximo da função\n",
    "\n",
    "$$f(x,y) = 4x + 2y + x^2  - 2x^4 + 2xy - 3y^2 $$\n",
    "\n",
    "usando as aproximações iniciais $x_0 = 0$ e $y_0 = 0$. Use a bissecção para encontrar o tamanho do passo ótimo na direção de busca do gradiente.\n",
    "\n",
    "- Faça cinco iterações do método;\n",
    "- Faça o gráfico da superfície da função $f(x,y)$;\n",
    "- Faço o gráfico das curvas de nível com os vetores gradientes de cada passo."
   ]
  },
  {
   "cell_type": "code",
   "execution_count": null,
   "metadata": {
    "vscode": {
     "languageId": "plaintext"
    }
   },
   "outputs": [],
   "source": [
    "#codigo para exportar o arquivo em html, para poder salvar em pdf\n",
    "!jupyter nbconvert --to html /content/MTMII_02_atividade_avaliativa.ipynb"
   ]
  }
 ],
 "metadata": {
  "language_info": {
   "name": "python"
  }
 },
 "nbformat": 4,
 "nbformat_minor": 2
}
