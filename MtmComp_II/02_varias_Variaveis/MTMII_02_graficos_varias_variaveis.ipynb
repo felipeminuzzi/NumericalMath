{
  "cells": [
    {
      "cell_type": "markdown",
      "metadata": {
        "id": "UaRYv45c9SpV"
      },
      "source": [
        "# Matemática Computacional II\n",
        "- Prof. Felipe C. Minuzzi\n",
        "- felipe.minuzzi@ufsm.br\n",
        "\n",
        "## Visualização gráfica de funçoes de várias variáveis\n",
        "\n",
        "Uma função real de duas variáveis $f:\\mathbb R^2 \\rightarrow \\mathbb R$ associa a cada elemento $(x,y)$\n",
        "do domínio $D \\in \\mathbb R^2$ a um único elemento de $z \\in \\mathbb R$:\n",
        "\n",
        "$$(x, y)\\mapsto z.$$\n",
        "\n",
        "\n",
        "Há diversas formas de representar graficamente tais funções. Por exemplo, podemos plotar:\n",
        "\n",
        "1. Um **gráfico tridimensional**, dado por pontos $(x,y,z)$ do $\\mathbb R^3$, onde $z = f(x,y)$. Apesar de na maioria das vezes ser a representação mais clara da função, nem sempre é óbvio como construí-la.\n",
        "<br>\n",
        "\n",
        "2. Um gráfico bidimensional, formado por **curvas de nível**, onde cada curva representa um valor constante de $z$. Isto é, fazemos $z=k$ e plotamos o gráfico gerado por $f(x, y) = k$. Isso costuma ser mais simples, pois reduzimos o problema a apenas duas variáveis, o que nos é mais familiar.\n",
        "<br>\n",
        "\n",
        "3. Um **mapa bidimensional de cores**, onde cada os pontos do plano $xy$ são associados a cores que indicam diferentes valores de $z=f(x,y)$.\n",
        "\n",
        "\n",
        "<br><br>\n"
      ]
    },
    {
      "cell_type": "markdown",
      "metadata": {},
      "source": [
        "**Exemplo 1**\n",
        "\n",
        "A distância de um ponto $(x,y)$ do plano cartesiano até o ponto $(2,1)$ é dada pela função de duas variáveis \n",
        "\n",
        "$$d(x,y)=\\sqrt{(x-2)^2+(y-1)^2}.$$ \n",
        "\n",
        "Assim, o ponto $(5,3)$ dista do do ponto $(2,1)$ em\n",
        "\n",
        "$$d(5,3)=\\sqrt{(5-2)^2 + (3-1)^2} = \\sqrt{13}$$\n",
        "\n",
        "Podemos pensar em $d(5,3)=\\sqrt{13}$ como a cota, ou coordenada $z$ do ponto $(5,3,\\sqrt{13})$ no espaço $R^3$. Como $d(x,y)$ é uma função contínua, se tomarmos uma região retangular do $R^2$ a imagem de para essa regiçao será uma superfície do $R^3$.\n",
        "\n",
        "Vamos ver como visualizar graficamente essa função de duas variáveis de três maneiras diferentes."
      ]
    },
    {
      "cell_type": "code",
      "execution_count": null,
      "metadata": {},
      "outputs": [],
      "source": [
        "import numpy as np\n",
        "import matplotlib.pyplot as plt"
      ]
    },
    {
      "cell_type": "code",
      "execution_count": null,
      "metadata": {},
      "outputs": [],
      "source": [
        "x = np.linspace(0, 6, 21)\n",
        "y = np.linspace(0, 6, 21)\n",
        "xi, yi = np.meshgrid(x, y)\n",
        "\n",
        "d = lambda x,y: np.sqrt((x-2)**2 + (y-1)**2)\n",
        "\n",
        "fig = plt.figure(figsize=(20,5))\n",
        "\n",
        "ax = fig.add_subplot(131, projection='3d')\n",
        "ax.plot_surface(x, y, d(xi,yi), alpha=0.5)\n",
        "ax.plot_wireframe(x, y, d(xi,yi), lw=0.5, color='black')\n",
        "ax.view_init(20, 100)\n",
        "plt.title('Superfície 3d')\n",
        "\n",
        "ax = fig.add_subplot(132)\n",
        "plt.contourf(x, y, d(xi,yi), 10)\n",
        "plt.axis('scaled')\n",
        "plt.colorbar()\n",
        "plt.title('Mapa de cores')\n",
        "\n",
        "ax = fig.add_subplot(133)\n",
        "c = plt.contour(x, y, d(xi,yi),20, linewidths=0.5)\n",
        "plt.clabel(c, inline=2, fontsize=8)\n",
        "plt.axis('scaled')\n",
        "plt.title('Curvas de nível')\n",
        "plt.show()"
      ]
    },
    {
      "cell_type": "markdown",
      "metadata": {},
      "source": [
        "**Exemplo 2:**\n",
        "\n",
        "Nesse exemplo vamos representar graficamente a função \n",
        "\n",
        "$$z=f(x,y)=x^2+2y^2.$$ \n",
        "\n",
        "Para isso vamos gerar um conjunto de 21x21 pontos distribuidos em uma malha tal que $-10\\leq x \\leq10$ e $-10\\leq y \\leq10$. No primeiro gráfico vamos representar cada ponto calculado e também \n",
        "representar a superfície, que é o gráfico dessa função contínua. No segundo gráfico vamos representar o campo escalar por meio de curvas de nível."
      ]
    },
    {
      "cell_type": "code",
      "execution_count": null,
      "metadata": {},
      "outputs": [],
      "source": [
        "#cria a malha\n",
        "x = np.linspace(-10, 10, 21)\n",
        "y = np.linspace(-10, 10, 21)\n",
        "x, y = np.meshgrid(x, y)\n",
        "\n",
        "# define a função\n",
        "f = lambda x,y: x**2 - 2*y**2\n",
        "z = f(x,y)\n",
        "\n",
        "#cria a figura\n",
        "plt.figure(figsize=(8,8))\n",
        "\n",
        "# plota\n",
        "ax1 = fig.add_subplot(211)\n",
        "ax1 = plt.axes(projection=\"3d\")\n",
        "ax1.scatter3D(x, y, z,\n",
        "             alpha=0.7,\n",
        "             marker='.')\n",
        "ax1.plot_surface(x, y, z,\n",
        "                color='whitesmoke',\n",
        "                alpha=0.5)\n",
        "\n",
        "ax2 = fig.add_subplot(212)\n",
        "c = plt.contour(x, y, z, 10,\n",
        "            linewidths=0.5)\n",
        "plt.clabel(c, inline=2, fontsize=8)\n",
        "plt.show()"
      ]
    },
    {
      "cell_type": "markdown",
      "metadata": {},
      "source": [
        "**Exemplo 3:** \n",
        "\n",
        "Neste exemplo vamos visualizar uma matriz que contém dados em uma grade regular bidimensional de 16x16. Podemos pensar nesses dados como a temperatura de uma chapa metáliza aquecida por duas contes de calor. Nesse caso, o valor da temperatura depende da coordenada $(x,y)$. Dessa vez vamos combinar escala de cinzas com curvas de nível."
      ]
    },
    {
      "cell_type": "code",
      "execution_count": null,
      "metadata": {},
      "outputs": [],
      "source": [
        "T = np.array([\n",
        "[12,13,14,15,16,17,18,22,29,36,43,50,56,61,63,61],\n",
        "[12,12,13,15,16,16,17,22,28,35,42,49,54,59,61,56],\n",
        "[11,12,13,15,16,15,17,21,27,34,40,46,52,56,56,51],\n",
        "[11,12,14,15,15,15,16,19,25,31,38,44,48,52,52,47],\n",
        "[12,12,14,15,14,14,15,18,22,28,35,40,44,47,47,43],\n",
        "[13,14,15,13,13,14,15,16,18,23,30,36,39,41,41,39],\n",
        "[14,15,14,13,12,12,13,14,16,19,26,31,33,34,34,34],\n",
        "[14,15,14,14,13,13,13,13,14,16,21,24,25,25,26,27],\n",
        "[15,15,15,15,15,15,15,14,13,14,17,19,18,17,18,19],\n",
        "[15,16,17,17,16,16,16,16,14,14,15,15,15,16,16,16],\n",
        "[17,20,22,21,19,18,17,17,16,16,16,16,18,20,20,19],\n",
        "[21,25,27,27,24,21,20,19,19,18,19,22,25,28,28,27],\n",
        "[27,31,32,32,29,26,23,21,21,21,22,27,32,35,36,35],\n",
        "[31,35,37,36,34,30,26,24,23,24,26,32,38,42,44,43],\n",
        "[34,38,40,40,38,34,31,28,27,28,32,37,43,48,49,48],\n",
        "[34,38,42,43,42,40,37,34,34,35,39,43,48,52,53,50]],\n",
        "dtype = float)\n",
        "\n",
        "x = np.linspace(0, 15, 16)\n",
        "y = np.linspace(0, 30, 16)\n",
        "xi, yi = np.meshgrid(x, y)\n",
        "\n",
        "fig = plt.figure(figsize=(5,8))\n",
        "\n",
        "ax = fig.add_subplot(111)\n",
        "plt.contourf(x, y, T, 20, cmap=plt.cm.Greys)\n",
        "plt.colorbar()\n",
        "c = plt.contour(x, y, T,20, linewidths=0.5,colors='k')\n",
        "plt.clabel(c, inline=2, fontsize=6)\n",
        "plt.show()\n"
      ]
    },
    {
      "cell_type": "markdown",
      "metadata": {},
      "source": [
        "**Exemplo 4**\n",
        "Vamos considerar agora a distância de um ponto $(x,y,z)$ do espaço cartesiano até o ponto $(3,2,1)$. Então, temos a função de três variáveis \n",
        "\n",
        "$$d(x,y,z)=\\sqrt{(x-3)^2+(y-2)^2+(z-1)^2}.$$ \n",
        "\n",
        "Assim, o ponto $(4,2,3)$ dista do do ponto $(3,2,1)$ em\n",
        "\n",
        "$$d(4,3,2)=\\sqrt{(3-4)^2 + (2-2)^2 + (3-1)^2} = \\sqrt{2}$$\n",
        "\n",
        "Podemos pensar em $d(4,3,2)=\\sqrt{2}$ como a cota, ou coordenada $z$ do ponto $(4,3,\\sqrt{2})$ no espaço $R^3$. Como $d(x,y)$ é uma função contínua, se tomarmos um volume do $R^3$ na forma de um paralelepípedo, a imagem será um conjunto do $R^4$.\n",
        "\n",
        "A seguir vamos ver um exemplo de como criar um conjunto de pontos em uma grade regular do $R^3$, obter os valores da função e representar graficamente."
      ]
    },
    {
      "cell_type": "code",
      "execution_count": null,
      "metadata": {},
      "outputs": [],
      "source": [
        "z = np.linspace(0, 6, 11)\n",
        "x = np.linspace(0, 6, 11)\n",
        "y = np.linspace(0, 6, 11)\n",
        "xi, yi, zi = np.meshgrid(x, y, z)\n",
        "\n",
        "d = lambda x,y,z: np.sqrt((x-3)**2+\\\n",
        "                          (y-2)**2+\\\n",
        "                          (z-1)**2)\n",
        "# Creating figure\n",
        "fig = plt.figure()\n",
        "ax = plt.axes(projection=\"3d\")\n",
        "\n",
        "# Creating plot\n",
        "sc = ax.scatter3D(xi, yi, zi,\n",
        "                  c=d(xi,yi,zi),\n",
        "                  alpha=0.7, marker='.',\n",
        "                  cmap='hot')\n",
        "plt.colorbar(sc)\n",
        "plt.show()"
      ]
    },
    {
      "cell_type": "markdown",
      "metadata": {},
      "source": [
        "Podemos plotar mapa de cores para alturas específicas de $z$, e ter uma visualização 3D: "
      ]
    },
    {
      "cell_type": "code",
      "execution_count": null,
      "metadata": {},
      "outputs": [],
      "source": [
        "w = d(xi,yi,zi)\n",
        "\n",
        "fig = plt.figure()\n",
        "ax = fig.add_subplot(projection='3d')\n",
        "\n",
        "for z in [1,3,5]:\n",
        "    c = ax.contourf(xi[:,:,z], yi[:,:,z],\n",
        "                    w[:,:,z], 10,\n",
        "                    zdir='z', offset=z,\n",
        "                    cmap='hot')\n",
        "plt.colorbar(c)\n",
        "ax.set_zlim((0.,7))\n",
        "plt.show()"
      ]
    },
    {
      "cell_type": "markdown",
      "metadata": {},
      "source": [
        "Podemos criar uma visualização em que podemos manipular o gráfico, usando a biblioteca ``plotly``."
      ]
    },
    {
      "cell_type": "code",
      "execution_count": null,
      "metadata": {},
      "outputs": [],
      "source": [
        "import plotly.graph_objects as go\n",
        "\n",
        "x,y,z = np.mgrid[0:6:21j, 0:6:21j, 0:6:21j]\n",
        "\n",
        "# ellipsoid\n",
        "values = np.sqrt((x-3)**2+\\\n",
        "                 (y-2)**2+\\\n",
        "                 (z-1)**2)\n",
        "\n",
        "fig = go.Figure(data=go.Isosurface(\n",
        "    x=x.flatten(),\n",
        "    y=y.flatten(),\n",
        "    z=z.flatten(),\n",
        "    value=values.flatten(),\n",
        "    #opacity=0.9,\n",
        "    isomin=1,\n",
        "    isomax=6,\n",
        "    surface_count=10,\n",
        "    colorbar_nticks=10,\n",
        "    colorscale='Gray',\n",
        "    caps=dict(x_show=False, y_show=False)\n",
        "    ))\n",
        "fig.show()"
      ]
    },
    {
      "cell_type": "markdown",
      "metadata": {},
      "source": [
        "**Atividade 1:**\n",
        "\n",
        "\n",
        "\n",
        "Dada a função\n",
        "\n",
        "$$z=h(x,y)=x^2-2y^2,$$\n",
        "\n",
        "para $x\\in[-5, 5]$ e $y\\in[-5, 5]$, faça o que se pede:\n",
        "\n",
        " - (a) Determine a equação das curvas bidimensionais $z = f(y)$ obtidas da interseção do gráfico de $h$ com planos do tipo $x=k$ (escolha livremente os valores de $k$). Plote as curvas acima em um sistema de coordenadas tridimensional, para esses valores de $k$;\n",
        " - (b) Plote o gráfico tridimensional da função $h$ juntamente com suas projeções."
      ]
    }
  ],
  "metadata": {
    "colab": {
      "provenance": []
    },
    "kernelspec": {
      "display_name": "Python 3",
      "language": "python",
      "name": "python3"
    },
    "language_info": {
      "codemirror_mode": {
        "name": "ipython",
        "version": 3
      },
      "file_extension": ".py",
      "mimetype": "text/x-python",
      "name": "python",
      "nbconvert_exporter": "python",
      "pygments_lexer": "ipython3",
      "version": "3.8.3"
    }
  },
  "nbformat": 4,
  "nbformat_minor": 0
}
