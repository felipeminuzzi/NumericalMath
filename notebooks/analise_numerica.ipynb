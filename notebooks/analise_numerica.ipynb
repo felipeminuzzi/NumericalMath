{
 "cells": [
  {
   "cell_type": "markdown",
   "metadata": {},
   "source": [
    "# Códigos e exemplos numéricos da disciplina de Análise Numérica - 2024/01\n",
    "- Prof. Felipe C. Minuzzi\n",
    "- felipe.minuzzi@ufsm.br"
   ]
  },
  {
   "cell_type": "markdown",
   "metadata": {},
   "source": [
    "## Método de Euler"
   ]
  },
  {
   "cell_type": "code",
   "execution_count": 7,
   "metadata": {},
   "outputs": [
    {
     "name": "stdout",
     "output_type": "stream",
     "text": [
      "Requirement already satisfied: numpy in /home/minuzzi/anaconda3/envs/wave/lib/python3.12/site-packages (1.26.4)\n",
      "Requirement already satisfied: matplotlib in /home/minuzzi/anaconda3/envs/wave/lib/python3.12/site-packages (3.8.3)\n",
      "Requirement already satisfied: contourpy>=1.0.1 in /home/minuzzi/anaconda3/envs/wave/lib/python3.12/site-packages (from matplotlib) (1.2.0)\n",
      "Requirement already satisfied: cycler>=0.10 in /home/minuzzi/anaconda3/envs/wave/lib/python3.12/site-packages (from matplotlib) (0.12.1)\n",
      "Requirement already satisfied: fonttools>=4.22.0 in /home/minuzzi/anaconda3/envs/wave/lib/python3.12/site-packages (from matplotlib) (4.50.0)\n",
      "Requirement already satisfied: kiwisolver>=1.3.1 in /home/minuzzi/anaconda3/envs/wave/lib/python3.12/site-packages (from matplotlib) (1.4.5)\n",
      "Requirement already satisfied: numpy<2,>=1.21 in /home/minuzzi/anaconda3/envs/wave/lib/python3.12/site-packages (from matplotlib) (1.26.4)\n",
      "Requirement already satisfied: packaging>=20.0 in /home/minuzzi/anaconda3/envs/wave/lib/python3.12/site-packages (from matplotlib) (24.0)\n",
      "Requirement already satisfied: pillow>=8 in /home/minuzzi/anaconda3/envs/wave/lib/python3.12/site-packages (from matplotlib) (10.2.0)\n",
      "Requirement already satisfied: pyparsing>=2.3.1 in /home/minuzzi/anaconda3/envs/wave/lib/python3.12/site-packages (from matplotlib) (3.1.2)\n",
      "Requirement already satisfied: python-dateutil>=2.7 in /home/minuzzi/anaconda3/envs/wave/lib/python3.12/site-packages (from matplotlib) (2.9.0)\n",
      "Requirement already satisfied: six>=1.5 in /home/minuzzi/anaconda3/envs/wave/lib/python3.12/site-packages (from python-dateutil>=2.7->matplotlib) (1.16.0)\n"
     ]
    },
    {
     "data": {
      "text/plain": [
       "[0.5,\n",
       " 0.8,\n",
       " 1.1501234567901235,\n",
       " 1.540641975308642,\n",
       " 1.9598814814814816,\n",
       " 2.393833086419753,\n",
       " 2.82568612345679,\n",
       " 3.2352677925925923,\n",
       " 3.5983707338271604,\n",
       " 3.8859461151604937]"
      ]
     },
     "execution_count": 7,
     "metadata": {},
     "output_type": "execute_result"
    }
   ],
   "source": [
    "#solução numérica de y' = y - t^2 +1, y(0) = 1/2\n",
    "import numpy as np\n",
    "import matplotlib.pyplot as plt\n",
    "\n",
    "\n",
    "y_real = lambda t: (t+1)**2 - 0.5*np.exp(t)\n",
    "\n",
    "def euler(a,b,N,f,y0):\n",
    "    dominio = np.linspace(a,b,N)\n",
    "    h = (b-a)/N\n",
    "\n",
    "    y_numerico = []\n",
    "    y_numerico.append(y0)\n",
    "    for i in range(1,len(dominio)):\n",
    "        y_novo = y0 + h*f(dominio[i-1], y0)\n",
    "        y_numerico.append(y_novo)\n",
    "        y0 = y_novo\n",
    "    return y_numerico\n",
    "\n",
    "f = lambda t,y: y - t**2 + 1\n",
    "euler(0,2,10,f,0.5)"
   ]
  },
  {
   "cell_type": "code",
   "execution_count": null,
   "metadata": {},
   "outputs": [],
   "source": []
  }
 ],
 "metadata": {
  "kernelspec": {
   "display_name": "wave",
   "language": "python",
   "name": "python3"
  },
  "language_info": {
   "codemirror_mode": {
    "name": "ipython",
    "version": 3
   },
   "file_extension": ".py",
   "mimetype": "text/x-python",
   "name": "python",
   "nbconvert_exporter": "python",
   "pygments_lexer": "ipython3",
   "version": "3.12.2"
  }
 },
 "nbformat": 4,
 "nbformat_minor": 2
}
